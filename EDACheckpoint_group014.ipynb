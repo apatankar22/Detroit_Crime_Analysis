{
 "cells": [
  {
   "cell_type": "markdown",
   "metadata": {},
   "source": [
    "# COGS 108 - EDA Checkpoint"
   ]
  },
  {
   "cell_type": "markdown",
   "metadata": {},
   "source": [
    "# Names\n",
    "- Zhenyi Chen\n",
    "- Alison Camille Dunning\n",
    "- Matthieu Dante Pardin\n",
    "- Amogh Patankar"
   ]
  },
  {
   "cell_type": "markdown",
   "metadata": {},
   "source": [
    "<a id='research_question'></a>\n",
    "# Research Question"
   ]
  },
  {
   "cell_type": "markdown",
   "metadata": {},
   "source": [
    "Which neighborhoods in the City of Detroit had the most crime in 2011-2014? Can we attribute relative crime rates to factors such as the presence of storm prevention infrastructure, government protection, or policing? Do any of these factors contribute to a certain *kind* of crime?"
   ]
  },
  {
   "cell_type": "markdown",
   "metadata": {},
   "source": [
    "# Dataset(s)"
   ]
  },
  {
   "cell_type": "markdown",
   "metadata": {},
   "source": [
    "*We are given several datasets from the City of Detroit. Our \"main\" dataset consists of crime information from 2011-2014. We use supplementary datasets containing information about police scouting, green stormwater infrastructure locations, and Master Plan neighboods. We will be examining the relationship between these supplemental city plans/policies and crime. We will do this by comparing different neighborhoods, as the neighborhoods vary by crime rates, type of crime, as well as the factors addressed in the supplementary datasets. Thus, we will be combining the datasets based on the different **neighborhoods**, and for policing analysis, **precincts**.*"
   ]
  },
  {
   "cell_type": "markdown",
   "metadata": {},
   "source": [
    "### **Dataset 1: Reported Major Crimes from 2011 to 2014**"
   ]
  },
  {
   "cell_type": "markdown",
   "metadata": {},
   "source": [
    "- Link: https://data.detroitmi.gov/datasets/reported-major-crimes-2011-to-2014\n",
    "- Number of observations: 234948\n",
    "- Description: This dataset contains reported major crimes from 2011 to 2014 with categories such as stolen vehicle, aggravated assault, larceny, burglary, robbery, and homicide. And each observation has the record of crime_category, date, neighborhood, precinct, latitude, and longitude."
   ]
  },
  {
   "cell_type": "markdown",
   "metadata": {},
   "source": [
    "### Dataset 2: DPD Scout Car Areas"
   ]
  },
  {
   "cell_type": "markdown",
   "metadata": {},
   "source": [
    "- Link: https://data.detroitmi.gov/datasets/dpd-scout-car-areas\n",
    "- Number of observations: 131\n",
    "- Description: This dataset contains the Detroit Police Department scout car records with covered area(precinct)."
   ]
  },
  {
   "cell_type": "markdown",
   "metadata": {},
   "source": [
    "### Dataset 3: Green Stormwater Infrastructure Locations"
   ]
  },
  {
   "cell_type": "markdown",
   "metadata": {},
   "source": [
    "- Link: https://data.ferndalemi.gov/datasets/a3c583dcd57e40e2a9719b19e80226df_0\n",
    "- Number of observations: 233\n",
    "- Description: This dataset contains the green stromwater infrastructure locatoins with asset_category, latitude and longtitude of the installation, neighborhood's name and district number."
   ]
  },
  {
   "cell_type": "markdown",
   "metadata": {},
   "source": [
    "### Dataset 4: Master Plan Neighborhoods"
   ]
  },
  {
   "cell_type": "markdown",
   "metadata": {},
   "source": [
    "- Link: https://data.detroitmi.gov/datasets/master-plan-neighborhoods?geometry=-83.979%2C42.264%2C-82.222%2C42.442\n",
    "- Number of observations: 54\n",
    "- Description: This dataset ontains the master plan neightborhoods with neighborhoods' names, cluster, map numbers, map pages and the length and area of the neighborhoods."
   ]
  },
  {
   "cell_type": "markdown",
   "metadata": {},
   "source": [
    "# Setup"
   ]
  },
  {
   "cell_type": "code",
   "execution_count": 2,
   "metadata": {},
   "outputs": [],
   "source": [
    "## YOUR CODE HERE\n",
    "import matplotlib.pyplot as plt\n",
    "import numpy as np\n",
    "import pandas as pd\n",
    "import re\n",
    "import seaborn as sns\n",
    "\n",
    "sns.set_context('notebook', font_scale=1.5, rc={'lines.linewidth': 2.5})\n",
    "sns.set_style('darkgrid')"
   ]
  },
  {
   "cell_type": "markdown",
   "metadata": {},
   "source": [
    "# Data Cleaning\n",
    "## Cleaning Individual Datasets\n",
    "Before merging all the datasets, we will conduct cleaning procedures for each individual dataset."
   ]
  },
  {
   "cell_type": "markdown",
   "metadata": {},
   "source": [
    "### Crime Dataset"
   ]
  },
  {
   "cell_type": "code",
   "execution_count": 3,
   "metadata": {
    "scrolled": true
   },
   "outputs": [
    {
     "data": {
      "text/html": [
       "<div>\n",
       "<style scoped>\n",
       "    .dataframe tbody tr th:only-of-type {\n",
       "        vertical-align: middle;\n",
       "    }\n",
       "\n",
       "    .dataframe tbody tr th {\n",
       "        vertical-align: top;\n",
       "    }\n",
       "\n",
       "    .dataframe thead th {\n",
       "        text-align: right;\n",
       "    }\n",
       "</style>\n",
       "<table border=\"1\" class=\"dataframe\">\n",
       "  <thead>\n",
       "    <tr style=\"text-align: right;\">\n",
       "      <th></th>\n",
       "      <th>ROWNUM</th>\n",
       "      <th>CATEGORY</th>\n",
       "      <th>OFFENSEDESCRIPTION</th>\n",
       "      <th>STATEOFFENSEFILECLASS</th>\n",
       "      <th>INCIDENTDATE</th>\n",
       "      <th>HOUR</th>\n",
       "      <th>SCA</th>\n",
       "      <th>PRECINCT</th>\n",
       "      <th>NEIGHBORHOOD</th>\n",
       "      <th>CENSUSTRACT</th>\n",
       "      <th>LOCATION</th>\n",
       "      <th>ObjectId</th>\n",
       "    </tr>\n",
       "  </thead>\n",
       "  <tbody>\n",
       "    <tr>\n",
       "      <th>0</th>\n",
       "      <td>1311873</td>\n",
       "      <td>STOLEN VEHICLE</td>\n",
       "      <td>VEHICLE THEFT</td>\n",
       "      <td>24001</td>\n",
       "      <td>2011/01/02 00:00:00+00</td>\n",
       "      <td>0</td>\n",
       "      <td>1103.0</td>\n",
       "      <td>11.0</td>\n",
       "      <td>PERSHING</td>\n",
       "      <td>5066.0</td>\n",
       "      <td>00 EUREKA/E LANTZ\\n(42.4382, -83.0579)</td>\n",
       "      <td>1</td>\n",
       "    </tr>\n",
       "    <tr>\n",
       "      <th>1</th>\n",
       "      <td>1311874</td>\n",
       "      <td>AGGRAVATED ASSAULT</td>\n",
       "      <td>AGG/FEL ASSAULT - NON-FAMILY - OTHER WEAPON</td>\n",
       "      <td>13002</td>\n",
       "      <td>2011/01/02 00:00:00+00</td>\n",
       "      <td>11</td>\n",
       "      <td>709.0</td>\n",
       "      <td>7.0</td>\n",
       "      <td>LAFAYETTE PARK</td>\n",
       "      <td>5166.0</td>\n",
       "      <td>E.LAFAYETTE01800\\n(42.3394, -83.0295)</td>\n",
       "      <td>2</td>\n",
       "    </tr>\n",
       "    <tr>\n",
       "      <th>2</th>\n",
       "      <td>1311878</td>\n",
       "      <td>LARCENY</td>\n",
       "      <td>LARCENY - FROM BUILDING (INCLUDES LIBRARY, OFF...</td>\n",
       "      <td>23003</td>\n",
       "      <td>2011/01/02 00:00:00+00</td>\n",
       "      <td>11</td>\n",
       "      <td>1105.0</td>\n",
       "      <td>11.0</td>\n",
       "      <td>OUTER DRIVE VAN DYKE</td>\n",
       "      <td>5051.0</td>\n",
       "      <td>VANDYKE19900\\n(42.4415, -83.0238)</td>\n",
       "      <td>3</td>\n",
       "    </tr>\n",
       "    <tr>\n",
       "      <th>3</th>\n",
       "      <td>1311879</td>\n",
       "      <td>LARCENY</td>\n",
       "      <td>LARCENY (OTHER)</td>\n",
       "      <td>23007</td>\n",
       "      <td>2011/01/01 00:00:00+00</td>\n",
       "      <td>20</td>\n",
       "      <td>706.0</td>\n",
       "      <td>7.0</td>\n",
       "      <td>CHENE</td>\n",
       "      <td>5188.0</td>\n",
       "      <td>JOS CAMPAU04100\\n(42.3606, -83.0339)</td>\n",
       "      <td>4</td>\n",
       "    </tr>\n",
       "    <tr>\n",
       "      <th>4</th>\n",
       "      <td>1311883</td>\n",
       "      <td>STOLEN VEHICLE</td>\n",
       "      <td>VEHICLE THEFT</td>\n",
       "      <td>24001</td>\n",
       "      <td>2011/01/02 00:00:00+00</td>\n",
       "      <td>3</td>\n",
       "      <td>612.0</td>\n",
       "      <td>6.0</td>\n",
       "      <td>WARRENDALE</td>\n",
       "      <td>5457.0</td>\n",
       "      <td>PIEDMONT06000\\n(42.3328, -83.228)</td>\n",
       "      <td>5</td>\n",
       "    </tr>\n",
       "  </tbody>\n",
       "</table>\n",
       "</div>"
      ],
      "text/plain": [
       "    ROWNUM            CATEGORY  \\\n",
       "0  1311873      STOLEN VEHICLE   \n",
       "1  1311874  AGGRAVATED ASSAULT   \n",
       "2  1311878             LARCENY   \n",
       "3  1311879             LARCENY   \n",
       "4  1311883      STOLEN VEHICLE   \n",
       "\n",
       "                                  OFFENSEDESCRIPTION  STATEOFFENSEFILECLASS  \\\n",
       "0                                      VEHICLE THEFT                  24001   \n",
       "1        AGG/FEL ASSAULT - NON-FAMILY - OTHER WEAPON                  13002   \n",
       "2  LARCENY - FROM BUILDING (INCLUDES LIBRARY, OFF...                  23003   \n",
       "3                                    LARCENY (OTHER)                  23007   \n",
       "4                                      VEHICLE THEFT                  24001   \n",
       "\n",
       "             INCIDENTDATE  HOUR     SCA  PRECINCT          NEIGHBORHOOD  \\\n",
       "0  2011/01/02 00:00:00+00     0  1103.0      11.0              PERSHING   \n",
       "1  2011/01/02 00:00:00+00    11   709.0       7.0        LAFAYETTE PARK   \n",
       "2  2011/01/02 00:00:00+00    11  1105.0      11.0  OUTER DRIVE VAN DYKE   \n",
       "3  2011/01/01 00:00:00+00    20   706.0       7.0                 CHENE   \n",
       "4  2011/01/02 00:00:00+00     3   612.0       6.0            WARRENDALE   \n",
       "\n",
       "   CENSUSTRACT                                LOCATION  ObjectId  \n",
       "0       5066.0  00 EUREKA/E LANTZ\\n(42.4382, -83.0579)         1  \n",
       "1       5166.0   E.LAFAYETTE01800\\n(42.3394, -83.0295)         2  \n",
       "2       5051.0       VANDYKE19900\\n(42.4415, -83.0238)         3  \n",
       "3       5188.0    JOS CAMPAU04100\\n(42.3606, -83.0339)         4  \n",
       "4       5457.0       PIEDMONT06000\\n(42.3328, -83.228)         5  "
      ]
     },
     "execution_count": 3,
     "metadata": {},
     "output_type": "execute_result"
    }
   ],
   "source": [
    "crime = pd.read_csv('data/Reported_Major_Crimes_2011_to_2014.csv')\n",
    "crime.head()"
   ]
  },
  {
   "cell_type": "code",
   "execution_count": 4,
   "metadata": {
    "scrolled": true
   },
   "outputs": [
    {
     "data": {
      "text/plain": [
       "array(['2011/01/02 00:00:00+00', '2011/01/01 00:00:00+00',\n",
       "       '2011/01/03 00:00:00+00', ..., '2014/12/25 00:00:00+00',\n",
       "       '2014/12/30 00:00:00+00', '2014/12/29 00:00:00+00'], dtype=object)"
      ]
     },
     "execution_count": 4,
     "metadata": {},
     "output_type": "execute_result"
    }
   ],
   "source": [
    "crime['INCIDENTDATE'].unique()"
   ]
  },
  {
   "cell_type": "code",
   "execution_count": 5,
   "metadata": {},
   "outputs": [
    {
     "data": {
      "text/html": [
       "<div>\n",
       "<style scoped>\n",
       "    .dataframe tbody tr th:only-of-type {\n",
       "        vertical-align: middle;\n",
       "    }\n",
       "\n",
       "    .dataframe tbody tr th {\n",
       "        vertical-align: top;\n",
       "    }\n",
       "\n",
       "    .dataframe thead th {\n",
       "        text-align: right;\n",
       "    }\n",
       "</style>\n",
       "<table border=\"1\" class=\"dataframe\">\n",
       "  <thead>\n",
       "    <tr style=\"text-align: right;\">\n",
       "      <th></th>\n",
       "      <th>ROWNUM</th>\n",
       "      <th>CATEGORY</th>\n",
       "      <th>OFFENSEDESCRIPTION</th>\n",
       "      <th>STATEOFFENSEFILECLASS</th>\n",
       "      <th>INCIDENTDATE</th>\n",
       "      <th>HOUR</th>\n",
       "      <th>SCA</th>\n",
       "      <th>PRECINCT</th>\n",
       "      <th>NEIGHBORHOOD</th>\n",
       "      <th>CENSUSTRACT</th>\n",
       "      <th>LOCATION</th>\n",
       "      <th>ObjectId</th>\n",
       "    </tr>\n",
       "  </thead>\n",
       "  <tbody>\n",
       "    <tr>\n",
       "      <th>0</th>\n",
       "      <td>1311873</td>\n",
       "      <td>STOLEN VEHICLE</td>\n",
       "      <td>VEHICLE THEFT</td>\n",
       "      <td>24001</td>\n",
       "      <td>2011/01</td>\n",
       "      <td>0</td>\n",
       "      <td>1103.0</td>\n",
       "      <td>11.0</td>\n",
       "      <td>PERSHING</td>\n",
       "      <td>5066.0</td>\n",
       "      <td>00 EUREKA/E LANTZ\\n(42.4382, -83.0579)</td>\n",
       "      <td>1</td>\n",
       "    </tr>\n",
       "    <tr>\n",
       "      <th>1</th>\n",
       "      <td>1311874</td>\n",
       "      <td>AGGRAVATED ASSAULT</td>\n",
       "      <td>AGG/FEL ASSAULT - NON-FAMILY - OTHER WEAPON</td>\n",
       "      <td>13002</td>\n",
       "      <td>2011/01</td>\n",
       "      <td>11</td>\n",
       "      <td>709.0</td>\n",
       "      <td>7.0</td>\n",
       "      <td>LAFAYETTE PARK</td>\n",
       "      <td>5166.0</td>\n",
       "      <td>E.LAFAYETTE01800\\n(42.3394, -83.0295)</td>\n",
       "      <td>2</td>\n",
       "    </tr>\n",
       "    <tr>\n",
       "      <th>2</th>\n",
       "      <td>1311878</td>\n",
       "      <td>LARCENY</td>\n",
       "      <td>LARCENY - FROM BUILDING (INCLUDES LIBRARY, OFF...</td>\n",
       "      <td>23003</td>\n",
       "      <td>2011/01</td>\n",
       "      <td>11</td>\n",
       "      <td>1105.0</td>\n",
       "      <td>11.0</td>\n",
       "      <td>OUTER DRIVE VAN DYKE</td>\n",
       "      <td>5051.0</td>\n",
       "      <td>VANDYKE19900\\n(42.4415, -83.0238)</td>\n",
       "      <td>3</td>\n",
       "    </tr>\n",
       "    <tr>\n",
       "      <th>3</th>\n",
       "      <td>1311879</td>\n",
       "      <td>LARCENY</td>\n",
       "      <td>LARCENY (OTHER)</td>\n",
       "      <td>23007</td>\n",
       "      <td>2011/01</td>\n",
       "      <td>20</td>\n",
       "      <td>706.0</td>\n",
       "      <td>7.0</td>\n",
       "      <td>CHENE</td>\n",
       "      <td>5188.0</td>\n",
       "      <td>JOS CAMPAU04100\\n(42.3606, -83.0339)</td>\n",
       "      <td>4</td>\n",
       "    </tr>\n",
       "    <tr>\n",
       "      <th>4</th>\n",
       "      <td>1311883</td>\n",
       "      <td>STOLEN VEHICLE</td>\n",
       "      <td>VEHICLE THEFT</td>\n",
       "      <td>24001</td>\n",
       "      <td>2011/01</td>\n",
       "      <td>3</td>\n",
       "      <td>612.0</td>\n",
       "      <td>6.0</td>\n",
       "      <td>WARRENDALE</td>\n",
       "      <td>5457.0</td>\n",
       "      <td>PIEDMONT06000\\n(42.3328, -83.228)</td>\n",
       "      <td>5</td>\n",
       "    </tr>\n",
       "  </tbody>\n",
       "</table>\n",
       "</div>"
      ],
      "text/plain": [
       "    ROWNUM            CATEGORY  \\\n",
       "0  1311873      STOLEN VEHICLE   \n",
       "1  1311874  AGGRAVATED ASSAULT   \n",
       "2  1311878             LARCENY   \n",
       "3  1311879             LARCENY   \n",
       "4  1311883      STOLEN VEHICLE   \n",
       "\n",
       "                                  OFFENSEDESCRIPTION  STATEOFFENSEFILECLASS  \\\n",
       "0                                      VEHICLE THEFT                  24001   \n",
       "1        AGG/FEL ASSAULT - NON-FAMILY - OTHER WEAPON                  13002   \n",
       "2  LARCENY - FROM BUILDING (INCLUDES LIBRARY, OFF...                  23003   \n",
       "3                                    LARCENY (OTHER)                  23007   \n",
       "4                                      VEHICLE THEFT                  24001   \n",
       "\n",
       "  INCIDENTDATE  HOUR     SCA  PRECINCT          NEIGHBORHOOD  CENSUSTRACT  \\\n",
       "0      2011/01     0  1103.0      11.0              PERSHING       5066.0   \n",
       "1      2011/01    11   709.0       7.0        LAFAYETTE PARK       5166.0   \n",
       "2      2011/01    11  1105.0      11.0  OUTER DRIVE VAN DYKE       5051.0   \n",
       "3      2011/01    20   706.0       7.0                 CHENE       5188.0   \n",
       "4      2011/01     3   612.0       6.0            WARRENDALE       5457.0   \n",
       "\n",
       "                                 LOCATION  ObjectId  \n",
       "0  00 EUREKA/E LANTZ\\n(42.4382, -83.0579)         1  \n",
       "1   E.LAFAYETTE01800\\n(42.3394, -83.0295)         2  \n",
       "2       VANDYKE19900\\n(42.4415, -83.0238)         3  \n",
       "3    JOS CAMPAU04100\\n(42.3606, -83.0339)         4  \n",
       "4       PIEDMONT06000\\n(42.3328, -83.228)         5  "
      ]
     },
     "execution_count": 5,
     "metadata": {},
     "output_type": "execute_result"
    }
   ],
   "source": [
    "crime['INCIDENTDATE'] = crime['INCIDENTDATE'].astype(str).str[:7]\n",
    "crime.head()"
   ]
  },
  {
   "cell_type": "code",
   "execution_count": 6,
   "metadata": {},
   "outputs": [
    {
     "data": {
      "text/plain": [
       "(234978, 12)"
      ]
     },
     "execution_count": 6,
     "metadata": {},
     "output_type": "execute_result"
    }
   ],
   "source": [
    "crime.shape"
   ]
  },
  {
   "cell_type": "code",
   "execution_count": 7,
   "metadata": {},
   "outputs": [
    {
     "data": {
      "text/plain": [
       "ROWNUM                     int64\n",
       "CATEGORY                  object\n",
       "OFFENSEDESCRIPTION        object\n",
       "STATEOFFENSEFILECLASS      int64\n",
       "INCIDENTDATE              object\n",
       "HOUR                       int64\n",
       "SCA                      float64\n",
       "PRECINCT                 float64\n",
       "NEIGHBORHOOD              object\n",
       "CENSUSTRACT              float64\n",
       "LOCATION                  object\n",
       "ObjectId                   int64\n",
       "dtype: object"
      ]
     },
     "execution_count": 7,
     "metadata": {},
     "output_type": "execute_result"
    }
   ],
   "source": [
    "crime.dtypes"
   ]
  },
  {
   "cell_type": "markdown",
   "metadata": {},
   "source": [
    "#### Selecting Columns\n",
    "We'll begin cleaning this dataset by extracting columns that we will for sure need in our analysis and to merge this dataset with the others. The only columns we will need are crime category, as we may want to analyze the policy-driven factors behind each type of crime. We will also need `Neighborhood` as this will be our primary merging key, as well as `Location`. We'll also convert the column names to snake case for consistency. \n",
    "\n",
    "Here are the columns we'll be keeping:\n",
    "- `CATEGORY`\n",
    "- `DATE`\n",
    "- `NEIGHBORHOOD`\n",
    "- `LOCATION`\n",
    "- `PRECINCT`\n",
    "\n",
    "Our dataset will be much simpler."
   ]
  },
  {
   "cell_type": "code",
   "execution_count": 8,
   "metadata": {},
   "outputs": [
    {
     "data": {
      "text/html": [
       "<div>\n",
       "<style scoped>\n",
       "    .dataframe tbody tr th:only-of-type {\n",
       "        vertical-align: middle;\n",
       "    }\n",
       "\n",
       "    .dataframe tbody tr th {\n",
       "        vertical-align: top;\n",
       "    }\n",
       "\n",
       "    .dataframe thead th {\n",
       "        text-align: right;\n",
       "    }\n",
       "</style>\n",
       "<table border=\"1\" class=\"dataframe\">\n",
       "  <thead>\n",
       "    <tr style=\"text-align: right;\">\n",
       "      <th></th>\n",
       "      <th>crime_category</th>\n",
       "      <th>date</th>\n",
       "      <th>neighborhood</th>\n",
       "      <th>location</th>\n",
       "      <th>precinct</th>\n",
       "    </tr>\n",
       "  </thead>\n",
       "  <tbody>\n",
       "    <tr>\n",
       "      <th>0</th>\n",
       "      <td>STOLEN VEHICLE</td>\n",
       "      <td>2011/01</td>\n",
       "      <td>PERSHING</td>\n",
       "      <td>00 EUREKA/E LANTZ\\n(42.4382, -83.0579)</td>\n",
       "      <td>11.0</td>\n",
       "    </tr>\n",
       "    <tr>\n",
       "      <th>1</th>\n",
       "      <td>AGGRAVATED ASSAULT</td>\n",
       "      <td>2011/01</td>\n",
       "      <td>LAFAYETTE PARK</td>\n",
       "      <td>E.LAFAYETTE01800\\n(42.3394, -83.0295)</td>\n",
       "      <td>7.0</td>\n",
       "    </tr>\n",
       "    <tr>\n",
       "      <th>2</th>\n",
       "      <td>LARCENY</td>\n",
       "      <td>2011/01</td>\n",
       "      <td>OUTER DRIVE VAN DYKE</td>\n",
       "      <td>VANDYKE19900\\n(42.4415, -83.0238)</td>\n",
       "      <td>11.0</td>\n",
       "    </tr>\n",
       "    <tr>\n",
       "      <th>3</th>\n",
       "      <td>LARCENY</td>\n",
       "      <td>2011/01</td>\n",
       "      <td>CHENE</td>\n",
       "      <td>JOS CAMPAU04100\\n(42.3606, -83.0339)</td>\n",
       "      <td>7.0</td>\n",
       "    </tr>\n",
       "    <tr>\n",
       "      <th>4</th>\n",
       "      <td>STOLEN VEHICLE</td>\n",
       "      <td>2011/01</td>\n",
       "      <td>WARRENDALE</td>\n",
       "      <td>PIEDMONT06000\\n(42.3328, -83.228)</td>\n",
       "      <td>6.0</td>\n",
       "    </tr>\n",
       "  </tbody>\n",
       "</table>\n",
       "</div>"
      ],
      "text/plain": [
       "       crime_category     date          neighborhood  \\\n",
       "0      STOLEN VEHICLE  2011/01              PERSHING   \n",
       "1  AGGRAVATED ASSAULT  2011/01        LAFAYETTE PARK   \n",
       "2             LARCENY  2011/01  OUTER DRIVE VAN DYKE   \n",
       "3             LARCENY  2011/01                 CHENE   \n",
       "4      STOLEN VEHICLE  2011/01            WARRENDALE   \n",
       "\n",
       "                                 location  precinct  \n",
       "0  00 EUREKA/E LANTZ\\n(42.4382, -83.0579)      11.0  \n",
       "1   E.LAFAYETTE01800\\n(42.3394, -83.0295)       7.0  \n",
       "2       VANDYKE19900\\n(42.4415, -83.0238)      11.0  \n",
       "3    JOS CAMPAU04100\\n(42.3606, -83.0339)       7.0  \n",
       "4       PIEDMONT06000\\n(42.3328, -83.228)       6.0  "
      ]
     },
     "execution_count": 8,
     "metadata": {},
     "output_type": "execute_result"
    }
   ],
   "source": [
    "crime = crime[['CATEGORY','INCIDENTDATE', 'NEIGHBORHOOD', 'LOCATION', 'PRECINCT']].rename(\n",
    "    columns={\n",
    "        'CATEGORY': 'crime_category', \n",
    "        'INCIDENTDATE': 'date',\n",
    "        'NEIGHBORHOOD': 'neighborhood', \n",
    "        'LOCATION': 'location',\n",
    "        'PRECINCT': 'precinct'\n",
    "    })\n",
    "crime.head()"
   ]
  },
  {
   "cell_type": "markdown",
   "metadata": {},
   "source": [
    "#### Cleaning `neighborhood`\n",
    "This is the main variable we will be examining in this project."
   ]
  },
  {
   "cell_type": "code",
   "execution_count": 9,
   "metadata": {},
   "outputs": [],
   "source": [
    "# Convert the case of neighborhood for easier merging\n",
    "crime['neighborhood'] = crime['neighborhood'].str.title()"
   ]
  },
  {
   "cell_type": "markdown",
   "metadata": {},
   "source": [
    "#### Cleaning `Location`\n",
    "The first two columns we have are both pretty clean. However, `Location` is formatted strangely. Furthermore, we won't need alphabetical characters in the column, as we are only interested in the latitude and longitude values. We will clean this column by removing the text before the latitude and longitude coordinates as well as putting the two coordinates in separate columns. For removing the unnecessary bits of text, we will utilize regular expressions (courtesy of the `re` library)."
   ]
  },
  {
   "cell_type": "code",
   "execution_count": 10,
   "metadata": {},
   "outputs": [
    {
     "data": {
      "text/html": [
       "<div>\n",
       "<style scoped>\n",
       "    .dataframe tbody tr th:only-of-type {\n",
       "        vertical-align: middle;\n",
       "    }\n",
       "\n",
       "    .dataframe tbody tr th {\n",
       "        vertical-align: top;\n",
       "    }\n",
       "\n",
       "    .dataframe thead th {\n",
       "        text-align: right;\n",
       "    }\n",
       "</style>\n",
       "<table border=\"1\" class=\"dataframe\">\n",
       "  <thead>\n",
       "    <tr style=\"text-align: right;\">\n",
       "      <th></th>\n",
       "      <th>crime_category</th>\n",
       "      <th>date</th>\n",
       "      <th>neighborhood</th>\n",
       "      <th>precinct</th>\n",
       "      <th>latitude</th>\n",
       "      <th>longitude</th>\n",
       "    </tr>\n",
       "  </thead>\n",
       "  <tbody>\n",
       "    <tr>\n",
       "      <th>0</th>\n",
       "      <td>STOLEN VEHICLE</td>\n",
       "      <td>2011/01</td>\n",
       "      <td>Pershing</td>\n",
       "      <td>11.0</td>\n",
       "      <td>42.4382</td>\n",
       "      <td>83.0579</td>\n",
       "    </tr>\n",
       "    <tr>\n",
       "      <th>1</th>\n",
       "      <td>AGGRAVATED ASSAULT</td>\n",
       "      <td>2011/01</td>\n",
       "      <td>Lafayette Park</td>\n",
       "      <td>7.0</td>\n",
       "      <td>42.3394</td>\n",
       "      <td>83.0295</td>\n",
       "    </tr>\n",
       "    <tr>\n",
       "      <th>2</th>\n",
       "      <td>LARCENY</td>\n",
       "      <td>2011/01</td>\n",
       "      <td>Outer Drive Van Dyke</td>\n",
       "      <td>11.0</td>\n",
       "      <td>42.4415</td>\n",
       "      <td>83.0238</td>\n",
       "    </tr>\n",
       "    <tr>\n",
       "      <th>3</th>\n",
       "      <td>LARCENY</td>\n",
       "      <td>2011/01</td>\n",
       "      <td>Chene</td>\n",
       "      <td>7.0</td>\n",
       "      <td>42.3606</td>\n",
       "      <td>83.0339</td>\n",
       "    </tr>\n",
       "    <tr>\n",
       "      <th>4</th>\n",
       "      <td>STOLEN VEHICLE</td>\n",
       "      <td>2011/01</td>\n",
       "      <td>Warrendale</td>\n",
       "      <td>6.0</td>\n",
       "      <td>42.3328</td>\n",
       "      <td>83.2280</td>\n",
       "    </tr>\n",
       "  </tbody>\n",
       "</table>\n",
       "</div>"
      ],
      "text/plain": [
       "       crime_category     date          neighborhood  precinct  latitude  \\\n",
       "0      STOLEN VEHICLE  2011/01              Pershing      11.0   42.4382   \n",
       "1  AGGRAVATED ASSAULT  2011/01        Lafayette Park       7.0   42.3394   \n",
       "2             LARCENY  2011/01  Outer Drive Van Dyke      11.0   42.4415   \n",
       "3             LARCENY  2011/01                 Chene       7.0   42.3606   \n",
       "4      STOLEN VEHICLE  2011/01            Warrendale       6.0   42.3328   \n",
       "\n",
       "   longitude  \n",
       "0    83.0579  \n",
       "1    83.0295  \n",
       "2    83.0238  \n",
       "3    83.0339  \n",
       "4    83.2280  "
      ]
     },
     "execution_count": 10,
     "metadata": {},
     "output_type": "execute_result"
    }
   ],
   "source": [
    "# Removing everything before parentheses indicating latitude-longitude tuple\n",
    "crime['location'] = crime['location'].apply(lambda x: re.sub('^[^\\(]+', '', x)).str.strip()\n",
    "\n",
    "# Get list of only numbers in the location column\n",
    "crime['location'] = crime['location'].apply(lambda x: re.findall(r'\\d+\\.\\d+', x))\n",
    "\n",
    "# Separate into latitude and longitude columns\n",
    "crime = pd.concat([\n",
    "    crime, pd.DataFrame(\n",
    "        crime['location'].to_list(), \n",
    "        columns=['latitude', 'longitude']\n",
    "    )], 1).drop('location', 1)\n",
    "\n",
    "# Change to float columns\n",
    "crime[['latitude', 'longitude']] = crime[['latitude', 'longitude']].astype(float)\n",
    "\n",
    "crime.head()"
   ]
  },
  {
   "cell_type": "markdown",
   "metadata": {},
   "source": [
    "The `crime` dataset is now in tidy format! Lastly, let's check for missing values.\n",
    "#### Missing Values"
   ]
  },
  {
   "cell_type": "code",
   "execution_count": 11,
   "metadata": {},
   "outputs": [
    {
     "data": {
      "text/plain": [
       "crime_category       0\n",
       "date                 0\n",
       "neighborhood      1576\n",
       "precinct          1129\n",
       "latitude             0\n",
       "longitude            0\n",
       "dtype: int64"
      ]
     },
     "execution_count": 11,
     "metadata": {},
     "output_type": "execute_result"
    }
   ],
   "source": [
    "crime.isnull().sum()"
   ]
  },
  {
   "cell_type": "markdown",
   "metadata": {},
   "source": [
    "Our missing values are in the `neighborhood` column. While we could drop these observations, we also have the latitude and longitude information, so we can impute using those coordinates. Let's check if each neighborhood has non-overlapping coordinates. We do this because if the coordinates don't overlap, we can map a set of coordinates to a neighborhood with 100% confidence."
   ]
  },
  {
   "cell_type": "code",
   "execution_count": 12,
   "metadata": {},
   "outputs": [
    {
     "data": {
      "text/html": [
       "<div>\n",
       "<style scoped>\n",
       "    .dataframe tbody tr th:only-of-type {\n",
       "        vertical-align: middle;\n",
       "    }\n",
       "\n",
       "    .dataframe tbody tr th {\n",
       "        vertical-align: top;\n",
       "    }\n",
       "\n",
       "    .dataframe thead tr th {\n",
       "        text-align: left;\n",
       "    }\n",
       "\n",
       "    .dataframe thead tr:last-of-type th {\n",
       "        text-align: right;\n",
       "    }\n",
       "</style>\n",
       "<table border=\"1\" class=\"dataframe\">\n",
       "  <thead>\n",
       "    <tr>\n",
       "      <th></th>\n",
       "      <th colspan=\"2\" halign=\"left\">latitude</th>\n",
       "      <th colspan=\"2\" halign=\"left\">longitude</th>\n",
       "    </tr>\n",
       "    <tr>\n",
       "      <th></th>\n",
       "      <th>min</th>\n",
       "      <th>max</th>\n",
       "      <th>min</th>\n",
       "      <th>max</th>\n",
       "    </tr>\n",
       "    <tr>\n",
       "      <th>neighborhood</th>\n",
       "      <th></th>\n",
       "      <th></th>\n",
       "      <th></th>\n",
       "      <th></th>\n",
       "    </tr>\n",
       "  </thead>\n",
       "  <tbody>\n",
       "    <tr>\n",
       "      <th>Arden Park/East Boston</th>\n",
       "      <td>42.3809</td>\n",
       "      <td>42.3916</td>\n",
       "      <td>83.0726</td>\n",
       "      <td>83.0854</td>\n",
       "    </tr>\n",
       "    <tr>\n",
       "      <th>Atkinson-Euclid</th>\n",
       "      <td>42.3677</td>\n",
       "      <td>42.3837</td>\n",
       "      <td>83.0777</td>\n",
       "      <td>83.0906</td>\n",
       "    </tr>\n",
       "    <tr>\n",
       "      <th>Bagley</th>\n",
       "      <td>42.4168</td>\n",
       "      <td>42.4317</td>\n",
       "      <td>83.1407</td>\n",
       "      <td>83.1611</td>\n",
       "    </tr>\n",
       "    <tr>\n",
       "      <th>Balduck Park</th>\n",
       "      <td>42.3989</td>\n",
       "      <td>42.4254</td>\n",
       "      <td>82.9103</td>\n",
       "      <td>82.9329</td>\n",
       "    </tr>\n",
       "    <tr>\n",
       "      <th>Barton Mcfarlane</th>\n",
       "      <td>42.3513</td>\n",
       "      <td>42.3736</td>\n",
       "      <td>83.1481</td>\n",
       "      <td>83.1781</td>\n",
       "    </tr>\n",
       "    <tr>\n",
       "      <th>...</th>\n",
       "      <td>...</td>\n",
       "      <td>...</td>\n",
       "      <td>...</td>\n",
       "      <td>...</td>\n",
       "    </tr>\n",
       "    <tr>\n",
       "      <th>West Village</th>\n",
       "      <td>42.3489</td>\n",
       "      <td>42.3588</td>\n",
       "      <td>82.9930</td>\n",
       "      <td>83.0011</td>\n",
       "    </tr>\n",
       "    <tr>\n",
       "      <th>Westwood Park</th>\n",
       "      <td>42.3860</td>\n",
       "      <td>42.3955</td>\n",
       "      <td>83.2309</td>\n",
       "      <td>83.2373</td>\n",
       "    </tr>\n",
       "    <tr>\n",
       "      <th>Winter Halter</th>\n",
       "      <td>42.3686</td>\n",
       "      <td>42.3955</td>\n",
       "      <td>83.1310</td>\n",
       "      <td>83.1518</td>\n",
       "    </tr>\n",
       "    <tr>\n",
       "      <th>Woodlawn Cemetery</th>\n",
       "      <td>42.4449</td>\n",
       "      <td>42.4465</td>\n",
       "      <td>83.1245</td>\n",
       "      <td>83.1314</td>\n",
       "    </tr>\n",
       "    <tr>\n",
       "      <th>Woodmere</th>\n",
       "      <td>42.2921</td>\n",
       "      <td>42.3674</td>\n",
       "      <td>83.0846</td>\n",
       "      <td>83.1421</td>\n",
       "    </tr>\n",
       "  </tbody>\n",
       "</table>\n",
       "<p>158 rows × 4 columns</p>\n",
       "</div>"
      ],
      "text/plain": [
       "                       latitude          longitude         \n",
       "                            min      max       min      max\n",
       "neighborhood                                               \n",
       "Arden Park/East Boston  42.3809  42.3916   83.0726  83.0854\n",
       "Atkinson-Euclid         42.3677  42.3837   83.0777  83.0906\n",
       "Bagley                  42.4168  42.4317   83.1407  83.1611\n",
       "Balduck Park            42.3989  42.4254   82.9103  82.9329\n",
       "Barton Mcfarlane        42.3513  42.3736   83.1481  83.1781\n",
       "...                         ...      ...       ...      ...\n",
       "West Village            42.3489  42.3588   82.9930  83.0011\n",
       "Westwood Park           42.3860  42.3955   83.2309  83.2373\n",
       "Winter Halter           42.3686  42.3955   83.1310  83.1518\n",
       "Woodlawn Cemetery       42.4449  42.4465   83.1245  83.1314\n",
       "Woodmere                42.2921  42.3674   83.0846  83.1421\n",
       "\n",
       "[158 rows x 4 columns]"
      ]
     },
     "execution_count": 12,
     "metadata": {},
     "output_type": "execute_result"
    }
   ],
   "source": [
    "crime.groupby('neighborhood')[['latitude', 'longitude']].agg(['min', 'max'])"
   ]
  },
  {
   "cell_type": "markdown",
   "metadata": {},
   "source": [
    "Unfortunately, the latitudes and longitudes definitely overlap, so we won't be able to impute the missing neighborhoods given the information in this dataset. We will just drop the missing observations."
   ]
  },
  {
   "cell_type": "code",
   "execution_count": 13,
   "metadata": {
    "scrolled": true
   },
   "outputs": [
    {
     "data": {
      "text/plain": [
       "crime_category    0\n",
       "date              0\n",
       "neighborhood      0\n",
       "precinct          0\n",
       "latitude          0\n",
       "longitude         0\n",
       "dtype: int64"
      ]
     },
     "execution_count": 13,
     "metadata": {},
     "output_type": "execute_result"
    }
   ],
   "source": [
    "n_rows = len(crime)\n",
    "\n",
    "crime.dropna(inplace=True)\n",
    "crime.isnull().sum()"
   ]
  },
  {
   "cell_type": "code",
   "execution_count": 14,
   "metadata": {},
   "outputs": [
    {
     "name": "stdout",
     "output_type": "stream",
     "text": [
      "Percent of dataset removed: 0.84%\n"
     ]
    }
   ],
   "source": [
    "print(f'Percent of dataset removed: {round((n_rows - len(crime)) / n_rows, 4) * 100}%')"
   ]
  },
  {
   "cell_type": "markdown",
   "metadata": {},
   "source": [
    "We don't have to worry much anyway about dropping the missing values since we only removed a *very* small amount of our dataset. Upon inspection, we also noticed missing values for `precinct`, indicated as 99. To avoid confusion, we'll change those to `NaN`, since they don't occur very much in our dataset."
   ]
  },
  {
   "cell_type": "code",
   "execution_count": 15,
   "metadata": {},
   "outputs": [
    {
     "data": {
      "text/plain": [
       "Text(0, 0.5, 'Frequency')"
      ]
     },
     "execution_count": 15,
     "metadata": {},
     "output_type": "execute_result"
    },
    {
     "data": {
      "image/png": "[encoded data removed]",
      "text/plain": [
       "<Figure size 432x288 with 1 Axes>"
      ]
     },
     "metadata": {},
     "output_type": "display_data"
    }
   ],
   "source": [
    "crime['precinct'].hist()\n",
    "plt.title('Precinct in Crime Dataset')\n",
    "plt.xlabel('Precinct')\n",
    "plt.ylabel('Frequency')"
   ]
  },
  {
   "cell_type": "code",
   "execution_count": 16,
   "metadata": {},
   "outputs": [],
   "source": [
    "crime['precinct'].replace({99: np.nan}, inplace=True)"
   ]
  },
  {
   "cell_type": "markdown",
   "metadata": {},
   "source": [
    "Now, we don't have outliers in the `precinct` column."
   ]
  },
  {
   "cell_type": "code",
   "execution_count": 17,
   "metadata": {},
   "outputs": [
    {
     "data": {
      "text/plain": [
       "Text(0, 0.5, 'Frequency')"
      ]
     },
     "execution_count": 17,
     "metadata": {},
     "output_type": "execute_result"
    },
    {
     "data": {
      "image/png": "[encoded data removed]",
      "text/plain": [
       "<Figure size 432x288 with 1 Axes>"
      ]
     },
     "metadata": {},
     "output_type": "display_data"
    }
   ],
   "source": [
    "crime['precinct'].hist()\n",
    "plt.title('Precinct in Crime Dataset')\n",
    "plt.xlabel('Precinct')\n",
    "plt.ylabel('Frequency')"
   ]
  },
  {
   "cell_type": "markdown",
   "metadata": {},
   "source": [
    "### DPD Scout Areas"
   ]
  },
  {
   "cell_type": "code",
   "execution_count": 18,
   "metadata": {},
   "outputs": [
    {
     "data": {
      "text/html": [
       "<div>\n",
       "<style scoped>\n",
       "    .dataframe tbody tr th:only-of-type {\n",
       "        vertical-align: middle;\n",
       "    }\n",
       "\n",
       "    .dataframe tbody tr th {\n",
       "        vertical-align: top;\n",
       "    }\n",
       "\n",
       "    .dataframe thead th {\n",
       "        text-align: right;\n",
       "    }\n",
       "</style>\n",
       "<table border=\"1\" class=\"dataframe\">\n",
       "  <thead>\n",
       "    <tr style=\"text-align: right;\">\n",
       "      <th></th>\n",
       "      <th>FID</th>\n",
       "      <th>COLOR</th>\n",
       "      <th>Area</th>\n",
       "      <th>Precinct</th>\n",
       "      <th>SHAPE_Length</th>\n",
       "      <th>SHAPE_Area</th>\n",
       "    </tr>\n",
       "  </thead>\n",
       "  <tbody>\n",
       "    <tr>\n",
       "      <th>0</th>\n",
       "      <td>1</td>\n",
       "      <td>0</td>\n",
       "      <td>415</td>\n",
       "      <td>4</td>\n",
       "      <td>24845.957779</td>\n",
       "      <td>2.711534e+07</td>\n",
       "    </tr>\n",
       "    <tr>\n",
       "      <th>1</th>\n",
       "      <td>2</td>\n",
       "      <td>0</td>\n",
       "      <td>411</td>\n",
       "      <td>4</td>\n",
       "      <td>24451.252721</td>\n",
       "      <td>3.943583e+07</td>\n",
       "    </tr>\n",
       "    <tr>\n",
       "      <th>2</th>\n",
       "      <td>3</td>\n",
       "      <td>0</td>\n",
       "      <td>412</td>\n",
       "      <td>4</td>\n",
       "      <td>34664.433400</td>\n",
       "      <td>4.913352e+07</td>\n",
       "    </tr>\n",
       "    <tr>\n",
       "      <th>3</th>\n",
       "      <td>4</td>\n",
       "      <td>0</td>\n",
       "      <td>413</td>\n",
       "      <td>4</td>\n",
       "      <td>21270.276030</td>\n",
       "      <td>2.640126e+07</td>\n",
       "    </tr>\n",
       "    <tr>\n",
       "      <th>4</th>\n",
       "      <td>5</td>\n",
       "      <td>0</td>\n",
       "      <td>408</td>\n",
       "      <td>4</td>\n",
       "      <td>23624.102178</td>\n",
       "      <td>2.939748e+07</td>\n",
       "    </tr>\n",
       "  </tbody>\n",
       "</table>\n",
       "</div>"
      ],
      "text/plain": [
       "   FID  COLOR  Area  Precinct  SHAPE_Length    SHAPE_Area\n",
       "0    1      0   415         4  24845.957779  2.711534e+07\n",
       "1    2      0   411         4  24451.252721  3.943583e+07\n",
       "2    3      0   412         4  34664.433400  4.913352e+07\n",
       "3    4      0   413         4  21270.276030  2.640126e+07\n",
       "4    5      0   408         4  23624.102178  2.939748e+07"
      ]
     },
     "execution_count": 18,
     "metadata": {},
     "output_type": "execute_result"
    }
   ],
   "source": [
    "scout = pd.read_csv('data/DPD_Scout_Car_Areas.csv')\n",
    "scout.head()"
   ]
  },
  {
   "cell_type": "code",
   "execution_count": 19,
   "metadata": {},
   "outputs": [
    {
     "data": {
      "text/plain": [
       "(131, 6)"
      ]
     },
     "execution_count": 19,
     "metadata": {},
     "output_type": "execute_result"
    }
   ],
   "source": [
    "scout.shape"
   ]
  },
  {
   "cell_type": "code",
   "execution_count": 20,
   "metadata": {},
   "outputs": [
    {
     "data": {
      "text/plain": [
       "FID               int64\n",
       "COLOR             int64\n",
       "Area              int64\n",
       "Precinct          int64\n",
       "SHAPE_Length    float64\n",
       "SHAPE_Area      float64\n",
       "dtype: object"
      ]
     },
     "execution_count": 20,
     "metadata": {},
     "output_type": "execute_result"
    }
   ],
   "source": [
    "scout.dtypes"
   ]
  },
  {
   "cell_type": "markdown",
   "metadata": {},
   "source": [
    "#### Selecting Columns\n",
    "There aren't very many important columns in this dataset. In fact, the only one we should use in our analysis of crime is the precinct, since that is the one these two datasets have in common. We hypothesize that intuitively, columns like `SHAPE_LENGTH` and `SHAPE_Area` shouldn't have a marked effect on crime rates. \n",
    "\n",
    "Let's also rename our column to be in snake case."
   ]
  },
  {
   "cell_type": "code",
   "execution_count": 21,
   "metadata": {},
   "outputs": [
    {
     "data": {
      "text/html": [
       "<div>\n",
       "<style scoped>\n",
       "    .dataframe tbody tr th:only-of-type {\n",
       "        vertical-align: middle;\n",
       "    }\n",
       "\n",
       "    .dataframe tbody tr th {\n",
       "        vertical-align: top;\n",
       "    }\n",
       "\n",
       "    .dataframe thead th {\n",
       "        text-align: right;\n",
       "    }\n",
       "</style>\n",
       "<table border=\"1\" class=\"dataframe\">\n",
       "  <thead>\n",
       "    <tr style=\"text-align: right;\">\n",
       "      <th></th>\n",
       "      <th>precinct</th>\n",
       "    </tr>\n",
       "  </thead>\n",
       "  <tbody>\n",
       "    <tr>\n",
       "      <th>0</th>\n",
       "      <td>4</td>\n",
       "    </tr>\n",
       "    <tr>\n",
       "      <th>1</th>\n",
       "      <td>4</td>\n",
       "    </tr>\n",
       "    <tr>\n",
       "      <th>2</th>\n",
       "      <td>4</td>\n",
       "    </tr>\n",
       "    <tr>\n",
       "      <th>3</th>\n",
       "      <td>4</td>\n",
       "    </tr>\n",
       "    <tr>\n",
       "      <th>4</th>\n",
       "      <td>4</td>\n",
       "    </tr>\n",
       "  </tbody>\n",
       "</table>\n",
       "</div>"
      ],
      "text/plain": [
       "   precinct\n",
       "0         4\n",
       "1         4\n",
       "2         4\n",
       "3         4\n",
       "4         4"
      ]
     },
     "execution_count": 21,
     "metadata": {},
     "output_type": "execute_result"
    }
   ],
   "source": [
    "scout = scout['Precinct'].to_frame().rename(columns={'Precinct': 'precinct'})\n",
    "scout.head()"
   ]
  },
  {
   "cell_type": "markdown",
   "metadata": {},
   "source": [
    "#### Checking Precinct Frequencies\n",
    "Let's plot the distribution of precincts in this dataset."
   ]
  },
  {
   "cell_type": "code",
   "execution_count": 22,
   "metadata": {},
   "outputs": [
    {
     "data": {
      "text/plain": [
       "Text(0.5, 1.0, 'Precinct Count Plot')"
      ]
     },
     "execution_count": 22,
     "metadata": {},
     "output_type": "execute_result"
    },
    {
     "data": {
      "image/png": "[encoded data removed]",
      "text/plain": [
       "<Figure size 432x288 with 1 Axes>"
      ]
     },
     "metadata": {},
     "output_type": "display_data"
    }
   ],
   "source": [
    "sns.countplot(x=scout['precinct'], color='C0')\n",
    "plt.title('Precinct Count Plot')"
   ]
  },
  {
   "cell_type": "markdown",
   "metadata": {},
   "source": [
    "All of the precincts seem to occur at around the same frequency, so we don't need to add any features indicating whether or not a certain precinct is controlled a lot. However, we do observe that precinct 1 doesn't seem to be patrolled, despite it occurring about 11,000 times in `crime`:"
   ]
  },
  {
   "cell_type": "code",
   "execution_count": 23,
   "metadata": {},
   "outputs": [
    {
     "name": "stdout",
     "output_type": "stream",
     "text": [
      "Number of observations from precinct 1 in crime dataset: 11092\n"
     ]
    }
   ],
   "source": [
    "print('Number of observations from precinct 1 in crime dataset: ' + str(crime['precinct'].value_counts().loc[1.0]))"
   ]
  },
  {
   "cell_type": "code",
   "execution_count": 24,
   "metadata": {},
   "outputs": [
    {
     "data": {
      "text/plain": [
       "{nan, 1.0}"
      ]
     },
     "execution_count": 24,
     "metadata": {},
     "output_type": "execute_result"
    }
   ],
   "source": [
    "set(crime['precinct'].unique()) - set(scout['precinct'].unique())"
   ]
  },
  {
   "cell_type": "markdown",
   "metadata": {},
   "source": [
    "#### Missing Values"
   ]
  },
  {
   "cell_type": "code",
   "execution_count": 25,
   "metadata": {},
   "outputs": [
    {
     "data": {
      "text/plain": [
       "0"
      ]
     },
     "execution_count": 25,
     "metadata": {},
     "output_type": "execute_result"
    }
   ],
   "source": [
    "scout['precinct'].isnull().sum()"
   ]
  },
  {
   "cell_type": "markdown",
   "metadata": {},
   "source": [
    "There are no missing values in this dataset.\n",
    "\n",
    "`scouts` is now in a tidy format, but it is only one column. We will address this when combining with `crime`.\n",
    "### Green Stormwater Infrastructure Locations"
   ]
  },
  {
   "cell_type": "code",
   "execution_count": 26,
   "metadata": {},
   "outputs": [
    {
     "data": {
      "text/html": [
       "<div>\n",
       "<style scoped>\n",
       "    .dataframe tbody tr th:only-of-type {\n",
       "        vertical-align: middle;\n",
       "    }\n",
       "\n",
       "    .dataframe tbody tr th {\n",
       "        vertical-align: top;\n",
       "    }\n",
       "\n",
       "    .dataframe thead th {\n",
       "        text-align: right;\n",
       "    }\n",
       "</style>\n",
       "<table border=\"1\" class=\"dataframe\">\n",
       "  <thead>\n",
       "    <tr style=\"text-align: right;\">\n",
       "      <th></th>\n",
       "      <th>X</th>\n",
       "      <th>Y</th>\n",
       "      <th>OBJECTID</th>\n",
       "      <th>PROJECT_NAME</th>\n",
       "      <th>ASSET_CATEGORY</th>\n",
       "      <th>PRACTICE_TYPE</th>\n",
       "      <th>CREDIT_RECEIVED</th>\n",
       "      <th>ACRES_MANAGED</th>\n",
       "      <th>DESCRIPTION</th>\n",
       "      <th>DESIGNER</th>\n",
       "      <th>...</th>\n",
       "      <th>DOC_URL1</th>\n",
       "      <th>Num_RainBarrells</th>\n",
       "      <th>Size_RainBarrel</th>\n",
       "      <th>Downspout_RainBarrel</th>\n",
       "      <th>Purpose_RainBarrels</th>\n",
       "      <th>Installation_Date</th>\n",
       "      <th>OTHER_PRACTICETYPE</th>\n",
       "      <th>Secondary_Project_Reason</th>\n",
       "      <th>Project_Engineer</th>\n",
       "      <th>DEPTH</th>\n",
       "    </tr>\n",
       "  </thead>\n",
       "  <tbody>\n",
       "    <tr>\n",
       "      <th>0</th>\n",
       "      <td>-9.264704e+06</td>\n",
       "      <td>5.214982e+06</td>\n",
       "      <td>1</td>\n",
       "      <td>Artesian Street</td>\n",
       "      <td>DWSD</td>\n",
       "      <td>Permeable Pavement</td>\n",
       "      <td>Yes</td>\n",
       "      <td>5.30</td>\n",
       "      <td>Porous Asphalt along Artesian Street from 1895...</td>\n",
       "      <td>NaN</td>\n",
       "      <td>...</td>\n",
       "      <td>NaN</td>\n",
       "      <td>NaN</td>\n",
       "      <td>NaN</td>\n",
       "      <td>NaN</td>\n",
       "      <td>NaN</td>\n",
       "      <td>1970/01/01 00:00:00+00</td>\n",
       "      <td>NaN</td>\n",
       "      <td>NaN</td>\n",
       "      <td>NaN</td>\n",
       "      <td>NaN</td>\n",
       "    </tr>\n",
       "    <tr>\n",
       "      <th>1</th>\n",
       "      <td>-9.264513e+06</td>\n",
       "      <td>5.213854e+06</td>\n",
       "      <td>2</td>\n",
       "      <td>Stahelin</td>\n",
       "      <td>DWSD</td>\n",
       "      <td>Bioretention</td>\n",
       "      <td>Yes</td>\n",
       "      <td>1.12</td>\n",
       "      <td>This is a bioretention practice installed on a...</td>\n",
       "      <td>NaN</td>\n",
       "      <td>...</td>\n",
       "      <td>NaN</td>\n",
       "      <td>NaN</td>\n",
       "      <td>NaN</td>\n",
       "      <td>NaN</td>\n",
       "      <td>NaN</td>\n",
       "      <td>1970/01/01 00:00:00+00</td>\n",
       "      <td>NaN</td>\n",
       "      <td>NaN</td>\n",
       "      <td>NaN</td>\n",
       "      <td>NaN</td>\n",
       "    </tr>\n",
       "  </tbody>\n",
       "</table>\n",
       "<p>2 rows × 47 columns</p>\n",
       "</div>"
      ],
      "text/plain": [
       "              X             Y  OBJECTID     PROJECT_NAME ASSET_CATEGORY  \\\n",
       "0 -9.264704e+06  5.214982e+06         1  Artesian Street           DWSD   \n",
       "1 -9.264513e+06  5.213854e+06         2         Stahelin           DWSD   \n",
       "\n",
       "        PRACTICE_TYPE CREDIT_RECEIVED  ACRES_MANAGED  \\\n",
       "0  Permeable Pavement             Yes           5.30   \n",
       "1        Bioretention             Yes           1.12   \n",
       "\n",
       "                                         DESCRIPTION DESIGNER  ... DOC_URL1  \\\n",
       "0  Porous Asphalt along Artesian Street from 1895...      NaN  ...      NaN   \n",
       "1  This is a bioretention practice installed on a...      NaN  ...      NaN   \n",
       "\n",
       "  Num_RainBarrells Size_RainBarrel Downspout_RainBarrel  Purpose_RainBarrels  \\\n",
       "0              NaN             NaN                  NaN                  NaN   \n",
       "1              NaN             NaN                  NaN                  NaN   \n",
       "\n",
       "        Installation_Date OTHER_PRACTICETYPE Secondary_Project_Reason  \\\n",
       "0  1970/01/01 00:00:00+00                NaN                      NaN   \n",
       "1  1970/01/01 00:00:00+00                NaN                      NaN   \n",
       "\n",
       "  Project_Engineer  DEPTH  \n",
       "0              NaN    NaN  \n",
       "1              NaN    NaN  \n",
       "\n",
       "[2 rows x 47 columns]"
      ]
     },
     "execution_count": 26,
     "metadata": {},
     "output_type": "execute_result"
    }
   ],
   "source": [
    "storm = pd.read_csv('data/Green_Stormwater_Infrastructure_Locations_OpenData.csv')\n",
    "storm.head(2)"
   ]
  },
  {
   "cell_type": "code",
   "execution_count": 27,
   "metadata": {},
   "outputs": [
    {
     "data": {
      "text/plain": [
       "(223, 47)"
      ]
     },
     "execution_count": 27,
     "metadata": {},
     "output_type": "execute_result"
    }
   ],
   "source": [
    "storm.shape"
   ]
  },
  {
   "cell_type": "code",
   "execution_count": 28,
   "metadata": {},
   "outputs": [
    {
     "data": {
      "text/plain": [
       "['X',\n",
       " 'Y',\n",
       " 'OBJECTID',\n",
       " 'PROJECT_NAME',\n",
       " 'ASSET_CATEGORY',\n",
       " 'PRACTICE_TYPE',\n",
       " 'CREDIT_RECEIVED',\n",
       " 'ACRES_MANAGED',\n",
       " 'DESCRIPTION',\n",
       " 'DESIGNER',\n",
       " 'INSTALLER',\n",
       " 'MAINTAINER',\n",
       " 'MEDIA_URL',\n",
       " 'ADDITIONAL_PRACTICETYPE',\n",
       " 'GALLONS_MANAGED_MG',\n",
       " 'PRACTICE_AREA',\n",
       " 'NEIGHBORHOOD',\n",
       " 'PROJECT_REASON',\n",
       " 'DESIGN_DATE',\n",
       " 'PROJECT_COST',\n",
       " 'MAINTENANCE_COST',\n",
       " 'MAX_DEPTH',\n",
       " 'UNDERDRAIN',\n",
       " 'PIPE_DIAMETER',\n",
       " 'STORM_EVENT_SIZE',\n",
       " 'CONSTRUCTION_START',\n",
       " 'OWNER_TYPE',\n",
       " 'INVERT_PIPE_in',\n",
       " 'Latitude',\n",
       " 'Longitude',\n",
       " 'GlobalID',\n",
       " 'DISTRICT',\n",
       " 'MEDIA_URL2',\n",
       " 'MEDIA_URL3',\n",
       " 'VIDEO_URL',\n",
       " 'Project_Page_URL',\n",
       " 'DOC_URL2',\n",
       " 'DOC_URL1',\n",
       " 'Num_RainBarrells',\n",
       " 'Size_RainBarrel',\n",
       " 'Downspout_RainBarrel',\n",
       " 'Purpose_RainBarrels',\n",
       " 'Installation_Date',\n",
       " 'OTHER_PRACTICETYPE',\n",
       " 'Secondary_Project_Reason',\n",
       " 'Project_Engineer',\n",
       " 'DEPTH']"
      ]
     },
     "execution_count": 28,
     "metadata": {},
     "output_type": "execute_result"
    }
   ],
   "source": [
    "list(storm.columns)"
   ]
  },
  {
   "cell_type": "markdown",
   "metadata": {},
   "source": [
    "This dataset is relatively small as we can't expect there to be a large number of storm infrastructure in the city of Detroit. However, there is a lot of information stored in different columns about each piece of infrastructure."
   ]
  },
  {
   "cell_type": "code",
   "execution_count": 29,
   "metadata": {},
   "outputs": [
    {
     "data": {
      "text/plain": [
       "X                           float64\n",
       "Y                           float64\n",
       "OBJECTID                      int64\n",
       "PROJECT_NAME                 object\n",
       "ASSET_CATEGORY               object\n",
       "PRACTICE_TYPE                object\n",
       "CREDIT_RECEIVED              object\n",
       "ACRES_MANAGED               float64\n",
       "DESCRIPTION                  object\n",
       "DESIGNER                     object\n",
       "INSTALLER                    object\n",
       "MAINTAINER                   object\n",
       "MEDIA_URL                    object\n",
       "ADDITIONAL_PRACTICETYPE      object\n",
       "GALLONS_MANAGED_MG          float64\n",
       "PRACTICE_AREA               float64\n",
       "NEIGHBORHOOD                 object\n",
       "PROJECT_REASON               object\n",
       "DESIGN_DATE                  object\n",
       "PROJECT_COST                float64\n",
       "MAINTENANCE_COST            float64\n",
       "MAX_DEPTH                   float64\n",
       "UNDERDRAIN                   object\n",
       "PIPE_DIAMETER               float64\n",
       "STORM_EVENT_SIZE             object\n",
       "CONSTRUCTION_START           object\n",
       "OWNER_TYPE                   object\n",
       "INVERT_PIPE_in              float64\n",
       "Latitude                    float64\n",
       "Longitude                   float64\n",
       "GlobalID                     object\n",
       "DISTRICT                     object\n",
       "MEDIA_URL2                   object\n",
       "MEDIA_URL3                   object\n",
       "VIDEO_URL                    object\n",
       "Project_Page_URL             object\n",
       "DOC_URL2                    float64\n",
       "DOC_URL1                     object\n",
       "Num_RainBarrells            float64\n",
       "Size_RainBarrel             float64\n",
       "Downspout_RainBarrel        float64\n",
       "Purpose_RainBarrels         float64\n",
       "Installation_Date            object\n",
       "OTHER_PRACTICETYPE          float64\n",
       "Secondary_Project_Reason     object\n",
       "Project_Engineer             object\n",
       "DEPTH                        object\n",
       "dtype: object"
      ]
     },
     "execution_count": 29,
     "metadata": {},
     "output_type": "execute_result"
    }
   ],
   "source": [
    "storm.dtypes"
   ]
  },
  {
   "cell_type": "markdown",
   "metadata": {},
   "source": [
    "Many of these columns are mostly empty and won't be helpful for our geo-spatial analysis of crime, so we'll be dropping most of these columns when we clean this dataset."
   ]
  },
  {
   "cell_type": "code",
   "execution_count": 30,
   "metadata": {},
   "outputs": [
    {
     "data": {
      "text/html": [
       "<div>\n",
       "<style scoped>\n",
       "    .dataframe tbody tr th:only-of-type {\n",
       "        vertical-align: middle;\n",
       "    }\n",
       "\n",
       "    .dataframe tbody tr th {\n",
       "        vertical-align: top;\n",
       "    }\n",
       "\n",
       "    .dataframe thead th {\n",
       "        text-align: right;\n",
       "    }\n",
       "</style>\n",
       "<table border=\"1\" class=\"dataframe\">\n",
       "  <thead>\n",
       "    <tr style=\"text-align: right;\">\n",
       "      <th></th>\n",
       "      <th>asset_category</th>\n",
       "      <th>latitude</th>\n",
       "      <th>longtitude</th>\n",
       "      <th>neighborhood</th>\n",
       "      <th>district</th>\n",
       "    </tr>\n",
       "  </thead>\n",
       "  <tbody>\n",
       "    <tr>\n",
       "      <th>0</th>\n",
       "      <td>DWSD</td>\n",
       "      <td>NaN</td>\n",
       "      <td>NaN</td>\n",
       "      <td>Franklin Park</td>\n",
       "      <td>District 7</td>\n",
       "    </tr>\n",
       "    <tr>\n",
       "      <th>1</th>\n",
       "      <td>DWSD</td>\n",
       "      <td>NaN</td>\n",
       "      <td>NaN</td>\n",
       "      <td>Warrendale</td>\n",
       "      <td>District 7</td>\n",
       "    </tr>\n",
       "    <tr>\n",
       "      <th>2</th>\n",
       "      <td>DWSD</td>\n",
       "      <td>NaN</td>\n",
       "      <td>NaN</td>\n",
       "      <td>Warrendale</td>\n",
       "      <td>District 7</td>\n",
       "    </tr>\n",
       "    <tr>\n",
       "      <th>3</th>\n",
       "      <td>DWSD</td>\n",
       "      <td>NaN</td>\n",
       "      <td>NaN</td>\n",
       "      <td>Warrendale</td>\n",
       "      <td>District 7</td>\n",
       "    </tr>\n",
       "    <tr>\n",
       "      <th>4</th>\n",
       "      <td>DWSD</td>\n",
       "      <td>NaN</td>\n",
       "      <td>NaN</td>\n",
       "      <td>Warrendale</td>\n",
       "      <td>District 7</td>\n",
       "    </tr>\n",
       "  </tbody>\n",
       "</table>\n",
       "</div>"
      ],
      "text/plain": [
       "  asset_category  latitude  longtitude   neighborhood    district\n",
       "0           DWSD       NaN         NaN  Franklin Park  District 7\n",
       "1           DWSD       NaN         NaN     Warrendale  District 7\n",
       "2           DWSD       NaN         NaN     Warrendale  District 7\n",
       "3           DWSD       NaN         NaN     Warrendale  District 7\n",
       "4           DWSD       NaN         NaN     Warrendale  District 7"
      ]
     },
     "execution_count": 30,
     "metadata": {},
     "output_type": "execute_result"
    }
   ],
   "source": [
    "storm = storm[[\"ASSET_CATEGORY\", \"Latitude\", \"Longitude\", \"NEIGHBORHOOD\", \"DISTRICT\"]].rename(\n",
    "    columns={\n",
    "        \"ASSET_CATEGORY\": \"asset_category\", \n",
    "        \"NEIGHBORHOOD\": \"neighborhood\", \n",
    "        \"Latitude\": \"latitude\", \n",
    "        \"Longitude\": \"longtitude\", \n",
    "        \"DISTRICT\": \"district\"\n",
    "    })\n",
    "storm.head()"
   ]
  },
  {
   "cell_type": "markdown",
   "metadata": {},
   "source": [
    "We see that there will be quite a bit of rows with null values for the latitude and longitude, and we will not be able to provide analysis for those rows. Hence, we remove those rows."
   ]
  },
  {
   "cell_type": "code",
   "execution_count": 31,
   "metadata": {},
   "outputs": [
    {
     "data": {
      "text/html": [
       "<div>\n",
       "<style scoped>\n",
       "    .dataframe tbody tr th:only-of-type {\n",
       "        vertical-align: middle;\n",
       "    }\n",
       "\n",
       "    .dataframe tbody tr th {\n",
       "        vertical-align: top;\n",
       "    }\n",
       "\n",
       "    .dataframe thead th {\n",
       "        text-align: right;\n",
       "    }\n",
       "</style>\n",
       "<table border=\"1\" class=\"dataframe\">\n",
       "  <thead>\n",
       "    <tr style=\"text-align: right;\">\n",
       "      <th></th>\n",
       "      <th>asset_category</th>\n",
       "      <th>latitude</th>\n",
       "      <th>longtitude</th>\n",
       "      <th>neighborhood</th>\n",
       "      <th>district</th>\n",
       "    </tr>\n",
       "  </thead>\n",
       "  <tbody>\n",
       "    <tr>\n",
       "      <th>14</th>\n",
       "      <td>Drainage Credit</td>\n",
       "      <td>42.304727</td>\n",
       "      <td>-83.125389</td>\n",
       "      <td>Springwells</td>\n",
       "      <td>District 6</td>\n",
       "    </tr>\n",
       "    <tr>\n",
       "      <th>65</th>\n",
       "      <td>Private - No Credit</td>\n",
       "      <td>42.385402</td>\n",
       "      <td>-82.958615</td>\n",
       "      <td>Fox Creek</td>\n",
       "      <td>District 4</td>\n",
       "    </tr>\n",
       "    <tr>\n",
       "      <th>66</th>\n",
       "      <td>Private - No Credit</td>\n",
       "      <td>42.351603</td>\n",
       "      <td>-83.064737</td>\n",
       "      <td>Midtown</td>\n",
       "      <td>District 6</td>\n",
       "    </tr>\n",
       "  </tbody>\n",
       "</table>\n",
       "</div>"
      ],
      "text/plain": [
       "         asset_category   latitude  longtitude neighborhood    district\n",
       "14      Drainage Credit  42.304727  -83.125389  Springwells  District 6\n",
       "65  Private - No Credit  42.385402  -82.958615    Fox Creek  District 4\n",
       "66  Private - No Credit  42.351603  -83.064737      Midtown  District 6"
      ]
     },
     "execution_count": 31,
     "metadata": {},
     "output_type": "execute_result"
    }
   ],
   "source": [
    "storm.dropna(inplace=True)\n",
    "storm.head(3)"
   ]
  },
  {
   "cell_type": "markdown",
   "metadata": {},
   "source": [
    "It seems that none of the rows include any null values, and we're only limiting our dataset to the columns that we prefer to have. Our data is now relatively tidy. \n",
    "\n",
    "#### Keeping Neighborhoods in `crime`\n",
    "Below, we observe that the neighborhoods in `storm` and those in `crime` aren't the same, which makes sense. However, we might have some that are the same but are referred to as different names. Let's see if we can look for some similarities."
   ]
  },
  {
   "cell_type": "code",
   "execution_count": 32,
   "metadata": {},
   "outputs": [
    {
     "data": {
      "text/plain": [
       "{'Bethune Community',\n",
       " 'Boston Edison',\n",
       " 'Campau/Banglatown',\n",
       " 'East Village',\n",
       " 'Eden Gardens',\n",
       " 'Farwell',\n",
       " 'Grand River-St Marys',\n",
       " 'Gratiot Woods',\n",
       " 'LaSalle Gardens',\n",
       " 'McNichols Evergreen',\n",
       " 'Medbury Park',\n",
       " 'Midtown',\n",
       " 'North End',\n",
       " 'Oak Grove',\n",
       " 'Oakman Blvd Community',\n",
       " 'Outer Drive-Hayes',\n",
       " 'Springwells',\n",
       " 'Tech Town',\n",
       " 'Von Steuben'}"
      ]
     },
     "execution_count": 32,
     "metadata": {},
     "output_type": "execute_result"
    }
   ],
   "source": [
    "set(storm['neighborhood']) - set(crime['neighborhood'])"
   ]
  },
  {
   "cell_type": "code",
   "execution_count": 33,
   "metadata": {},
   "outputs": [],
   "source": [
    "storm['neighborhood'] = storm['neighborhood'].str.replace('Boston Edison', 'Boston-Edison')\n",
    "storm['neighborhood'] = storm['neighborhood'].str.replace('East Village', 'East English Village')\n",
    "storm['neighborhood'] = storm['neighborhood'].str.replace('Gratiot Woods', 'State Fair-Gratiot')\n",
    "storm['neighborhood'] = storm['neighborhood'].str.replace('LaSalle Gardens', 'Lasalle Gardens')\n",
    "storm['neighborhood'] = storm['neighborhood'].str.replace('LaSalle Gardens', 'Lasalle Gardens')\n",
    "storm['neighborhood'] = storm['neighborhood'].str.replace('North Rosedale Park', 'North Rosedale Park')\n",
    "storm['neighborhood'] = storm['neighborhood'].str.replace('Oakman Blvd Community', 'Oakman')\n",
    "storm['neighborhood'] = storm['neighborhood'].str.replace('Rosedale Park', 'Rosedale Park')"
   ]
  },
  {
   "cell_type": "markdown",
   "metadata": {},
   "source": [
    "We have "
   ]
  },
  {
   "cell_type": "code",
   "execution_count": 34,
   "metadata": {},
   "outputs": [
    {
     "data": {
      "text/plain": [
       "{'Bethune Community',\n",
       " 'Campau/Banglatown',\n",
       " 'Eden Gardens',\n",
       " 'Farwell',\n",
       " 'Grand River-St Marys',\n",
       " 'McNichols Evergreen',\n",
       " 'Medbury Park',\n",
       " 'Midtown',\n",
       " 'North End',\n",
       " 'Oak Grove',\n",
       " 'Outer Drive-Hayes',\n",
       " 'Springwells',\n",
       " 'Tech Town',\n",
       " 'Von Steuben'}"
      ]
     },
     "execution_count": 34,
     "metadata": {},
     "output_type": "execute_result"
    }
   ],
   "source": [
    "set(storm['neighborhood']) - set(crime['neighborhood'])"
   ]
  },
  {
   "cell_type": "markdown",
   "metadata": {},
   "source": [
    "We have a better overlap now, so let's drop these remaining neighborhoods that have no information in `crime`."
   ]
  },
  {
   "cell_type": "code",
   "execution_count": 35,
   "metadata": {},
   "outputs": [
    {
     "data": {
      "text/html": [
       "<div>\n",
       "<style scoped>\n",
       "    .dataframe tbody tr th:only-of-type {\n",
       "        vertical-align: middle;\n",
       "    }\n",
       "\n",
       "    .dataframe tbody tr th {\n",
       "        vertical-align: top;\n",
       "    }\n",
       "\n",
       "    .dataframe thead th {\n",
       "        text-align: right;\n",
       "    }\n",
       "</style>\n",
       "<table border=\"1\" class=\"dataframe\">\n",
       "  <thead>\n",
       "    <tr style=\"text-align: right;\">\n",
       "      <th></th>\n",
       "      <th>asset_category</th>\n",
       "      <th>latitude</th>\n",
       "      <th>longtitude</th>\n",
       "      <th>neighborhood</th>\n",
       "      <th>district</th>\n",
       "    </tr>\n",
       "  </thead>\n",
       "  <tbody>\n",
       "    <tr>\n",
       "      <th>65</th>\n",
       "      <td>Private - No Credit</td>\n",
       "      <td>42.385402</td>\n",
       "      <td>-82.958615</td>\n",
       "      <td>Fox Creek</td>\n",
       "      <td>District 4</td>\n",
       "    </tr>\n",
       "    <tr>\n",
       "      <th>67</th>\n",
       "      <td>Private - No Credit</td>\n",
       "      <td>42.376868</td>\n",
       "      <td>-82.998895</td>\n",
       "      <td>State Fair-Gratiot</td>\n",
       "      <td>District 5</td>\n",
       "    </tr>\n",
       "    <tr>\n",
       "      <th>68</th>\n",
       "      <td>Private - No Credit</td>\n",
       "      <td>42.376098</td>\n",
       "      <td>-82.994081</td>\n",
       "      <td>State Fair-Gratiot</td>\n",
       "      <td>District 4</td>\n",
       "    </tr>\n",
       "    <tr>\n",
       "      <th>69</th>\n",
       "      <td>Private - No Credit</td>\n",
       "      <td>42.377787</td>\n",
       "      <td>-82.995210</td>\n",
       "      <td>State Fair-Gratiot</td>\n",
       "      <td>District 4</td>\n",
       "    </tr>\n",
       "    <tr>\n",
       "      <th>70</th>\n",
       "      <td>Private - No Credit</td>\n",
       "      <td>42.375334</td>\n",
       "      <td>-82.993479</td>\n",
       "      <td>State Fair-Gratiot</td>\n",
       "      <td>District 4</td>\n",
       "    </tr>\n",
       "  </tbody>\n",
       "</table>\n",
       "</div>"
      ],
      "text/plain": [
       "         asset_category   latitude  longtitude        neighborhood    district\n",
       "65  Private - No Credit  42.385402  -82.958615           Fox Creek  District 4\n",
       "67  Private - No Credit  42.376868  -82.998895  State Fair-Gratiot  District 5\n",
       "68  Private - No Credit  42.376098  -82.994081  State Fair-Gratiot  District 4\n",
       "69  Private - No Credit  42.377787  -82.995210  State Fair-Gratiot  District 4\n",
       "70  Private - No Credit  42.375334  -82.993479  State Fair-Gratiot  District 4"
      ]
     },
     "execution_count": 35,
     "metadata": {},
     "output_type": "execute_result"
    }
   ],
   "source": [
    "exclude = list(set(storm['neighborhood']) - set(crime['neighborhood']))\n",
    "storm = storm[~storm['neighborhood'].isin(exclude)]\n",
    "storm.head()"
   ]
  },
  {
   "cell_type": "markdown",
   "metadata": {},
   "source": [
    "We will be dropping all the columns except `neighborhoood`, since they are not useful or have all the same values."
   ]
  },
  {
   "cell_type": "code",
   "execution_count": 36,
   "metadata": {},
   "outputs": [],
   "source": [
    "storm = storm['neighborhood']"
   ]
  },
  {
   "cell_type": "markdown",
   "metadata": {},
   "source": [
    "### Master Plan Neighborhoods"
   ]
  },
  {
   "cell_type": "code",
   "execution_count": 37,
   "metadata": {},
   "outputs": [
    {
     "data": {
      "text/html": [
       "<div>\n",
       "<style scoped>\n",
       "    .dataframe tbody tr th:only-of-type {\n",
       "        vertical-align: middle;\n",
       "    }\n",
       "\n",
       "    .dataframe tbody tr th {\n",
       "        vertical-align: top;\n",
       "    }\n",
       "\n",
       "    .dataframe thead th {\n",
       "        text-align: right;\n",
       "    }\n",
       "</style>\n",
       "<table border=\"1\" class=\"dataframe\">\n",
       "  <thead>\n",
       "    <tr style=\"text-align: right;\">\n",
       "      <th></th>\n",
       "      <th>FID</th>\n",
       "      <th>NHOOD</th>\n",
       "      <th>Cluster</th>\n",
       "      <th>MapNo</th>\n",
       "      <th>NeighC</th>\n",
       "      <th>MapPage</th>\n",
       "      <th>MapPage_LU</th>\n",
       "      <th>F4Color_key</th>\n",
       "      <th>SHAPE_Length</th>\n",
       "      <th>SHAPE_Area</th>\n",
       "    </tr>\n",
       "  </thead>\n",
       "  <tbody>\n",
       "    <tr>\n",
       "      <th>0</th>\n",
       "      <td>1</td>\n",
       "      <td>Airport</td>\n",
       "      <td>1</td>\n",
       "      <td>1</td>\n",
       "      <td>Neighborhood Cluster 1</td>\n",
       "      <td>Map 1-1B</td>\n",
       "      <td>Map 1-1A</td>\n",
       "      <td>0</td>\n",
       "      <td>49178.410893</td>\n",
       "      <td>1.292113e+08</td>\n",
       "    </tr>\n",
       "    <tr>\n",
       "      <th>1</th>\n",
       "      <td>2</td>\n",
       "      <td>Bagley</td>\n",
       "      <td>10</td>\n",
       "      <td>1</td>\n",
       "      <td>Neighborhood Cluster 10</td>\n",
       "      <td>Map 10-1B</td>\n",
       "      <td>Map 10-1A</td>\n",
       "      <td>3</td>\n",
       "      <td>32646.892258</td>\n",
       "      <td>5.437710e+07</td>\n",
       "    </tr>\n",
       "    <tr>\n",
       "      <th>2</th>\n",
       "      <td>3</td>\n",
       "      <td>Boynton</td>\n",
       "      <td>5</td>\n",
       "      <td>1</td>\n",
       "      <td>Neighborhood Cluster 5</td>\n",
       "      <td>Map 5-1B</td>\n",
       "      <td>Map 5-1A</td>\n",
       "      <td>1</td>\n",
       "      <td>39759.946468</td>\n",
       "      <td>6.496687e+07</td>\n",
       "    </tr>\n",
       "    <tr>\n",
       "      <th>3</th>\n",
       "      <td>4</td>\n",
       "      <td>Brightmoor</td>\n",
       "      <td>8</td>\n",
       "      <td>1</td>\n",
       "      <td>Neighborhood Cluster 8</td>\n",
       "      <td>Map 8-1B</td>\n",
       "      <td>Map 8-1A</td>\n",
       "      <td>1</td>\n",
       "      <td>54589.268292</td>\n",
       "      <td>1.089440e+08</td>\n",
       "    </tr>\n",
       "    <tr>\n",
       "      <th>4</th>\n",
       "      <td>5</td>\n",
       "      <td>Brooks</td>\n",
       "      <td>7</td>\n",
       "      <td>1</td>\n",
       "      <td>Neighborhood Cluster 7</td>\n",
       "      <td>Map 7-1B</td>\n",
       "      <td>Map 7-1A</td>\n",
       "      <td>1</td>\n",
       "      <td>51172.011857</td>\n",
       "      <td>1.249278e+08</td>\n",
       "    </tr>\n",
       "  </tbody>\n",
       "</table>\n",
       "</div>"
      ],
      "text/plain": [
       "   FID       NHOOD  Cluster  MapNo                   NeighC    MapPage  \\\n",
       "0    1     Airport        1      1   Neighborhood Cluster 1   Map 1-1B   \n",
       "1    2      Bagley       10      1  Neighborhood Cluster 10  Map 10-1B   \n",
       "2    3     Boynton        5      1   Neighborhood Cluster 5   Map 5-1B   \n",
       "3    4  Brightmoor        8      1   Neighborhood Cluster 8   Map 8-1B   \n",
       "4    5      Brooks        7      1   Neighborhood Cluster 7   Map 7-1B   \n",
       "\n",
       "  MapPage_LU  F4Color_key  SHAPE_Length    SHAPE_Area  \n",
       "0   Map 1-1A            0  49178.410893  1.292113e+08  \n",
       "1  Map 10-1A            3  32646.892258  5.437710e+07  \n",
       "2   Map 5-1A            1  39759.946468  6.496687e+07  \n",
       "3   Map 8-1A            1  54589.268292  1.089440e+08  \n",
       "4   Map 7-1A            1  51172.011857  1.249278e+08  "
      ]
     },
     "execution_count": 37,
     "metadata": {},
     "output_type": "execute_result"
    }
   ],
   "source": [
    "plan = pd.read_csv('data/Master_Plan_Neighborhoods.csv')\n",
    "plan.head()"
   ]
  },
  {
   "cell_type": "code",
   "execution_count": 38,
   "metadata": {
    "scrolled": true
   },
   "outputs": [
    {
     "data": {
      "text/plain": [
       "(54, 10)"
      ]
     },
     "execution_count": 38,
     "metadata": {},
     "output_type": "execute_result"
    }
   ],
   "source": [
    "plan.shape"
   ]
  },
  {
   "cell_type": "markdown",
   "metadata": {},
   "source": [
    "#### Selecting Columns"
   ]
  },
  {
   "cell_type": "markdown",
   "metadata": {},
   "source": [
    "We are only concerned with whether a neighborhood with high crime is a Master Plan neighborhood, so we just extract the neighborhood (`NHOOD`) column."
   ]
  },
  {
   "cell_type": "code",
   "execution_count": 39,
   "metadata": {},
   "outputs": [
    {
     "data": {
      "text/plain": [
       "0       Airport\n",
       "1        Bagley\n",
       "2       Boynton\n",
       "3    Brightmoor\n",
       "4        Brooks\n",
       "Name: NHOOD, dtype: object"
      ]
     },
     "execution_count": 39,
     "metadata": {},
     "output_type": "execute_result"
    }
   ],
   "source": [
    "plan = plan['NHOOD']\n",
    "plan.head()"
   ]
  },
  {
   "cell_type": "markdown",
   "metadata": {},
   "source": [
    "#### Missing Values"
   ]
  },
  {
   "cell_type": "code",
   "execution_count": 40,
   "metadata": {},
   "outputs": [
    {
     "data": {
      "text/plain": [
       "0"
      ]
     },
     "execution_count": 40,
     "metadata": {},
     "output_type": "execute_result"
    }
   ],
   "source": [
    "plan.isnull().sum()"
   ]
  },
  {
   "cell_type": "markdown",
   "metadata": {},
   "source": [
    "We can see that there are no columns containing null values, hence we don't need to drop any rows. "
   ]
  },
  {
   "cell_type": "markdown",
   "metadata": {},
   "source": [
    "#### Keeping Neighborhoods in `crime`\n",
    "Below, we observe that the neighborhoods in `plan` and those in `crime` aren't the same, which makes sense. However, we might have some that are the same but are referred to as different names. Let's see if we can look for some similarities."
   ]
  },
  {
   "cell_type": "code",
   "execution_count": 41,
   "metadata": {},
   "outputs": [
    {
     "data": {
      "text/plain": [
       "{'Airport',\n",
       " 'Brooks',\n",
       " 'Butzel',\n",
       " 'Central Business District',\n",
       " 'Cerveny / Grandmont',\n",
       " 'Chadsey',\n",
       " 'Cody',\n",
       " 'Condon',\n",
       " 'Davison',\n",
       " 'Durfee',\n",
       " 'East Riverside',\n",
       " 'Evergreen',\n",
       " 'Finney',\n",
       " 'Foch',\n",
       " 'Grant',\n",
       " 'Hubbard Richard',\n",
       " 'Jefferson / Mack',\n",
       " 'Jeffries',\n",
       " 'Kettering',\n",
       " 'Lower East Central',\n",
       " 'Lower Woodward',\n",
       " 'McNichols',\n",
       " 'Middle East Central',\n",
       " 'Middle Woodward',\n",
       " 'Mt. Olivet',\n",
       " 'Near East Riverfront',\n",
       " 'Nolan',\n",
       " 'Redford',\n",
       " 'Rosa Parks',\n",
       " 'Rosedale',\n",
       " 'Rouge',\n",
       " 'Springwells',\n",
       " 'State Fair',\n",
       " 'Upper East Central',\n",
       " 'Vernor / Junction',\n",
       " 'West Riverfront',\n",
       " 'Winterhalter'}"
      ]
     },
     "execution_count": 41,
     "metadata": {},
     "output_type": "execute_result"
    }
   ],
   "source": [
    "# Neighborhoods that these datasets don't share\n",
    "set(plan.values) - set(crime['neighborhood'])"
   ]
  },
  {
   "cell_type": "code",
   "execution_count": 42,
   "metadata": {},
   "outputs": [],
   "source": [
    "plan = plan.replace('Airport', 'City Airport')\n",
    "plan = plan.replace('Central Business District', 'Downtown')\n",
    "plan = plan.replace('Winterhalter', 'Winter Halter')\n",
    "plan = plan.replace('Mt. Olivet', 'Mt. Olivet Cemetery')\n",
    "plan = plan.replace('Middle East Central', 'Downtown')\n",
    "plan = plan.replace('Lower East Central', 'Downtown')\n",
    "plan = plan.replace('Kettering', 'Ketterring')\n",
    "plan = plan.replace('Hubbard Richard', 'Hubbard-Richard')\n",
    "\n",
    "crime['neighborhood'] = crime['neighborhood'].replace('State Fair-Nolan', 'State Fair')\n",
    "crime['neighborhood'] = crime['neighborhood'].replace('State Fair-Gratiot', 'State Fair')\n",
    "crime['neighborhood'] = crime['neighborhood'].replace('Gradmont-Rosedale', 'Rosedale')\n",
    "crime['neighborhood'] = crime['neighborhood'].replace('North Rosedale Park', 'Rosedale')\n",
    "crime['neighborhood'] = crime['neighborhood'].replace('Rosedale Park', 'Rosedale')\n",
    "crime['neighborhood'] = crime['neighborhood'].replace('Old Redford', 'Redford')\n",
    "crime['neighborhood'] = crime['neighborhood'].replace('Evergreen 6/7 Mile', 'Evergreen')\n",
    "crime['neighborhood'] = crime['neighborhood'].replace(' Evergreen 7/8Mile', 'Evergreen')\n",
    "crime['neighborhood'] = crime['neighborhood'].replace('Cerveny', 'Cerveny / Grandmont')\n",
    "crime['neighborhood'] = crime['neighborhood'].replace('Grandmont', 'Cerveny / Grandmont')"
   ]
  },
  {
   "cell_type": "markdown",
   "metadata": {},
   "source": [
    "We've changed the neighborhoods in each dataset to ensure we're referring to the same thing. This should reduce bias in our analysis."
   ]
  },
  {
   "cell_type": "code",
   "execution_count": 43,
   "metadata": {},
   "outputs": [],
   "source": [
    "exclude = list(set(plan.values) - set(crime['neighborhood']))\n",
    "plan = plan[~plan.isin(exclude)]"
   ]
  },
  {
   "cell_type": "markdown",
   "metadata": {},
   "source": [
    "## Combining Datasets and Adding Features\n",
    "### `crime` and `scout`\n",
    "We will not be using conventional DataFrame merging operations on these two datasets, since `scout` is just a column of precincts. Instead, we will append a new column to `crime`, `is_patrolled`, indicating whether a precinct in that dataset is in `scout`. This will be a new categorical feature."
   ]
  },
  {
   "cell_type": "code",
   "execution_count": 44,
   "metadata": {},
   "outputs": [
    {
     "data": {
      "text/plain": [
       "Text(0, 0.5, 'Frequency')"
      ]
     },
     "execution_count": 44,
     "metadata": {},
     "output_type": "execute_result"
    },
    {
     "data": {
      "image/png": "[encoded data removed]",
      "text/plain": [
       "<Figure size 432x288 with 1 Axes>"
      ]
     },
     "metadata": {},
     "output_type": "display_data"
    }
   ],
   "source": [
    "crime['is_patrolled'] = np.where(crime['precinct'].isin(scout['precinct']), 1, 0)\n",
    "crime['is_patrolled'].hist()\n",
    "plt.title('is_patrolled Precinct Distribution')\n",
    "plt.xlabel('is_patrolled')\n",
    "plt.ylabel('Frequency')"
   ]
  },
  {
   "cell_type": "markdown",
   "metadata": {},
   "source": [
    "This column isn't very interesting because only one neighborhood isn't patrolled, and this distribution yields a huge class imbalance. However, as seem in the `scout` precinct distributions, some neighborhoods have more scouting areas than others. We can split these accounts into quartiles, and add a binary column, `patrolled_top_quartile`, to `crime`, to indicate, whether that neighborhood has a number of scouted areas that are in the upper quartile for the whole city."
   ]
  },
  {
   "cell_type": "code",
   "execution_count": 45,
   "metadata": {},
   "outputs": [
    {
     "data": {
      "text/plain": [
       "Text(0, 0.5, 'Frequency')"
      ]
     },
     "execution_count": 45,
     "metadata": {},
     "output_type": "execute_result"
    },
    {
     "data": {
      "image/png": "[encoded data removed]",
      "text/plain": [
       "<Figure size 432x288 with 1 Axes>"
      ]
     },
     "metadata": {},
     "output_type": "display_data"
    }
   ],
   "source": [
    "scout_srs = pd.Series(scout['precinct'])\n",
    "\n",
    "top_quartile_count = scout_srs.value_counts().describe().loc['75%']\n",
    "top_quartile_precincts = scout_srs.value_counts()[\n",
    "    scout_srs.value_counts() >= top_quartile_count\n",
    "].index.get_level_values(0)\n",
    "\n",
    "crime['partolled_top_quartile'] = np.where(crime['precinct'].isin(top_quartile_precincts), 1, 0)\n",
    "crime['partolled_top_quartile'].hist()\n",
    "plt.title('is_patrolled_top_quartile Precinct Distribution')\n",
    "plt.xlabel('is_patrolled')\n",
    "plt.ylabel('Frequency')"
   ]
  },
  {
   "cell_type": "markdown",
   "metadata": {},
   "source": [
    "The balance isn't as prominent as before, but it's still there, which, taken into real-world context, is good. Note that this column is not an purely an indicator of the DPD's decisions on where to patrol. Since we are measuring number of areas in each precinct, this column can also take into account factors like size.\n",
    "\n",
    "We have added two new columns based on information from `scouts` into our master dataset.\n",
    "\n",
    "### `crime` and `storm`\n",
    "We add some new features to indicate how much green storm infrastructure a neighborhood has (after 1970, before 2015). We believe this is important because this can be the sign of an affluent neighborhood."
   ]
  },
  {
   "cell_type": "code",
   "execution_count": 46,
   "metadata": {},
   "outputs": [],
   "source": [
    "storm_counts = storm.value_counts()\n",
    "\n",
    "def get_storm_count(nborhood):\n",
    "    try:\n",
    "        return storm_counts.loc[nborhood]\n",
    "    except KeyError:\n",
    "        return 0\n",
    "\n",
    "crime['num_storm_drains'] = crime['neighborhood'].apply(get_storm_count)\n",
    "crime['has_storm_drains'] = (crime['num_storm_drains'] > 0).astype(int)"
   ]
  },
  {
   "cell_type": "code",
   "execution_count": 47,
   "metadata": {},
   "outputs": [
    {
     "data": {
      "text/plain": [
       "Text(0, 0.5, 'Frequency')"
      ]
     },
     "execution_count": 47,
     "metadata": {},
     "output_type": "execute_result"
    },
    {
     "data": {
      "image/png": "[encoded data removed]",
      "text/plain": [
       "<Figure size 432x288 with 1 Axes>"
      ]
     },
     "metadata": {},
     "output_type": "display_data"
    }
   ],
   "source": [
    "crime['has_storm_drains'].hist()\n",
    "plt.title('Neighborhoods Having Storm Drains (1=Yes, 0=No)')\n",
    "plt.xlabel('has_storm_drains')\n",
    "plt.ylabel('Frequency')"
   ]
  },
  {
   "cell_type": "markdown",
   "metadata": {},
   "source": [
    "There is a significant imbalance in classes in this feature. Unfortunatel, there isn't as much we can do in the cleaning phase to work around this."
   ]
  },
  {
   "cell_type": "markdown",
   "metadata": {},
   "source": [
    "### `crime` and `plan`\n",
    "These two will be pretty easy combine. We will just add another column indicating whether that neighboorhood is a Master Plan neighborhood."
   ]
  },
  {
   "cell_type": "code",
   "execution_count": 48,
   "metadata": {},
   "outputs": [
    {
     "data": {
      "text/plain": [
       "<AxesSubplot:>"
      ]
     },
     "execution_count": 48,
     "metadata": {},
     "output_type": "execute_result"
    },
    {
     "data": {
      "image/png": "[encoded data removed]",
      "text/plain": [
       "<Figure size 432x288 with 1 Axes>"
      ]
     },
     "metadata": {},
     "output_type": "display_data"
    }
   ],
   "source": [
    "crime['is_master_plan'] = crime['neighborhood'].isin(plan).astype(int)\n",
    "crime['is_master_plan'].hist()"
   ]
  },
  {
   "cell_type": "markdown",
   "metadata": {},
   "source": [
    "We seem to have a fair amount of Master Plan Neighborhoods, and the classes are a little less imbalanced."
   ]
  },
  {
   "cell_type": "markdown",
   "metadata": {},
   "source": [
    "## Master Dataset\n",
    "We have combined our datasets, and our master dataset looks as follows:"
   ]
  },
  {
   "cell_type": "code",
   "execution_count": 49,
   "metadata": {},
   "outputs": [
    {
     "data": {
      "text/html": [
       "<div>\n",
       "<style scoped>\n",
       "    .dataframe tbody tr th:only-of-type {\n",
       "        vertical-align: middle;\n",
       "    }\n",
       "\n",
       "    .dataframe tbody tr th {\n",
       "        vertical-align: top;\n",
       "    }\n",
       "\n",
       "    .dataframe thead th {\n",
       "        text-align: right;\n",
       "    }\n",
       "</style>\n",
       "<table border=\"1\" class=\"dataframe\">\n",
       "  <thead>\n",
       "    <tr style=\"text-align: right;\">\n",
       "      <th></th>\n",
       "      <th>crime_category</th>\n",
       "      <th>date</th>\n",
       "      <th>neighborhood</th>\n",
       "      <th>precinct</th>\n",
       "      <th>latitude</th>\n",
       "      <th>longitude</th>\n",
       "      <th>is_patrolled</th>\n",
       "      <th>partolled_top_quartile</th>\n",
       "      <th>num_storm_drains</th>\n",
       "      <th>has_storm_drains</th>\n",
       "      <th>is_master_plan</th>\n",
       "    </tr>\n",
       "  </thead>\n",
       "  <tbody>\n",
       "    <tr>\n",
       "      <th>0</th>\n",
       "      <td>STOLEN VEHICLE</td>\n",
       "      <td>2011/01</td>\n",
       "      <td>Pershing</td>\n",
       "      <td>11.0</td>\n",
       "      <td>42.4382</td>\n",
       "      <td>83.0579</td>\n",
       "      <td>1</td>\n",
       "      <td>1</td>\n",
       "      <td>0</td>\n",
       "      <td>0</td>\n",
       "      <td>1</td>\n",
       "    </tr>\n",
       "    <tr>\n",
       "      <th>1</th>\n",
       "      <td>AGGRAVATED ASSAULT</td>\n",
       "      <td>2011/01</td>\n",
       "      <td>Lafayette Park</td>\n",
       "      <td>7.0</td>\n",
       "      <td>42.3394</td>\n",
       "      <td>83.0295</td>\n",
       "      <td>1</td>\n",
       "      <td>1</td>\n",
       "      <td>0</td>\n",
       "      <td>0</td>\n",
       "      <td>0</td>\n",
       "    </tr>\n",
       "    <tr>\n",
       "      <th>2</th>\n",
       "      <td>LARCENY</td>\n",
       "      <td>2011/01</td>\n",
       "      <td>Outer Drive Van Dyke</td>\n",
       "      <td>11.0</td>\n",
       "      <td>42.4415</td>\n",
       "      <td>83.0238</td>\n",
       "      <td>1</td>\n",
       "      <td>1</td>\n",
       "      <td>0</td>\n",
       "      <td>0</td>\n",
       "      <td>0</td>\n",
       "    </tr>\n",
       "    <tr>\n",
       "      <th>3</th>\n",
       "      <td>LARCENY</td>\n",
       "      <td>2011/01</td>\n",
       "      <td>Chene</td>\n",
       "      <td>7.0</td>\n",
       "      <td>42.3606</td>\n",
       "      <td>83.0339</td>\n",
       "      <td>1</td>\n",
       "      <td>1</td>\n",
       "      <td>0</td>\n",
       "      <td>0</td>\n",
       "      <td>0</td>\n",
       "    </tr>\n",
       "    <tr>\n",
       "      <th>4</th>\n",
       "      <td>STOLEN VEHICLE</td>\n",
       "      <td>2011/01</td>\n",
       "      <td>Warrendale</td>\n",
       "      <td>6.0</td>\n",
       "      <td>42.3328</td>\n",
       "      <td>83.2280</td>\n",
       "      <td>1</td>\n",
       "      <td>1</td>\n",
       "      <td>0</td>\n",
       "      <td>0</td>\n",
       "      <td>0</td>\n",
       "    </tr>\n",
       "  </tbody>\n",
       "</table>\n",
       "</div>"
      ],
      "text/plain": [
       "       crime_category     date          neighborhood  precinct  latitude  \\\n",
       "0      STOLEN VEHICLE  2011/01              Pershing      11.0   42.4382   \n",
       "1  AGGRAVATED ASSAULT  2011/01        Lafayette Park       7.0   42.3394   \n",
       "2             LARCENY  2011/01  Outer Drive Van Dyke      11.0   42.4415   \n",
       "3             LARCENY  2011/01                 Chene       7.0   42.3606   \n",
       "4      STOLEN VEHICLE  2011/01            Warrendale       6.0   42.3328   \n",
       "\n",
       "   longitude  is_patrolled  partolled_top_quartile  num_storm_drains  \\\n",
       "0    83.0579             1                       1                 0   \n",
       "1    83.0295             1                       1                 0   \n",
       "2    83.0238             1                       1                 0   \n",
       "3    83.0339             1                       1                 0   \n",
       "4    83.2280             1                       1                 0   \n",
       "\n",
       "   has_storm_drains  is_master_plan  \n",
       "0                 0               1  \n",
       "1                 0               0  \n",
       "2                 0               0  \n",
       "3                 0               0  \n",
       "4                 0               0  "
      ]
     },
     "execution_count": 49,
     "metadata": {},
     "output_type": "execute_result"
    }
   ],
   "source": [
    "crime.head()"
   ]
  },
  {
   "cell_type": "markdown",
   "metadata": {},
   "source": [
    "# Data Analysis & Results (EDA)"
   ]
  },
  {
   "cell_type": "markdown",
   "metadata": {},
   "source": [
    "For the reason that we have 158 different neighborhoods, we only select the most representative five neighborhoods to analyze: BURBANK, GREENFIELD, DENBY, WARRENDALE and STATE FAIR-NOLAN."
   ]
  },
  {
   "cell_type": "code",
   "execution_count": 50,
   "metadata": {},
   "outputs": [
    {
     "data": {
      "text/plain": [
       "Burbank                8517\n",
       "Greenfield             7638\n",
       "State Fair             7188\n",
       "Denby                  6930\n",
       "Warrendale             6707\n",
       "                       ... \n",
       "Highland Park            46\n",
       "Hamtramck                40\n",
       "Fisher                   38\n",
       "Woodlawn Cemetery        19\n",
       "Mt. Olivet Cemetery      12\n",
       "Name: neighborhood, Length: 155, dtype: int64"
      ]
     },
     "execution_count": 50,
     "metadata": {},
     "output_type": "execute_result"
    }
   ],
   "source": [
    "crime.neighborhood.value_counts()"
   ]
  },
  {
   "cell_type": "code",
   "execution_count": 60,
   "metadata": {},
   "outputs": [],
   "source": [
    "crime_represent = crime[(crime.neighborhood == 'Burbank') | (crime.neighborhood == 'Greenfield') |\n",
    "                          (crime.neighborhood == 'Denby') | (crime.neighborhood == 'Warrendale') | \n",
    "                          (crime.neighborhood == 'State Fair-Nolan')]"
   ]
  },
  {
   "cell_type": "code",
   "execution_count": 61,
   "metadata": {},
   "outputs": [
    {
     "data": {
      "text/plain": [
       "(29792, 11)"
      ]
     },
     "execution_count": 61,
     "metadata": {},
     "output_type": "execute_result"
    }
   ],
   "source": [
    "crime_represent.shape"
   ]
  },
  {
   "cell_type": "code",
   "execution_count": 62,
   "metadata": {},
   "outputs": [
    {
     "data": {
      "text/html": [
       "<div>\n",
       "<style scoped>\n",
       "    .dataframe tbody tr th:only-of-type {\n",
       "        vertical-align: middle;\n",
       "    }\n",
       "\n",
       "    .dataframe tbody tr th {\n",
       "        vertical-align: top;\n",
       "    }\n",
       "\n",
       "    .dataframe thead th {\n",
       "        text-align: right;\n",
       "    }\n",
       "</style>\n",
       "<table border=\"1\" class=\"dataframe\">\n",
       "  <thead>\n",
       "    <tr style=\"text-align: right;\">\n",
       "      <th></th>\n",
       "      <th>crime_category</th>\n",
       "      <th>date</th>\n",
       "      <th>neighborhood</th>\n",
       "      <th>precinct</th>\n",
       "      <th>latitude</th>\n",
       "      <th>longitude</th>\n",
       "      <th>is_patrolled</th>\n",
       "      <th>partolled_top_quartile</th>\n",
       "      <th>num_storm_drains</th>\n",
       "      <th>has_storm_drains</th>\n",
       "      <th>is_master_plan</th>\n",
       "    </tr>\n",
       "  </thead>\n",
       "  <tbody>\n",
       "    <tr>\n",
       "      <th>4</th>\n",
       "      <td>STOLEN VEHICLE</td>\n",
       "      <td>2011/01</td>\n",
       "      <td>Warrendale</td>\n",
       "      <td>6.0</td>\n",
       "      <td>42.3328</td>\n",
       "      <td>83.2280</td>\n",
       "      <td>1</td>\n",
       "      <td>1</td>\n",
       "      <td>0</td>\n",
       "      <td>0</td>\n",
       "      <td>0</td>\n",
       "    </tr>\n",
       "    <tr>\n",
       "      <th>36</th>\n",
       "      <td>STOLEN VEHICLE</td>\n",
       "      <td>2011/01</td>\n",
       "      <td>Warrendale</td>\n",
       "      <td>6.0</td>\n",
       "      <td>42.3471</td>\n",
       "      <td>83.2236</td>\n",
       "      <td>1</td>\n",
       "      <td>1</td>\n",
       "      <td>0</td>\n",
       "      <td>0</td>\n",
       "      <td>0</td>\n",
       "    </tr>\n",
       "    <tr>\n",
       "      <th>50</th>\n",
       "      <td>AGGRAVATED ASSAULT</td>\n",
       "      <td>2011/01</td>\n",
       "      <td>Burbank</td>\n",
       "      <td>9.0</td>\n",
       "      <td>42.4253</td>\n",
       "      <td>82.9641</td>\n",
       "      <td>1</td>\n",
       "      <td>0</td>\n",
       "      <td>0</td>\n",
       "      <td>0</td>\n",
       "      <td>1</td>\n",
       "    </tr>\n",
       "    <tr>\n",
       "      <th>54</th>\n",
       "      <td>AGGRAVATED ASSAULT</td>\n",
       "      <td>2011/01</td>\n",
       "      <td>Denby</td>\n",
       "      <td>9.0</td>\n",
       "      <td>42.4271</td>\n",
       "      <td>82.9521</td>\n",
       "      <td>1</td>\n",
       "      <td>0</td>\n",
       "      <td>0</td>\n",
       "      <td>0</td>\n",
       "      <td>1</td>\n",
       "    </tr>\n",
       "    <tr>\n",
       "      <th>74</th>\n",
       "      <td>BURGLARY</td>\n",
       "      <td>2011/01</td>\n",
       "      <td>Denby</td>\n",
       "      <td>9.0</td>\n",
       "      <td>42.4146</td>\n",
       "      <td>82.9504</td>\n",
       "      <td>1</td>\n",
       "      <td>0</td>\n",
       "      <td>0</td>\n",
       "      <td>0</td>\n",
       "      <td>1</td>\n",
       "    </tr>\n",
       "    <tr>\n",
       "      <th>...</th>\n",
       "      <td>...</td>\n",
       "      <td>...</td>\n",
       "      <td>...</td>\n",
       "      <td>...</td>\n",
       "      <td>...</td>\n",
       "      <td>...</td>\n",
       "      <td>...</td>\n",
       "      <td>...</td>\n",
       "      <td>...</td>\n",
       "      <td>...</td>\n",
       "      <td>...</td>\n",
       "    </tr>\n",
       "    <tr>\n",
       "      <th>234881</th>\n",
       "      <td>LARCENY</td>\n",
       "      <td>2014/12</td>\n",
       "      <td>Warrendale</td>\n",
       "      <td>6.0</td>\n",
       "      <td>42.3539</td>\n",
       "      <td>83.2403</td>\n",
       "      <td>1</td>\n",
       "      <td>1</td>\n",
       "      <td>0</td>\n",
       "      <td>0</td>\n",
       "      <td>0</td>\n",
       "    </tr>\n",
       "    <tr>\n",
       "      <th>234932</th>\n",
       "      <td>STOLEN VEHICLE</td>\n",
       "      <td>2014/02</td>\n",
       "      <td>Denby</td>\n",
       "      <td>9.0</td>\n",
       "      <td>42.4104</td>\n",
       "      <td>82.9470</td>\n",
       "      <td>1</td>\n",
       "      <td>0</td>\n",
       "      <td>0</td>\n",
       "      <td>0</td>\n",
       "      <td>1</td>\n",
       "    </tr>\n",
       "    <tr>\n",
       "      <th>234941</th>\n",
       "      <td>LARCENY</td>\n",
       "      <td>2014/10</td>\n",
       "      <td>Greenfield</td>\n",
       "      <td>8.0</td>\n",
       "      <td>42.4325</td>\n",
       "      <td>83.2007</td>\n",
       "      <td>1</td>\n",
       "      <td>1</td>\n",
       "      <td>0</td>\n",
       "      <td>0</td>\n",
       "      <td>1</td>\n",
       "    </tr>\n",
       "    <tr>\n",
       "      <th>234942</th>\n",
       "      <td>STOLEN VEHICLE</td>\n",
       "      <td>2014/07</td>\n",
       "      <td>Denby</td>\n",
       "      <td>9.0</td>\n",
       "      <td>42.4113</td>\n",
       "      <td>82.9599</td>\n",
       "      <td>1</td>\n",
       "      <td>0</td>\n",
       "      <td>0</td>\n",
       "      <td>0</td>\n",
       "      <td>1</td>\n",
       "    </tr>\n",
       "    <tr>\n",
       "      <th>234956</th>\n",
       "      <td>LARCENY</td>\n",
       "      <td>2014/12</td>\n",
       "      <td>Burbank</td>\n",
       "      <td>9.0</td>\n",
       "      <td>42.4373</td>\n",
       "      <td>82.9763</td>\n",
       "      <td>1</td>\n",
       "      <td>0</td>\n",
       "      <td>0</td>\n",
       "      <td>0</td>\n",
       "      <td>1</td>\n",
       "    </tr>\n",
       "  </tbody>\n",
       "</table>\n",
       "<p>29792 rows × 11 columns</p>\n",
       "</div>"
      ],
      "text/plain": [
       "            crime_category     date neighborhood  precinct  latitude  \\\n",
       "4           STOLEN VEHICLE  2011/01   Warrendale       6.0   42.3328   \n",
       "36          STOLEN VEHICLE  2011/01   Warrendale       6.0   42.3471   \n",
       "50      AGGRAVATED ASSAULT  2011/01      Burbank       9.0   42.4253   \n",
       "54      AGGRAVATED ASSAULT  2011/01        Denby       9.0   42.4271   \n",
       "74                BURGLARY  2011/01        Denby       9.0   42.4146   \n",
       "...                    ...      ...          ...       ...       ...   \n",
       "234881             LARCENY  2014/12   Warrendale       6.0   42.3539   \n",
       "234932      STOLEN VEHICLE  2014/02        Denby       9.0   42.4104   \n",
       "234941             LARCENY  2014/10   Greenfield       8.0   42.4325   \n",
       "234942      STOLEN VEHICLE  2014/07        Denby       9.0   42.4113   \n",
       "234956             LARCENY  2014/12      Burbank       9.0   42.4373   \n",
       "\n",
       "        longitude  is_patrolled  partolled_top_quartile  num_storm_drains  \\\n",
       "4         83.2280             1                       1                 0   \n",
       "36        83.2236             1                       1                 0   \n",
       "50        82.9641             1                       0                 0   \n",
       "54        82.9521             1                       0                 0   \n",
       "74        82.9504             1                       0                 0   \n",
       "...           ...           ...                     ...               ...   \n",
       "234881    83.2403             1                       1                 0   \n",
       "234932    82.9470             1                       0                 0   \n",
       "234941    83.2007             1                       1                 0   \n",
       "234942    82.9599             1                       0                 0   \n",
       "234956    82.9763             1                       0                 0   \n",
       "\n",
       "        has_storm_drains  is_master_plan  \n",
       "4                      0               0  \n",
       "36                     0               0  \n",
       "50                     0               1  \n",
       "54                     0               1  \n",
       "74                     0               1  \n",
       "...                  ...             ...  \n",
       "234881                 0               0  \n",
       "234932                 0               1  \n",
       "234941                 0               1  \n",
       "234942                 0               1  \n",
       "234956                 0               1  \n",
       "\n",
       "[29792 rows x 11 columns]"
      ]
     },
     "execution_count": 62,
     "metadata": {},
     "output_type": "execute_result"
    }
   ],
   "source": [
    "crime_represent"
   ]
  },
  {
   "cell_type": "markdown",
   "metadata": {},
   "source": [
    "There are 6 different types of crime and we need to find out which categoty is the most common crime."
   ]
  },
  {
   "cell_type": "code",
   "execution_count": 53,
   "metadata": {},
   "outputs": [
    {
     "data": {
      "text/plain": [
       "LARCENY               69577\n",
       "BURGLARY              56149\n",
       "STOLEN VEHICLE        48007\n",
       "AGGRAVATED ASSAULT    37010\n",
       "ROBBERY               20883\n",
       "HOMICIDE               1381\n",
       "Name: crime_category, dtype: int64"
      ]
     },
     "execution_count": 53,
     "metadata": {},
     "output_type": "execute_result"
    }
   ],
   "source": [
    "crime.crime_category.value_counts()"
   ]
  },
  {
   "cell_type": "code",
   "execution_count": 63,
   "metadata": {
    "scrolled": true
   },
   "outputs": [
    {
     "data": {
      "text/plain": [
       "<matplotlib.legend.Legend at 0x7fa21d96c070>"
      ]
     },
     "execution_count": 63,
     "metadata": {},
     "output_type": "execute_result"
    },
    {
     "data": {
      "image/png": "[encoded data removed]",
      "text/plain": [
       "<Figure size 432x288 with 1 Axes>"
      ]
     },
     "metadata": {},
     "output_type": "display_data"
    }
   ],
   "source": [
    "chart_byCategory = sns.countplot(x = 'crime_category', hue='neighborhood', palette=\"Set2\", data = crime_represent)\n",
    "chart_byCategory.set_xticklabels(chart_byCategory.get_xticklabels(), rotation=60, horizontalalignment='right')\n",
    "plt.legend(bbox_to_anchor=(1.05, 1), loc=2, borderaxespad=0.)"
   ]
  },
  {
   "cell_type": "markdown",
   "metadata": {},
   "source": [
    "From the graph above, we can see that DENBY has the most number of stolen vehicle, BURBANK has the most number of burglary and aggravated assult, GREENFIELD has the most number of larceny and robbbery, and STATE FAIR-NOLAN has the most number of homicide."
   ]
  },
  {
   "cell_type": "code",
   "execution_count": 64,
   "metadata": {
    "scrolled": true
   },
   "outputs": [
    {
     "data": {
      "text/plain": [
       "<matplotlib.legend.Legend at 0x7fa217334970>"
      ]
     },
     "execution_count": 64,
     "metadata": {},
     "output_type": "execute_result"
    },
    {
     "data": {
      "image/png": "[encoded data removed]",
      "text/plain": [
       "<Figure size 432x288 with 1 Axes>"
      ]
     },
     "metadata": {},
     "output_type": "display_data"
    }
   ],
   "source": [
    "chart_ByNeighborhood = sns.countplot(x = 'neighborhood', hue='crime_category', palette=\"Paired\", data = crime_represent)\n",
    "chart_ByNeighborhood.set_xticklabels(chart_ByNeighborhood.get_xticklabels(), rotation=60, horizontalalignment='right')\n",
    "plt.legend(bbox_to_anchor=(1.05, 1), loc=2, borderaxespad=0.)"
   ]
  },
  {
   "cell_type": "markdown",
   "metadata": {},
   "source": [
    "From the graph above, we can see that DENBY, BURBANK and WARRENDALE have burglary higher than the other categories of crime, STATE FAIR-NOLAN and GREENFILED have larceny and burglary the same severity."
   ]
  },
  {
   "cell_type": "code",
   "execution_count": 65,
   "metadata": {},
   "outputs": [
    {
     "name": "stderr",
     "output_type": "stream",
     "text": [
      "<ipython-input-65-fb3056bd6774>:2: UserWarning: FixedFormatter should only be used together with FixedLocator\n",
      "  date_crime.set_xticklabels(date_crime.get_xticklabels(), rotation=60, horizontalalignment='right')\n"
     ]
    },
    {
     "data": {
      "text/plain": [
       "<matplotlib.legend.Legend at 0x7fa2213a8d00>"
      ]
     },
     "execution_count": 65,
     "metadata": {},
     "output_type": "execute_result"
    },
    {
     "data": {
      "image/png": "[encoded data removed]",
      "text/plain": [
       "<Figure size 432x288 with 1 Axes>"
      ]
     },
     "metadata": {},
     "output_type": "display_data"
    }
   ],
   "source": [
    "date_crime = sns.lineplot(x='date', y = 'neighborhood',hue='crime_category', data = crime_represent)\n",
    "date_crime.set_xticklabels(date_crime.get_xticklabels(), rotation=60, horizontalalignment='right')\n",
    "plt.legend(bbox_to_anchor=(1.05, 1), loc=2, borderaxespad=0.)"
   ]
  },
  {
   "cell_type": "markdown",
   "metadata": {},
   "source": [
    "## Possible Factors from Our Supplemental Datasets\n",
    "Next, we seek to determine whether the features we add from our supplemental data will affect the amount of crime, as well as the most prevalent types of crime in the neighborhoods."
   ]
  },
  {
   "cell_type": "code",
   "execution_count": 66,
   "metadata": {},
   "outputs": [
    {
     "data": {
      "text/plain": [
       "Text(0.5, 0.98, 'Crime Category Comparison of Non-Patrolled and Patrolled Neighborhoods')"
      ]
     },
     "execution_count": 66,
     "metadata": {},
     "output_type": "execute_result"
    },
    {
     "data": {
      "image/png": "[encoded data removed]",
      "text/plain": [
       "<Figure size 1440x432 with 2 Axes>"
      ]
     },
     "metadata": {},
     "output_type": "display_data"
    }
   ],
   "source": [
    "fig, ax = plt.subplots(1, 2, figsize=(20, 6))\n",
    "crime[crime['is_patrolled'] == 0]['crime_category'].value_counts().plot(kind='bar', ax=ax[0], title='Non-Patrolled')\n",
    "crime[crime['is_patrolled'] == 1]['crime_category'].value_counts().plot(kind='bar', ax=ax[1], title='Patrolled')\n",
    "plt.suptitle('Crime Category Comparison of Non-Patrolled and Patrolled Neighborhoods')"
   ]
  },
  {
   "cell_type": "code",
   "execution_count": 67,
   "metadata": {},
   "outputs": [
    {
     "data": {
      "text/plain": [
       "Text(0.5, 0.98, 'Crime Category Comparison of Neighborhoods with Storm Infrastructure')"
      ]
     },
     "execution_count": 67,
     "metadata": {},
     "output_type": "execute_result"
    },
    {
     "data": {
      "image/png": "[encoded data removed]",
      "text/plain": [
       "<Figure size 1440x432 with 2 Axes>"
      ]
     },
     "metadata": {},
     "output_type": "display_data"
    }
   ],
   "source": [
    "fig, ax = plt.subplots(1, 2, figsize=(20, 6))\n",
    "crime[crime['has_storm_drains'] == 0]['crime_category'].value_counts().plot(kind='bar', ax=ax[0], title='No Storm Infra.')\n",
    "crime[crime['has_storm_drains'] == 1]['crime_category'].value_counts().plot(kind='bar', ax=ax[1], title='Has Storm Infra.')\n",
    "plt.suptitle('Crime Category Comparison of Neighborhoods with Storm Infrastructure')"
   ]
  },
  {
   "cell_type": "code",
   "execution_count": 68,
   "metadata": {},
   "outputs": [
    {
     "data": {
      "text/plain": [
       "Text(0.5, 0.98, 'Crime Category Comparison of Master Plan Neighborhoods')"
      ]
     },
     "execution_count": 68,
     "metadata": {},
     "output_type": "execute_result"
    },
    {
     "data": {
      "image/png": "[encoded data removed]",
      "text/plain": [
       "<Figure size 1440x432 with 2 Axes>"
      ]
     },
     "metadata": {},
     "output_type": "display_data"
    }
   ],
   "source": [
    "fig, ax = plt.subplots(1, 2, figsize=(20, 6))\n",
    "crime[crime['is_master_plan'] == 0]['crime_category'].value_counts().plot(kind='bar', ax=ax[0], title='Non-Master Plan')\n",
    "crime[crime['is_master_plan'] == 1]['crime_category'].value_counts().plot(kind='bar', ax=ax[1], title='Master Plan')\n",
    "plt.suptitle('Crime Category Comparison of Master Plan Neighborhoods')"
   ]
  },
  {
   "cell_type": "markdown",
   "metadata": {},
   "source": [
    "- Looking at all three of these factors, the distributions don't seem to vary a lot. \n",
    "- Burglary seems to be as frequent as larceny in Master Plan neighborhoods, while larceny is more frequent in non-Master Plan neighborhoods."
   ]
  },
  {
   "cell_type": "code",
   "execution_count": null,
   "metadata": {},
   "outputs": [],
   "source": []
  }
 ],
 "metadata": {
  "kernelspec": {
   "display_name": "Python 3",
   "language": "python",
   "name": "python3"
  },
  "language_info": {
   "codemirror_mode": {
    "name": "ipython",
    "version": 3
   },
   "file_extension": ".py",
   "mimetype": "text/x-python",
   "name": "python",
   "nbconvert_exporter": "python",
   "pygments_lexer": "ipython3",
   "version": "3.8.5"
  }
 },
 "nbformat": 4,
 "nbformat_minor": 4
}
