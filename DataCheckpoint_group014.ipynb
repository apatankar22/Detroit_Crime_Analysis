{
 "cells": [
  {
   "cell_type": "markdown",
   "metadata": {},
   "source": [
    "# COGS 108 - Data Checkpoint"
   ]
  },
  {
   "cell_type": "markdown",
   "metadata": {},
   "source": [
    "# Names\n",
    "- Zhenyi Chen\n",
    "- Alison Camille Dunning\n",
    "- Matthieu Dante Pardin\n",
    "- Amogh Patankar"
   ]
  },
  {
   "cell_type": "markdown",
   "metadata": {},
   "source": [
    "<a id='research_question'></a>\n",
    "# Research Question"
   ]
  },
  {
   "cell_type": "markdown",
   "metadata": {},
   "source": [
    "*Fill in your research question here*"
   ]
  },
  {
   "cell_type": "markdown",
   "metadata": {},
   "source": [
    "# Dataset(s)"
   ]
  },
  {
   "cell_type": "markdown",
   "metadata": {},
   "source": [
    "*Fill in your dataset information here*\n",
    "\n",
    "(Copy this information for each dataset)\n",
    "- Dataset Name:\n",
    "- Link to the dataset:\n",
    "- Number of observations:\n",
    "\n",
    "1-2 sentences describing each dataset. \n",
    "\n",
    "If you plan to use multiple datasets, add 1-2 sentences about how you plan to combine these datasets."
   ]
  },
  {
   "cell_type": "markdown",
   "metadata": {},
   "source": [
    "### Dataset 1: Reported Major Crimes from 2011 to 2014"
   ]
  },
  {
   "cell_type": "markdown",
   "metadata": {},
   "source": [
    "Link:\n",
    "Number of observations: 234948\n",
    "Description:"
   ]
  },
  {
   "cell_type": "markdown",
   "metadata": {},
   "source": [
    "### Dataset 2: DPD Scout Car Areas"
   ]
  },
  {
   "cell_type": "markdown",
   "metadata": {},
   "source": [
    "Link:\n",
    "Number of observations: 131\n",
    "Description:"
   ]
  },
  {
   "cell_type": "markdown",
   "metadata": {},
   "source": [
    "### Dataset 3: Green Stormwater Infrastructure Locations"
   ]
  },
  {
   "cell_type": "markdown",
   "metadata": {},
   "source": [
    "Link:\n",
    "Number of observations: 233\n",
    "Description:"
   ]
  },
  {
   "cell_type": "markdown",
   "metadata": {},
   "source": [
    "### Dataset 4: Master Plan Neighborhoods"
   ]
  },
  {
   "cell_type": "markdown",
   "metadata": {},
   "source": [
    "Link:\n",
    "Number of observations: 54\n",
    "Description:"
   ]
  },
  {
   "cell_type": "markdown",
   "metadata": {},
   "source": [
    "### Dateset5: SMART Bus Stops"
   ]
  },
  {
   "cell_type": "markdown",
   "metadata": {},
   "source": [
    "Link: \n",
    "Number of observations: 5372\n",
    "Description:"
   ]
  },
  {
   "cell_type": "markdown",
   "metadata": {},
   "source": [
    "# Setup"
   ]
  },
  {
   "cell_type": "code",
   "execution_count": 1,
   "metadata": {},
   "outputs": [],
   "source": [
    "import matplotlib.pyplot as plt\n",
    "import numpy as np\n",
    "import pandas as pd\n",
    "import re\n",
    "import seaborn as sns\n",
    "\n",
    "sns.set_context('notebook', font_scale=1.5, rc={'lines.linewidth': 2.5})\n",
    "sns.set_style('darkgrid')"
   ]
  },
  {
   "cell_type": "markdown",
   "metadata": {},
   "source": [
    "# Data Cleaning\n",
    "## Cleaning Individual Datasets\n",
    "Before merging all the datasets, we will conduct cleaning procedures for each individual dataset."
   ]
  },
  {
   "cell_type": "markdown",
   "metadata": {},
   "source": [
    "### Crime Dataset"
   ]
  },
  {
   "cell_type": "code",
   "execution_count": 2,
   "metadata": {},
   "outputs": [
    {
     "data": {
      "text/html": [
       "<div>\n",
       "<style scoped>\n",
       "    .dataframe tbody tr th:only-of-type {\n",
       "        vertical-align: middle;\n",
       "    }\n",
       "\n",
       "    .dataframe tbody tr th {\n",
       "        vertical-align: top;\n",
       "    }\n",
       "\n",
       "    .dataframe thead th {\n",
       "        text-align: right;\n",
       "    }\n",
       "</style>\n",
       "<table border=\"1\" class=\"dataframe\">\n",
       "  <thead>\n",
       "    <tr style=\"text-align: right;\">\n",
       "      <th></th>\n",
       "      <th>ROWNUM</th>\n",
       "      <th>CATEGORY</th>\n",
       "      <th>OFFENSEDESCRIPTION</th>\n",
       "      <th>STATEOFFENSEFILECLASS</th>\n",
       "      <th>INCIDENTDATE</th>\n",
       "      <th>HOUR</th>\n",
       "      <th>SCA</th>\n",
       "      <th>PRECINCT</th>\n",
       "      <th>NEIGHBORHOOD</th>\n",
       "      <th>CENSUSTRACT</th>\n",
       "      <th>LOCATION</th>\n",
       "      <th>ObjectId</th>\n",
       "    </tr>\n",
       "  </thead>\n",
       "  <tbody>\n",
       "    <tr>\n",
       "      <th>0</th>\n",
       "      <td>1311873</td>\n",
       "      <td>STOLEN VEHICLE</td>\n",
       "      <td>VEHICLE THEFT</td>\n",
       "      <td>24001</td>\n",
       "      <td>2011/01/02 00:00:00+00</td>\n",
       "      <td>0</td>\n",
       "      <td>1103.0</td>\n",
       "      <td>11.0</td>\n",
       "      <td>PERSHING</td>\n",
       "      <td>5066.0</td>\n",
       "      <td>00 EUREKA/E LANTZ\\n(42.4382, -83.0579)</td>\n",
       "      <td>1</td>\n",
       "    </tr>\n",
       "    <tr>\n",
       "      <th>1</th>\n",
       "      <td>1311874</td>\n",
       "      <td>AGGRAVATED ASSAULT</td>\n",
       "      <td>AGG/FEL ASSAULT - NON-FAMILY - OTHER WEAPON</td>\n",
       "      <td>13002</td>\n",
       "      <td>2011/01/02 00:00:00+00</td>\n",
       "      <td>11</td>\n",
       "      <td>709.0</td>\n",
       "      <td>7.0</td>\n",
       "      <td>LAFAYETTE PARK</td>\n",
       "      <td>5166.0</td>\n",
       "      <td>E.LAFAYETTE01800\\n(42.3394, -83.0295)</td>\n",
       "      <td>2</td>\n",
       "    </tr>\n",
       "    <tr>\n",
       "      <th>2</th>\n",
       "      <td>1311878</td>\n",
       "      <td>LARCENY</td>\n",
       "      <td>LARCENY - FROM BUILDING (INCLUDES LIBRARY, OFF...</td>\n",
       "      <td>23003</td>\n",
       "      <td>2011/01/02 00:00:00+00</td>\n",
       "      <td>11</td>\n",
       "      <td>1105.0</td>\n",
       "      <td>11.0</td>\n",
       "      <td>OUTER DRIVE VAN DYKE</td>\n",
       "      <td>5051.0</td>\n",
       "      <td>VANDYKE19900\\n(42.4415, -83.0238)</td>\n",
       "      <td>3</td>\n",
       "    </tr>\n",
       "    <tr>\n",
       "      <th>3</th>\n",
       "      <td>1311879</td>\n",
       "      <td>LARCENY</td>\n",
       "      <td>LARCENY (OTHER)</td>\n",
       "      <td>23007</td>\n",
       "      <td>2011/01/01 00:00:00+00</td>\n",
       "      <td>20</td>\n",
       "      <td>706.0</td>\n",
       "      <td>7.0</td>\n",
       "      <td>CHENE</td>\n",
       "      <td>5188.0</td>\n",
       "      <td>JOS CAMPAU04100\\n(42.3606, -83.0339)</td>\n",
       "      <td>4</td>\n",
       "    </tr>\n",
       "    <tr>\n",
       "      <th>4</th>\n",
       "      <td>1311883</td>\n",
       "      <td>STOLEN VEHICLE</td>\n",
       "      <td>VEHICLE THEFT</td>\n",
       "      <td>24001</td>\n",
       "      <td>2011/01/02 00:00:00+00</td>\n",
       "      <td>3</td>\n",
       "      <td>612.0</td>\n",
       "      <td>6.0</td>\n",
       "      <td>WARRENDALE</td>\n",
       "      <td>5457.0</td>\n",
       "      <td>PIEDMONT06000\\n(42.3328, -83.228)</td>\n",
       "      <td>5</td>\n",
       "    </tr>\n",
       "  </tbody>\n",
       "</table>\n",
       "</div>"
      ],
      "text/plain": [
       "    ROWNUM            CATEGORY  \\\n",
       "0  1311873      STOLEN VEHICLE   \n",
       "1  1311874  AGGRAVATED ASSAULT   \n",
       "2  1311878             LARCENY   \n",
       "3  1311879             LARCENY   \n",
       "4  1311883      STOLEN VEHICLE   \n",
       "\n",
       "                                  OFFENSEDESCRIPTION  STATEOFFENSEFILECLASS  \\\n",
       "0                                      VEHICLE THEFT                  24001   \n",
       "1        AGG/FEL ASSAULT - NON-FAMILY - OTHER WEAPON                  13002   \n",
       "2  LARCENY - FROM BUILDING (INCLUDES LIBRARY, OFF...                  23003   \n",
       "3                                    LARCENY (OTHER)                  23007   \n",
       "4                                      VEHICLE THEFT                  24001   \n",
       "\n",
       "             INCIDENTDATE  HOUR     SCA  PRECINCT          NEIGHBORHOOD  \\\n",
       "0  2011/01/02 00:00:00+00     0  1103.0      11.0              PERSHING   \n",
       "1  2011/01/02 00:00:00+00    11   709.0       7.0        LAFAYETTE PARK   \n",
       "2  2011/01/02 00:00:00+00    11  1105.0      11.0  OUTER DRIVE VAN DYKE   \n",
       "3  2011/01/01 00:00:00+00    20   706.0       7.0                 CHENE   \n",
       "4  2011/01/02 00:00:00+00     3   612.0       6.0            WARRENDALE   \n",
       "\n",
       "   CENSUSTRACT                                LOCATION  ObjectId  \n",
       "0       5066.0  00 EUREKA/E LANTZ\\n(42.4382, -83.0579)         1  \n",
       "1       5166.0   E.LAFAYETTE01800\\n(42.3394, -83.0295)         2  \n",
       "2       5051.0       VANDYKE19900\\n(42.4415, -83.0238)         3  \n",
       "3       5188.0    JOS CAMPAU04100\\n(42.3606, -83.0339)         4  \n",
       "4       5457.0       PIEDMONT06000\\n(42.3328, -83.228)         5  "
      ]
     },
     "execution_count": 2,
     "metadata": {},
     "output_type": "execute_result"
    }
   ],
   "source": [
    "crime = pd.read_csv('data/Reported_Major_Crimes_2011_to_2014.csv')\n",
    "crime.head()"
   ]
  },
  {
   "cell_type": "code",
   "execution_count": 3,
   "metadata": {},
   "outputs": [
    {
     "data": {
      "text/plain": [
       "(234978, 12)"
      ]
     },
     "execution_count": 3,
     "metadata": {},
     "output_type": "execute_result"
    }
   ],
   "source": [
    "crime.shape"
   ]
  },
  {
   "cell_type": "code",
   "execution_count": 4,
   "metadata": {},
   "outputs": [
    {
     "data": {
      "text/plain": [
       "ROWNUM                     int64\n",
       "CATEGORY                  object\n",
       "OFFENSEDESCRIPTION        object\n",
       "STATEOFFENSEFILECLASS      int64\n",
       "INCIDENTDATE              object\n",
       "HOUR                       int64\n",
       "SCA                      float64\n",
       "PRECINCT                 float64\n",
       "NEIGHBORHOOD              object\n",
       "CENSUSTRACT              float64\n",
       "LOCATION                  object\n",
       "ObjectId                   int64\n",
       "dtype: object"
      ]
     },
     "execution_count": 4,
     "metadata": {},
     "output_type": "execute_result"
    }
   ],
   "source": [
    "crime.dtypes"
   ]
  },
  {
   "cell_type": "markdown",
   "metadata": {},
   "source": [
    "#### Selecting Columns\n",
    "We'll begin cleaning this dataset by extracting columns that we will for sure need in our analysis and to merge this dataset with the others. The only columns we will need are crime category, as we may want to analyze the policy-driven factors behind each type of crime. We will also need `Neighborhood` as this will be our primary merging key, as well as `Location`. We'll also convert the column names to snake case for consistency. \n",
    "\n",
    "Here are the columns we'll be keeping:\n",
    "- `CATEGORY`\n",
    "- `NEIGHBORHOOD`\n",
    "- `LOCATION`\n",
    "- `PRECINCT`\n",
    "\n",
    "Our dataset will be much simpler."
   ]
  },
  {
   "cell_type": "code",
   "execution_count": 5,
   "metadata": {},
   "outputs": [
    {
     "data": {
      "text/html": [
       "<div>\n",
       "<style scoped>\n",
       "    .dataframe tbody tr th:only-of-type {\n",
       "        vertical-align: middle;\n",
       "    }\n",
       "\n",
       "    .dataframe tbody tr th {\n",
       "        vertical-align: top;\n",
       "    }\n",
       "\n",
       "    .dataframe thead th {\n",
       "        text-align: right;\n",
       "    }\n",
       "</style>\n",
       "<table border=\"1\" class=\"dataframe\">\n",
       "  <thead>\n",
       "    <tr style=\"text-align: right;\">\n",
       "      <th></th>\n",
       "      <th>crime_category</th>\n",
       "      <th>neighborhood</th>\n",
       "      <th>location</th>\n",
       "      <th>precinct</th>\n",
       "    </tr>\n",
       "  </thead>\n",
       "  <tbody>\n",
       "    <tr>\n",
       "      <th>0</th>\n",
       "      <td>STOLEN VEHICLE</td>\n",
       "      <td>PERSHING</td>\n",
       "      <td>00 EUREKA/E LANTZ\\n(42.4382, -83.0579)</td>\n",
       "      <td>11.0</td>\n",
       "    </tr>\n",
       "    <tr>\n",
       "      <th>1</th>\n",
       "      <td>AGGRAVATED ASSAULT</td>\n",
       "      <td>LAFAYETTE PARK</td>\n",
       "      <td>E.LAFAYETTE01800\\n(42.3394, -83.0295)</td>\n",
       "      <td>7.0</td>\n",
       "    </tr>\n",
       "    <tr>\n",
       "      <th>2</th>\n",
       "      <td>LARCENY</td>\n",
       "      <td>OUTER DRIVE VAN DYKE</td>\n",
       "      <td>VANDYKE19900\\n(42.4415, -83.0238)</td>\n",
       "      <td>11.0</td>\n",
       "    </tr>\n",
       "    <tr>\n",
       "      <th>3</th>\n",
       "      <td>LARCENY</td>\n",
       "      <td>CHENE</td>\n",
       "      <td>JOS CAMPAU04100\\n(42.3606, -83.0339)</td>\n",
       "      <td>7.0</td>\n",
       "    </tr>\n",
       "    <tr>\n",
       "      <th>4</th>\n",
       "      <td>STOLEN VEHICLE</td>\n",
       "      <td>WARRENDALE</td>\n",
       "      <td>PIEDMONT06000\\n(42.3328, -83.228)</td>\n",
       "      <td>6.0</td>\n",
       "    </tr>\n",
       "  </tbody>\n",
       "</table>\n",
       "</div>"
      ],
      "text/plain": [
       "       crime_category          neighborhood  \\\n",
       "0      STOLEN VEHICLE              PERSHING   \n",
       "1  AGGRAVATED ASSAULT        LAFAYETTE PARK   \n",
       "2             LARCENY  OUTER DRIVE VAN DYKE   \n",
       "3             LARCENY                 CHENE   \n",
       "4      STOLEN VEHICLE            WARRENDALE   \n",
       "\n",
       "                                 location  precinct  \n",
       "0  00 EUREKA/E LANTZ\\n(42.4382, -83.0579)      11.0  \n",
       "1   E.LAFAYETTE01800\\n(42.3394, -83.0295)       7.0  \n",
       "2       VANDYKE19900\\n(42.4415, -83.0238)      11.0  \n",
       "3    JOS CAMPAU04100\\n(42.3606, -83.0339)       7.0  \n",
       "4       PIEDMONT06000\\n(42.3328, -83.228)       6.0  "
      ]
     },
     "execution_count": 5,
     "metadata": {},
     "output_type": "execute_result"
    }
   ],
   "source": [
    "crime = crime[['CATEGORY', 'NEIGHBORHOOD', 'LOCATION', 'PRECINCT']].rename(\n",
    "    columns={\n",
    "        'CATEGORY': 'crime_category', \n",
    "        'NEIGHBORHOOD': 'neighborhood', \n",
    "        'LOCATION': 'location',\n",
    "        'PRECINCT': 'precinct'\n",
    "    })\n",
    "crime.head()"
   ]
  },
  {
   "cell_type": "markdown",
   "metadata": {},
   "source": [
    "#### Cleaning `Location`\n",
    "The first two columns we have are both pretty clean. However, `Location` is formatted strangely. Furthermore, we won't need alphabetical characters in the column, as we are only interested in the latitude and longitude values. We will clean this column by removing the text before the latitude and longitude coordinates as well as putting the two coordinates in separate columns. For removing the unnecessary bits of text, we will utilize regular expressions (courtesy of the `re` library)."
   ]
  },
  {
   "cell_type": "code",
   "execution_count": 6,
   "metadata": {},
   "outputs": [
    {
     "data": {
      "text/html": [
       "<div>\n",
       "<style scoped>\n",
       "    .dataframe tbody tr th:only-of-type {\n",
       "        vertical-align: middle;\n",
       "    }\n",
       "\n",
       "    .dataframe tbody tr th {\n",
       "        vertical-align: top;\n",
       "    }\n",
       "\n",
       "    .dataframe thead th {\n",
       "        text-align: right;\n",
       "    }\n",
       "</style>\n",
       "<table border=\"1\" class=\"dataframe\">\n",
       "  <thead>\n",
       "    <tr style=\"text-align: right;\">\n",
       "      <th></th>\n",
       "      <th>crime_category</th>\n",
       "      <th>neighborhood</th>\n",
       "      <th>precinct</th>\n",
       "      <th>latitude</th>\n",
       "      <th>longitude</th>\n",
       "    </tr>\n",
       "  </thead>\n",
       "  <tbody>\n",
       "    <tr>\n",
       "      <th>0</th>\n",
       "      <td>STOLEN VEHICLE</td>\n",
       "      <td>PERSHING</td>\n",
       "      <td>11.0</td>\n",
       "      <td>42.4382</td>\n",
       "      <td>83.0579</td>\n",
       "    </tr>\n",
       "    <tr>\n",
       "      <th>1</th>\n",
       "      <td>AGGRAVATED ASSAULT</td>\n",
       "      <td>LAFAYETTE PARK</td>\n",
       "      <td>7.0</td>\n",
       "      <td>42.3394</td>\n",
       "      <td>83.0295</td>\n",
       "    </tr>\n",
       "    <tr>\n",
       "      <th>2</th>\n",
       "      <td>LARCENY</td>\n",
       "      <td>OUTER DRIVE VAN DYKE</td>\n",
       "      <td>11.0</td>\n",
       "      <td>42.4415</td>\n",
       "      <td>83.0238</td>\n",
       "    </tr>\n",
       "    <tr>\n",
       "      <th>3</th>\n",
       "      <td>LARCENY</td>\n",
       "      <td>CHENE</td>\n",
       "      <td>7.0</td>\n",
       "      <td>42.3606</td>\n",
       "      <td>83.0339</td>\n",
       "    </tr>\n",
       "    <tr>\n",
       "      <th>4</th>\n",
       "      <td>STOLEN VEHICLE</td>\n",
       "      <td>WARRENDALE</td>\n",
       "      <td>6.0</td>\n",
       "      <td>42.3328</td>\n",
       "      <td>83.2280</td>\n",
       "    </tr>\n",
       "  </tbody>\n",
       "</table>\n",
       "</div>"
      ],
      "text/plain": [
       "       crime_category          neighborhood  precinct  latitude  longitude\n",
       "0      STOLEN VEHICLE              PERSHING      11.0   42.4382    83.0579\n",
       "1  AGGRAVATED ASSAULT        LAFAYETTE PARK       7.0   42.3394    83.0295\n",
       "2             LARCENY  OUTER DRIVE VAN DYKE      11.0   42.4415    83.0238\n",
       "3             LARCENY                 CHENE       7.0   42.3606    83.0339\n",
       "4      STOLEN VEHICLE            WARRENDALE       6.0   42.3328    83.2280"
      ]
     },
     "execution_count": 6,
     "metadata": {},
     "output_type": "execute_result"
    }
   ],
   "source": [
    "# Removing everything before parentheses indicating latitude-longitude tuple\n",
    "crime['location'] = crime['location'].apply(lambda x: re.sub('^[^\\(]+', '', x)).str.strip()\n",
    "\n",
    "# Get list of only numbers in the location column\n",
    "crime['location'] = crime['location'].apply(lambda x: re.findall(r'\\d+\\.\\d+', x))\n",
    "\n",
    "# Separate into latitude and longitude columns\n",
    "crime = pd.concat([\n",
    "    crime, pd.DataFrame(\n",
    "        crime['location'].to_list(), \n",
    "        columns=['latitude', 'longitude']\n",
    "    )], 1).drop('location', 1)\n",
    "\n",
    "# Change to float columns\n",
    "crime[['latitude', 'longitude']] = crime[['latitude', 'longitude']].astype(float)\n",
    "\n",
    "crime.head()"
   ]
  },
  {
   "cell_type": "markdown",
   "metadata": {},
   "source": [
    "The `crime` dataset is now in tidy format! Lastly, let's check for missing values.\n",
    "#### Missing Values"
   ]
  },
  {
   "cell_type": "code",
   "execution_count": 7,
   "metadata": {},
   "outputs": [
    {
     "data": {
      "text/plain": [
       "crime_category       0\n",
       "neighborhood      1576\n",
       "precinct          1129\n",
       "latitude             0\n",
       "longitude            0\n",
       "dtype: int64"
      ]
     },
     "execution_count": 7,
     "metadata": {},
     "output_type": "execute_result"
    }
   ],
   "source": [
    "crime.isnull().sum()"
   ]
  },
  {
   "cell_type": "markdown",
   "metadata": {},
   "source": [
    "Our missing values are in the `neighborhood` column. While we could drop these observations, we also have the latitude and longitude information, so we can impute using those coordinates. Let's check if each neighborhood has non-overlapping coordinates. We do this because if the coordinates don't overlap, we can map a set of coordinates to a neighborhood with 100% confidence."
   ]
  },
  {
   "cell_type": "code",
   "execution_count": 8,
   "metadata": {},
   "outputs": [
    {
     "data": {
      "text/html": [
       "<div>\n",
       "<style scoped>\n",
       "    .dataframe tbody tr th:only-of-type {\n",
       "        vertical-align: middle;\n",
       "    }\n",
       "\n",
       "    .dataframe tbody tr th {\n",
       "        vertical-align: top;\n",
       "    }\n",
       "\n",
       "    .dataframe thead tr th {\n",
       "        text-align: left;\n",
       "    }\n",
       "\n",
       "    .dataframe thead tr:last-of-type th {\n",
       "        text-align: right;\n",
       "    }\n",
       "</style>\n",
       "<table border=\"1\" class=\"dataframe\">\n",
       "  <thead>\n",
       "    <tr>\n",
       "      <th></th>\n",
       "      <th colspan=\"2\" halign=\"left\">latitude</th>\n",
       "      <th colspan=\"2\" halign=\"left\">longitude</th>\n",
       "    </tr>\n",
       "    <tr>\n",
       "      <th></th>\n",
       "      <th>min</th>\n",
       "      <th>max</th>\n",
       "      <th>min</th>\n",
       "      <th>max</th>\n",
       "    </tr>\n",
       "    <tr>\n",
       "      <th>neighborhood</th>\n",
       "      <th></th>\n",
       "      <th></th>\n",
       "      <th></th>\n",
       "      <th></th>\n",
       "    </tr>\n",
       "  </thead>\n",
       "  <tbody>\n",
       "    <tr>\n",
       "      <th>ARDEN PARK/EAST BOSTON</th>\n",
       "      <td>42.3809</td>\n",
       "      <td>42.3916</td>\n",
       "      <td>83.0726</td>\n",
       "      <td>83.0854</td>\n",
       "    </tr>\n",
       "    <tr>\n",
       "      <th>ATKINSON-EUCLID</th>\n",
       "      <td>42.3677</td>\n",
       "      <td>42.3837</td>\n",
       "      <td>83.0777</td>\n",
       "      <td>83.0906</td>\n",
       "    </tr>\n",
       "    <tr>\n",
       "      <th>BAGLEY</th>\n",
       "      <td>42.4168</td>\n",
       "      <td>42.4317</td>\n",
       "      <td>83.1407</td>\n",
       "      <td>83.1611</td>\n",
       "    </tr>\n",
       "    <tr>\n",
       "      <th>BALDUCK PARK</th>\n",
       "      <td>42.3989</td>\n",
       "      <td>42.4254</td>\n",
       "      <td>82.9103</td>\n",
       "      <td>82.9329</td>\n",
       "    </tr>\n",
       "    <tr>\n",
       "      <th>BARTON MCFARLANE</th>\n",
       "      <td>42.3513</td>\n",
       "      <td>42.3736</td>\n",
       "      <td>83.1481</td>\n",
       "      <td>83.1781</td>\n",
       "    </tr>\n",
       "    <tr>\n",
       "      <th>...</th>\n",
       "      <td>...</td>\n",
       "      <td>...</td>\n",
       "      <td>...</td>\n",
       "      <td>...</td>\n",
       "    </tr>\n",
       "    <tr>\n",
       "      <th>WEST VILLAGE</th>\n",
       "      <td>42.3489</td>\n",
       "      <td>42.3588</td>\n",
       "      <td>82.9930</td>\n",
       "      <td>83.0011</td>\n",
       "    </tr>\n",
       "    <tr>\n",
       "      <th>WESTWOOD PARK</th>\n",
       "      <td>42.3860</td>\n",
       "      <td>42.3955</td>\n",
       "      <td>83.2309</td>\n",
       "      <td>83.2373</td>\n",
       "    </tr>\n",
       "    <tr>\n",
       "      <th>WINTER HALTER</th>\n",
       "      <td>42.3686</td>\n",
       "      <td>42.3955</td>\n",
       "      <td>83.1310</td>\n",
       "      <td>83.1518</td>\n",
       "    </tr>\n",
       "    <tr>\n",
       "      <th>WOODLAWN CEMETERY</th>\n",
       "      <td>42.4449</td>\n",
       "      <td>42.4465</td>\n",
       "      <td>83.1245</td>\n",
       "      <td>83.1314</td>\n",
       "    </tr>\n",
       "    <tr>\n",
       "      <th>WOODMERE</th>\n",
       "      <td>42.2921</td>\n",
       "      <td>42.3674</td>\n",
       "      <td>83.0846</td>\n",
       "      <td>83.1421</td>\n",
       "    </tr>\n",
       "  </tbody>\n",
       "</table>\n",
       "<p>158 rows × 4 columns</p>\n",
       "</div>"
      ],
      "text/plain": [
       "                       latitude          longitude         \n",
       "                            min      max       min      max\n",
       "neighborhood                                               \n",
       "ARDEN PARK/EAST BOSTON  42.3809  42.3916   83.0726  83.0854\n",
       "ATKINSON-EUCLID         42.3677  42.3837   83.0777  83.0906\n",
       "BAGLEY                  42.4168  42.4317   83.1407  83.1611\n",
       "BALDUCK PARK            42.3989  42.4254   82.9103  82.9329\n",
       "BARTON MCFARLANE        42.3513  42.3736   83.1481  83.1781\n",
       "...                         ...      ...       ...      ...\n",
       "WEST VILLAGE            42.3489  42.3588   82.9930  83.0011\n",
       "WESTWOOD PARK           42.3860  42.3955   83.2309  83.2373\n",
       "WINTER HALTER           42.3686  42.3955   83.1310  83.1518\n",
       "WOODLAWN CEMETERY       42.4449  42.4465   83.1245  83.1314\n",
       "WOODMERE                42.2921  42.3674   83.0846  83.1421\n",
       "\n",
       "[158 rows x 4 columns]"
      ]
     },
     "execution_count": 8,
     "metadata": {},
     "output_type": "execute_result"
    }
   ],
   "source": [
    "crime.groupby('neighborhood')[['latitude', 'longitude']].agg(['min', 'max'])"
   ]
  },
  {
   "cell_type": "markdown",
   "metadata": {},
   "source": [
    "Unfortunately, the latitudes and longitudes definitely overlap, so we won't be able to impute the missing neighborhoods given the information in this dataset. We will just drop the missing observations."
   ]
  },
  {
   "cell_type": "code",
   "execution_count": 9,
   "metadata": {},
   "outputs": [
    {
     "data": {
      "text/plain": [
       "crime_category    0\n",
       "neighborhood      0\n",
       "precinct          0\n",
       "latitude          0\n",
       "longitude         0\n",
       "dtype: int64"
      ]
     },
     "execution_count": 9,
     "metadata": {},
     "output_type": "execute_result"
    }
   ],
   "source": [
    "n_rows = len(crime)\n",
    "\n",
    "crime.dropna(inplace=True)\n",
    "crime.isnull().sum()"
   ]
  },
  {
   "cell_type": "code",
   "execution_count": 10,
   "metadata": {},
   "outputs": [
    {
     "name": "stdout",
     "output_type": "stream",
     "text": [
      "Percent of dataset removed: 0.84%\n"
     ]
    }
   ],
   "source": [
    "print(f'Percent of dataset removed: {round((n_rows - len(crime)) / n_rows, 4) * 100}%')"
   ]
  },
  {
   "cell_type": "markdown",
   "metadata": {},
   "source": [
    "We don't have to worry much anyway about dropping the missing values since we only removed a *very* small amount of our dataset. Upon inspection, we also noticed missing values for `precinct`, indicated as 99. To avoid confusion, we'll change those to `NaN`, since they don't occur very much in our dataset."
   ]
  },
  {
   "cell_type": "code",
   "execution_count": 11,
   "metadata": {},
   "outputs": [
    {
     "data": {
      "text/plain": [
       "Text(0, 0.5, 'Frequency')"
      ]
     },
     "execution_count": 11,
     "metadata": {},
     "output_type": "execute_result"
    },
    {
     "data": {
      "image/png": "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\n",
      "text/plain": [
       "<Figure size 432x288 with 1 Axes>"
      ]
     },
     "metadata": {},
     "output_type": "display_data"
    }
   ],
   "source": [
    "crime['precinct'].hist()\n",
    "plt.title('Precinct in Crime Dataset')\n",
    "plt.xlabel('Precinct')\n",
    "plt.ylabel('Frequency')"
   ]
  },
  {
   "cell_type": "code",
   "execution_count": 12,
   "metadata": {},
   "outputs": [],
   "source": [
    "crime['precinct'].replace({99: np.nan}, inplace=True)"
   ]
  },
  {
   "cell_type": "markdown",
   "metadata": {},
   "source": [
    "Now, we don't have outliers in the `precinct` column."
   ]
  },
  {
   "cell_type": "code",
   "execution_count": 13,
   "metadata": {},
   "outputs": [
    {
     "data": {
      "text/plain": [
       "Text(0, 0.5, 'Frequency')"
      ]
     },
     "execution_count": 13,
     "metadata": {},
     "output_type": "execute_result"
    },
    {
     "data": {
      "image/png": "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\n",
      "text/plain": [
       "<Figure size 432x288 with 1 Axes>"
      ]
     },
     "metadata": {},
     "output_type": "display_data"
    }
   ],
   "source": [
    "crime['precinct'].hist()\n",
    "plt.title('Precinct in Crime Dataset')\n",
    "plt.xlabel('Precinct')\n",
    "plt.ylabel('Frequency')"
   ]
  },
  {
   "cell_type": "markdown",
   "metadata": {},
   "source": [
    "### DPD Scout Areas"
   ]
  },
  {
   "cell_type": "code",
   "execution_count": 14,
   "metadata": {},
   "outputs": [
    {
     "data": {
      "text/html": [
       "<div>\n",
       "<style scoped>\n",
       "    .dataframe tbody tr th:only-of-type {\n",
       "        vertical-align: middle;\n",
       "    }\n",
       "\n",
       "    .dataframe tbody tr th {\n",
       "        vertical-align: top;\n",
       "    }\n",
       "\n",
       "    .dataframe thead th {\n",
       "        text-align: right;\n",
       "    }\n",
       "</style>\n",
       "<table border=\"1\" class=\"dataframe\">\n",
       "  <thead>\n",
       "    <tr style=\"text-align: right;\">\n",
       "      <th></th>\n",
       "      <th>FID</th>\n",
       "      <th>COLOR</th>\n",
       "      <th>Area</th>\n",
       "      <th>Precinct</th>\n",
       "      <th>SHAPE_Length</th>\n",
       "      <th>SHAPE_Area</th>\n",
       "    </tr>\n",
       "  </thead>\n",
       "  <tbody>\n",
       "    <tr>\n",
       "      <th>0</th>\n",
       "      <td>1</td>\n",
       "      <td>0</td>\n",
       "      <td>415</td>\n",
       "      <td>4</td>\n",
       "      <td>24845.957779</td>\n",
       "      <td>2.711534e+07</td>\n",
       "    </tr>\n",
       "    <tr>\n",
       "      <th>1</th>\n",
       "      <td>2</td>\n",
       "      <td>0</td>\n",
       "      <td>411</td>\n",
       "      <td>4</td>\n",
       "      <td>24451.252721</td>\n",
       "      <td>3.943583e+07</td>\n",
       "    </tr>\n",
       "    <tr>\n",
       "      <th>2</th>\n",
       "      <td>3</td>\n",
       "      <td>0</td>\n",
       "      <td>412</td>\n",
       "      <td>4</td>\n",
       "      <td>34664.433400</td>\n",
       "      <td>4.913352e+07</td>\n",
       "    </tr>\n",
       "    <tr>\n",
       "      <th>3</th>\n",
       "      <td>4</td>\n",
       "      <td>0</td>\n",
       "      <td>413</td>\n",
       "      <td>4</td>\n",
       "      <td>21270.276030</td>\n",
       "      <td>2.640126e+07</td>\n",
       "    </tr>\n",
       "    <tr>\n",
       "      <th>4</th>\n",
       "      <td>5</td>\n",
       "      <td>0</td>\n",
       "      <td>408</td>\n",
       "      <td>4</td>\n",
       "      <td>23624.102178</td>\n",
       "      <td>2.939748e+07</td>\n",
       "    </tr>\n",
       "  </tbody>\n",
       "</table>\n",
       "</div>"
      ],
      "text/plain": [
       "   FID  COLOR  Area  Precinct  SHAPE_Length    SHAPE_Area\n",
       "0    1      0   415         4  24845.957779  2.711534e+07\n",
       "1    2      0   411         4  24451.252721  3.943583e+07\n",
       "2    3      0   412         4  34664.433400  4.913352e+07\n",
       "3    4      0   413         4  21270.276030  2.640126e+07\n",
       "4    5      0   408         4  23624.102178  2.939748e+07"
      ]
     },
     "execution_count": 14,
     "metadata": {},
     "output_type": "execute_result"
    }
   ],
   "source": [
    "scout = pd.read_csv('data/DPD_Scout_Car_Areas.csv')\n",
    "scout.head()"
   ]
  },
  {
   "cell_type": "code",
   "execution_count": 15,
   "metadata": {},
   "outputs": [
    {
     "data": {
      "text/plain": [
       "(131, 6)"
      ]
     },
     "execution_count": 15,
     "metadata": {},
     "output_type": "execute_result"
    }
   ],
   "source": [
    "scout.shape"
   ]
  },
  {
   "cell_type": "code",
   "execution_count": 16,
   "metadata": {},
   "outputs": [
    {
     "data": {
      "text/plain": [
       "FID               int64\n",
       "COLOR             int64\n",
       "Area              int64\n",
       "Precinct          int64\n",
       "SHAPE_Length    float64\n",
       "SHAPE_Area      float64\n",
       "dtype: object"
      ]
     },
     "execution_count": 16,
     "metadata": {},
     "output_type": "execute_result"
    }
   ],
   "source": [
    "scout.dtypes"
   ]
  },
  {
   "cell_type": "markdown",
   "metadata": {},
   "source": [
    "#### Selecting Columns\n",
    "There aren't very many important columns in this dataset. In fact, the only one we should use in our analysis of crime is the precinct, since that is the one these two datasets have in common. We hypothesize that intuitively, columns like `SHAPE_LENGTH` and `SHAPE_Area` shouldn't have a marked effect on crime rates. \n",
    "\n",
    "Let's also rename our column to be in snake case."
   ]
  },
  {
   "cell_type": "code",
   "execution_count": 17,
   "metadata": {},
   "outputs": [
    {
     "data": {
      "text/html": [
       "<div>\n",
       "<style scoped>\n",
       "    .dataframe tbody tr th:only-of-type {\n",
       "        vertical-align: middle;\n",
       "    }\n",
       "\n",
       "    .dataframe tbody tr th {\n",
       "        vertical-align: top;\n",
       "    }\n",
       "\n",
       "    .dataframe thead th {\n",
       "        text-align: right;\n",
       "    }\n",
       "</style>\n",
       "<table border=\"1\" class=\"dataframe\">\n",
       "  <thead>\n",
       "    <tr style=\"text-align: right;\">\n",
       "      <th></th>\n",
       "      <th>precinct</th>\n",
       "    </tr>\n",
       "  </thead>\n",
       "  <tbody>\n",
       "    <tr>\n",
       "      <th>0</th>\n",
       "      <td>4</td>\n",
       "    </tr>\n",
       "    <tr>\n",
       "      <th>1</th>\n",
       "      <td>4</td>\n",
       "    </tr>\n",
       "    <tr>\n",
       "      <th>2</th>\n",
       "      <td>4</td>\n",
       "    </tr>\n",
       "    <tr>\n",
       "      <th>3</th>\n",
       "      <td>4</td>\n",
       "    </tr>\n",
       "    <tr>\n",
       "      <th>4</th>\n",
       "      <td>4</td>\n",
       "    </tr>\n",
       "  </tbody>\n",
       "</table>\n",
       "</div>"
      ],
      "text/plain": [
       "   precinct\n",
       "0         4\n",
       "1         4\n",
       "2         4\n",
       "3         4\n",
       "4         4"
      ]
     },
     "execution_count": 17,
     "metadata": {},
     "output_type": "execute_result"
    }
   ],
   "source": [
    "scout = scout['Precinct'].to_frame().rename(columns={'Precinct': 'precinct'})\n",
    "scout.head()"
   ]
  },
  {
   "cell_type": "markdown",
   "metadata": {},
   "source": [
    "#### Checking Precinct Frequencies\n",
    "Let's plot the distribution of precincts in this dataset."
   ]
  },
  {
   "cell_type": "code",
   "execution_count": 18,
   "metadata": {},
   "outputs": [
    {
     "data": {
      "text/plain": [
       "Text(0.5, 1.0, 'Precinct Count Plot')"
      ]
     },
     "execution_count": 18,
     "metadata": {},
     "output_type": "execute_result"
    },
    {
     "data": {
      "image/png": "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\n",
      "text/plain": [
       "<Figure size 432x288 with 1 Axes>"
      ]
     },
     "metadata": {},
     "output_type": "display_data"
    }
   ],
   "source": [
    "sns.countplot(x=scout['precinct'], color='C0')\n",
    "plt.title('Precinct Count Plot')"
   ]
  },
  {
   "cell_type": "markdown",
   "metadata": {},
   "source": [
    "All of the precincts seem to occur at around the same frequency, so we don't need to add any features indicating whether or not a certain precinct is controlled a lot. However, we do observe that precinct 1 doesn't seem to be patrolled, despite it occurring about 11,000 times in `crime`:"
   ]
  },
  {
   "cell_type": "code",
   "execution_count": 19,
   "metadata": {},
   "outputs": [
    {
     "name": "stdout",
     "output_type": "stream",
     "text": [
      "Number of observations from precinct 1 in crime dataset: 11092\n"
     ]
    }
   ],
   "source": [
    "print('Number of observations from precinct 1 in crime dataset: ' + str(crime['precinct'].value_counts().loc[1.0]))"
   ]
  },
  {
   "cell_type": "code",
   "execution_count": 20,
   "metadata": {},
   "outputs": [
    {
     "data": {
      "text/plain": [
       "{nan, 1.0}"
      ]
     },
     "execution_count": 20,
     "metadata": {},
     "output_type": "execute_result"
    }
   ],
   "source": [
    "set(crime['precinct'].unique()) - set(scout['precinct'].unique())"
   ]
  },
  {
   "cell_type": "markdown",
   "metadata": {},
   "source": [
    "#### Missing Values"
   ]
  },
  {
   "cell_type": "code",
   "execution_count": 21,
   "metadata": {},
   "outputs": [
    {
     "data": {
      "text/plain": [
       "0"
      ]
     },
     "execution_count": 21,
     "metadata": {},
     "output_type": "execute_result"
    }
   ],
   "source": [
    "scout['precinct'].isnull().sum()"
   ]
  },
  {
   "cell_type": "markdown",
   "metadata": {},
   "source": [
    "There are no missing values in this dataset.\n",
    "\n",
    "`scouts` is now in a tidy format, but it is only one column. We will address this when combining with `crime`.\n",
    "### Green Stormwater Infrastructure Locations"
   ]
  },
  {
   "cell_type": "code",
<<<<<<< HEAD
   "execution_count": 62,
=======
   "execution_count": 22,
>>>>>>> 10b2ec8fa245a9b475d5af674000b2ddb56062fa
   "metadata": {},
   "outputs": [
    {
     "data": {
      "text/html": [
       "<div>\n",
       "<style scoped>\n",
       "    .dataframe tbody tr th:only-of-type {\n",
       "        vertical-align: middle;\n",
       "    }\n",
       "\n",
       "    .dataframe tbody tr th {\n",
       "        vertical-align: top;\n",
       "    }\n",
       "\n",
       "    .dataframe thead th {\n",
       "        text-align: right;\n",
       "    }\n",
       "</style>\n",
       "<table border=\"1\" class=\"dataframe\">\n",
       "  <thead>\n",
       "    <tr style=\"text-align: right;\">\n",
       "      <th></th>\n",
       "      <th>X</th>\n",
       "      <th>Y</th>\n",
       "      <th>OBJECTID</th>\n",
       "      <th>PROJECT_NAME</th>\n",
       "      <th>ASSET_CATEGORY</th>\n",
       "      <th>PRACTICE_TYPE</th>\n",
       "      <th>CREDIT_RECEIVED</th>\n",
       "      <th>ACRES_MANAGED</th>\n",
       "      <th>DESCRIPTION</th>\n",
       "      <th>DESIGNER</th>\n",
       "      <th>...</th>\n",
       "      <th>DOC_URL1</th>\n",
       "      <th>Num_RainBarrells</th>\n",
       "      <th>Size_RainBarrel</th>\n",
       "      <th>Downspout_RainBarrel</th>\n",
       "      <th>Purpose_RainBarrels</th>\n",
       "      <th>Installation_Date</th>\n",
       "      <th>OTHER_PRACTICETYPE</th>\n",
       "      <th>Secondary_Project_Reason</th>\n",
       "      <th>Project_Engineer</th>\n",
       "      <th>DEPTH</th>\n",
       "    </tr>\n",
       "  </thead>\n",
       "  <tbody>\n",
       "    <tr>\n",
       "      <th>0</th>\n",
       "      <td>-9.264704e+06</td>\n",
       "      <td>5.214982e+06</td>\n",
       "      <td>1</td>\n",
       "      <td>Artesian Street</td>\n",
       "      <td>DWSD</td>\n",
       "      <td>Permeable Pavement</td>\n",
       "      <td>Yes</td>\n",
       "      <td>5.30</td>\n",
       "      <td>Porous Asphalt along Artesian Street from 1895...</td>\n",
       "      <td>NaN</td>\n",
       "      <td>...</td>\n",
       "      <td>NaN</td>\n",
       "      <td>NaN</td>\n",
       "      <td>NaN</td>\n",
       "      <td>NaN</td>\n",
       "      <td>NaN</td>\n",
       "      <td>1970/01/01 00:00:00+00</td>\n",
       "      <td>NaN</td>\n",
       "      <td>NaN</td>\n",
       "      <td>NaN</td>\n",
       "      <td>NaN</td>\n",
       "    </tr>\n",
       "    <tr>\n",
       "      <th>1</th>\n",
       "      <td>-9.264513e+06</td>\n",
       "      <td>5.213854e+06</td>\n",
       "      <td>2</td>\n",
       "      <td>Stahelin</td>\n",
       "      <td>DWSD</td>\n",
       "      <td>Bioretention</td>\n",
       "      <td>Yes</td>\n",
       "      <td>1.12</td>\n",
       "      <td>This is a bioretention practice installed on a...</td>\n",
       "      <td>NaN</td>\n",
       "      <td>...</td>\n",
       "      <td>NaN</td>\n",
       "      <td>NaN</td>\n",
       "      <td>NaN</td>\n",
       "      <td>NaN</td>\n",
       "      <td>NaN</td>\n",
       "      <td>1970/01/01 00:00:00+00</td>\n",
       "      <td>NaN</td>\n",
       "      <td>NaN</td>\n",
       "      <td>NaN</td>\n",
       "      <td>NaN</td>\n",
       "    </tr>\n",
       "  </tbody>\n",
       "</table>\n",
       "<p>2 rows × 47 columns</p>\n",
       "</div>"
      ],
      "text/plain": [
       "              X             Y  OBJECTID     PROJECT_NAME ASSET_CATEGORY  \\\n",
       "0 -9.264704e+06  5.214982e+06         1  Artesian Street           DWSD   \n",
       "1 -9.264513e+06  5.213854e+06         2         Stahelin           DWSD   \n",
       "\n",
       "        PRACTICE_TYPE CREDIT_RECEIVED  ACRES_MANAGED  \\\n",
       "0  Permeable Pavement             Yes           5.30   \n",
       "1        Bioretention             Yes           1.12   \n",
       "\n",
       "                                         DESCRIPTION DESIGNER  ... DOC_URL1  \\\n",
       "0  Porous Asphalt along Artesian Street from 1895...      NaN  ...      NaN   \n",
       "1  This is a bioretention practice installed on a...      NaN  ...      NaN   \n",
       "\n",
       "  Num_RainBarrells Size_RainBarrel Downspout_RainBarrel  Purpose_RainBarrels  \\\n",
       "0              NaN             NaN                  NaN                  NaN   \n",
       "1              NaN             NaN                  NaN                  NaN   \n",
       "\n",
       "        Installation_Date OTHER_PRACTICETYPE Secondary_Project_Reason  \\\n",
       "0  1970/01/01 00:00:00+00                NaN                      NaN   \n",
       "1  1970/01/01 00:00:00+00                NaN                      NaN   \n",
       "\n",
       "  Project_Engineer  DEPTH  \n",
       "0              NaN    NaN  \n",
       "1              NaN    NaN  \n",
       "\n",
       "[2 rows x 47 columns]"
      ]
     },
<<<<<<< HEAD
     "execution_count": 62,
=======
     "execution_count": 22,
>>>>>>> 10b2ec8fa245a9b475d5af674000b2ddb56062fa
     "metadata": {},
     "output_type": "execute_result"
    }
   ],
   "source": [
    "storm = pd.read_csv('data/Green_Stormwater_Infrastructure_Locations_OpenData.csv')\n",
    "storm.head(2)"
   ]
  },
  {
   "cell_type": "code",
<<<<<<< HEAD
   "execution_count": 63,
=======
   "execution_count": 23,
>>>>>>> 10b2ec8fa245a9b475d5af674000b2ddb56062fa
   "metadata": {},
   "outputs": [
    {
     "data": {
      "text/plain": [
       "(223, 47)"
      ]
     },
<<<<<<< HEAD
     "execution_count": 63,
=======
     "execution_count": 23,
>>>>>>> 10b2ec8fa245a9b475d5af674000b2ddb56062fa
     "metadata": {},
     "output_type": "execute_result"
    }
   ],
   "source": [
    "storm.shape"
   ]
  },
  {
   "cell_type": "code",
   "execution_count": 24,
   "metadata": {},
   "outputs": [
    {
     "data": {
      "text/plain": [
       "['X',\n",
       " 'Y',\n",
       " 'OBJECTID',\n",
       " 'PROJECT_NAME',\n",
       " 'ASSET_CATEGORY',\n",
       " 'PRACTICE_TYPE',\n",
       " 'CREDIT_RECEIVED',\n",
       " 'ACRES_MANAGED',\n",
       " 'DESCRIPTION',\n",
       " 'DESIGNER',\n",
       " 'INSTALLER',\n",
       " 'MAINTAINER',\n",
       " 'MEDIA_URL',\n",
       " 'ADDITIONAL_PRACTICETYPE',\n",
       " 'GALLONS_MANAGED_MG',\n",
       " 'PRACTICE_AREA',\n",
       " 'NEIGHBORHOOD',\n",
       " 'PROJECT_REASON',\n",
       " 'DESIGN_DATE',\n",
       " 'PROJECT_COST',\n",
       " 'MAINTENANCE_COST',\n",
       " 'MAX_DEPTH',\n",
       " 'UNDERDRAIN',\n",
       " 'PIPE_DIAMETER',\n",
       " 'STORM_EVENT_SIZE',\n",
       " 'CONSTRUCTION_START',\n",
       " 'OWNER_TYPE',\n",
       " 'INVERT_PIPE_in',\n",
       " 'Latitude',\n",
       " 'Longitude',\n",
       " 'GlobalID',\n",
       " 'DISTRICT',\n",
       " 'MEDIA_URL2',\n",
       " 'MEDIA_URL3',\n",
       " 'VIDEO_URL',\n",
       " 'Project_Page_URL',\n",
       " 'DOC_URL2',\n",
       " 'DOC_URL1',\n",
       " 'Num_RainBarrells',\n",
       " 'Size_RainBarrel',\n",
       " 'Downspout_RainBarrel',\n",
       " 'Purpose_RainBarrels',\n",
       " 'Installation_Date',\n",
       " 'OTHER_PRACTICETYPE',\n",
       " 'Secondary_Project_Reason',\n",
       " 'Project_Engineer',\n",
       " 'DEPTH']"
      ]
     },
     "execution_count": 24,
     "metadata": {},
     "output_type": "execute_result"
    }
   ],
   "source": [
    "list(storm.columns)"
   ]
  },
  {
   "cell_type": "markdown",
   "metadata": {},
   "source": [
    "This dataset is relatively small as we can't expect there to be a large number of storm infrastructure in the city of Detroit. However, there is a lot of information stored in different columns about each piece of infrastructure."
   ]
  },
  {
   "cell_type": "code",
<<<<<<< HEAD
   "execution_count": 64,
=======
   "execution_count": 25,
>>>>>>> 10b2ec8fa245a9b475d5af674000b2ddb56062fa
   "metadata": {},
   "outputs": [
    {
     "data": {
      "text/plain": [
       "X                           float64\n",
       "Y                           float64\n",
       "OBJECTID                      int64\n",
       "PROJECT_NAME                 object\n",
       "ASSET_CATEGORY               object\n",
       "PRACTICE_TYPE                object\n",
       "CREDIT_RECEIVED              object\n",
       "ACRES_MANAGED               float64\n",
       "DESCRIPTION                  object\n",
       "DESIGNER                     object\n",
       "INSTALLER                    object\n",
       "MAINTAINER                   object\n",
       "MEDIA_URL                    object\n",
       "ADDITIONAL_PRACTICETYPE      object\n",
       "GALLONS_MANAGED_MG          float64\n",
       "PRACTICE_AREA               float64\n",
       "NEIGHBORHOOD                 object\n",
       "PROJECT_REASON               object\n",
       "DESIGN_DATE                  object\n",
       "PROJECT_COST                float64\n",
       "MAINTENANCE_COST            float64\n",
       "MAX_DEPTH                   float64\n",
       "UNDERDRAIN                   object\n",
       "PIPE_DIAMETER               float64\n",
       "STORM_EVENT_SIZE             object\n",
       "CONSTRUCTION_START           object\n",
       "OWNER_TYPE                   object\n",
       "INVERT_PIPE_in              float64\n",
       "Latitude                    float64\n",
       "Longitude                   float64\n",
       "GlobalID                     object\n",
       "DISTRICT                     object\n",
       "MEDIA_URL2                   object\n",
       "MEDIA_URL3                   object\n",
       "VIDEO_URL                    object\n",
       "Project_Page_URL             object\n",
       "DOC_URL2                    float64\n",
       "DOC_URL1                     object\n",
       "Num_RainBarrells            float64\n",
       "Size_RainBarrel             float64\n",
       "Downspout_RainBarrel        float64\n",
       "Purpose_RainBarrels         float64\n",
       "Installation_Date            object\n",
       "OTHER_PRACTICETYPE          float64\n",
       "Secondary_Project_Reason     object\n",
       "Project_Engineer             object\n",
       "DEPTH                        object\n",
       "dtype: object"
      ]
     },
<<<<<<< HEAD
     "execution_count": 64,
=======
     "execution_count": 25,
>>>>>>> 10b2ec8fa245a9b475d5af674000b2ddb56062fa
     "metadata": {},
     "output_type": "execute_result"
    }
   ],
   "source": [
    "storm.dtypes"
   ]
  },
  {
   "cell_type": "markdown",
   "metadata": {},
   "source": [
    "#### Selecting Columns\n",
    "Many of these columns are mostly empty and won't be helpful for our geo-spatial analysis of crime, so we'll be dropping most of these columns when we clean this dataset. The columns we think will be useful for this analysis are as follows:\n",
    "- `ACRES_MANAGED` - Does this infrastructure cover a large area? Does this influence crime?\n",
    "- `NEIGHBORHOOD`\n",
    "- `PROJECT_COST` - This indicates the project might have been constructed in a more upscale area, which we hypothesize could affect crime, or lack thereof.\n",
    "- `CONSTRUCTION_START` - This is important was we don't want infrastructure that was constructed after the most recent date of our `crime` dataset.\n",
    "\n",
    "We once again convert these names to snake case."
   ]
  },
  {
   "cell_type": "code",
   "execution_count": 65,
   "metadata": {},
   "outputs": [],
   "source": [
    "storm = storm[['ACRES_MANAGED', 'NEIGHBORHOOD', 'PROJECT_COST', 'CONSTRUCTION_START']]\n",
    "storm.columns = storm.columns.str.lower() # convert names to snake case"
   ]
  },
  {
   "cell_type": "markdown",
   "metadata": {},
   "source": [
    "#### Filtering Construction Dates"
   ]
  },
  {
   "cell_type": "code",
   "execution_count": 66,
   "metadata": {},
   "outputs": [
    {
     "data": {
      "text/plain": [
       "1970    175\n",
       "2018     14\n",
       "2015     10\n",
       "2016      8\n",
       "2019      8\n",
       "2017      6\n",
       "2011      1\n",
       "2014      1\n",
       "Name: construction_start, dtype: int64"
      ]
     },
     "execution_count": 66,
     "metadata": {},
     "output_type": "execute_result"
    }
   ],
   "source": [
    "storm['construction_start'] = pd.to_datetime(storm['construction_start']) # Convert column into a datetime64 dtype\n",
    "storm['construction_start'].dt.year.value_counts()"
   ]
  },
  {
   "cell_type": "markdown",
   "metadata": {},
   "source": [
    "We observe that the vast majority of the construction of storm sites began in 1970. However, there are still a few dates construction years after 2014 that we need to filter out, as we don't have `crime` information from 2015 onwards."
   ]
  },
  {
   "cell_type": "code",
   "execution_count": 67,
   "metadata": {},
   "outputs": [
    {
     "data": {
      "text/html": [
       "<div>\n",
       "<style scoped>\n",
       "    .dataframe tbody tr th:only-of-type {\n",
       "        vertical-align: middle;\n",
       "    }\n",
       "\n",
       "    .dataframe tbody tr th {\n",
       "        vertical-align: top;\n",
       "    }\n",
       "\n",
       "    .dataframe thead th {\n",
       "        text-align: right;\n",
       "    }\n",
       "</style>\n",
       "<table border=\"1\" class=\"dataframe\">\n",
       "  <thead>\n",
       "    <tr style=\"text-align: right;\">\n",
       "      <th></th>\n",
       "      <th>acres_managed</th>\n",
       "      <th>neighborhood</th>\n",
       "      <th>project_cost</th>\n",
       "      <th>construction_start</th>\n",
       "    </tr>\n",
       "  </thead>\n",
       "  <tbody>\n",
       "    <tr>\n",
       "      <th>0</th>\n",
       "      <td>5.30</td>\n",
       "      <td>Franklin Park</td>\n",
       "      <td>NaN</td>\n",
       "      <td>1970-01-01 00:00:00+00:00</td>\n",
       "    </tr>\n",
       "    <tr>\n",
       "      <th>1</th>\n",
       "      <td>1.12</td>\n",
       "      <td>Warrendale</td>\n",
       "      <td>NaN</td>\n",
       "      <td>1970-01-01 00:00:00+00:00</td>\n",
       "    </tr>\n",
       "    <tr>\n",
       "      <th>2</th>\n",
       "      <td>0.58</td>\n",
       "      <td>Warrendale</td>\n",
       "      <td>NaN</td>\n",
       "      <td>1970-01-01 00:00:00+00:00</td>\n",
       "    </tr>\n",
       "    <tr>\n",
       "      <th>3</th>\n",
       "      <td>0.70</td>\n",
       "      <td>Warrendale</td>\n",
       "      <td>NaN</td>\n",
       "      <td>1970-01-01 00:00:00+00:00</td>\n",
       "    </tr>\n",
       "    <tr>\n",
       "      <th>4</th>\n",
       "      <td>1.00</td>\n",
       "      <td>Warrendale</td>\n",
       "      <td>NaN</td>\n",
       "      <td>1970-01-01 00:00:00+00:00</td>\n",
       "    </tr>\n",
       "  </tbody>\n",
       "</table>\n",
       "</div>"
      ],
      "text/plain": [
       "   acres_managed   neighborhood  project_cost        construction_start\n",
       "0           5.30  Franklin Park           NaN 1970-01-01 00:00:00+00:00\n",
       "1           1.12     Warrendale           NaN 1970-01-01 00:00:00+00:00\n",
       "2           0.58     Warrendale           NaN 1970-01-01 00:00:00+00:00\n",
       "3           0.70     Warrendale           NaN 1970-01-01 00:00:00+00:00\n",
       "4           1.00     Warrendale           NaN 1970-01-01 00:00:00+00:00"
      ]
     },
     "execution_count": 67,
     "metadata": {},
     "output_type": "execute_result"
    }
   ],
   "source": [
    "storm = storm[storm['construction_start'].dt.year <= 2014]\n",
    "storm.head()"
   ]
  },
  {
   "cell_type": "markdown",
   "metadata": {},
   "source": [
    "#### Missing Values\n",
    "We present the missingness rate of each column. Unfortunately, almost 98 percent of `project_cost` is null, so we will drop this column."
   ]
  },
  {
   "cell_type": "code",
   "execution_count": 68,
   "metadata": {},
   "outputs": [
    {
     "data": {
      "text/plain": [
       "acres_managed         0.000000\n",
       "neighborhood          0.000000\n",
       "project_cost          0.977401\n",
       "construction_start    0.000000\n",
       "dtype: float64"
      ]
     },
     "execution_count": 68,
     "metadata": {},
     "output_type": "execute_result"
    }
   ],
   "source": [
    "storm.isnull().sum() / len(storm)"
   ]
  },
  {
   "cell_type": "code",
   "execution_count": 69,
   "metadata": {},
   "outputs": [],
   "source": [
    "storm.drop(columns='project_cost', inplace=True)"
   ]
  },
  {
   "cell_type": "markdown",
   "metadata": {},
   "source": [
    "#### Dropping `construction_start`\n",
    "We may need to drop this column because the vast majority of the dates are the same."
   ]
  },
  {
   "cell_type": "code",
   "execution_count": 75,
   "metadata": {},
   "outputs": [
    {
     "data": {
      "text/plain": [
       "neighborhood\n",
       "Airport Sub            1970-01-01 00:00:00+00:00\n",
       "Bagley                 1970-01-01 00:00:00+00:00\n",
       "Barton-McFarland       1970-01-01 00:00:00+00:00\n",
       "Belle Isle             1970-01-01 00:00:00+00:00\n",
       "Bethune Community      1970-01-01 00:00:00+00:00\n",
       "                                  ...           \n",
       "Waterworks Park        1970-01-01 00:00:00+00:00\n",
       "West Side Industrial   1970-01-01 00:00:00+00:00\n",
       "Westwood Park          1970-01-01 00:00:00+00:00\n",
       "Winship                1970-01-01 00:00:00+00:00\n",
       "Woodbridge             1970-01-01 00:00:00+00:00\n",
       "Name: construction_start, Length: 85, dtype: datetime64[ns, UTC]"
      ]
     },
     "execution_count": 75,
     "metadata": {},
     "output_type": "execute_result"
    }
   ],
   "source": [
    "storm.groupby('neighborhood')['construction_start'].max()"
   ]
  },
  {
   "cell_type": "code",
   "execution_count": 76,
   "metadata": {},
   "outputs": [],
   "source": [
    "storm.drop(columns='construction_start', inplace=True)"
   ]
  },
  {
   "cell_type": "code",
   "execution_count": 26,
   "metadata": {},
   "outputs": [
    {
     "data": {
      "text/html": [
       "<div>\n",
       "<style scoped>\n",
       "    .dataframe tbody tr th:only-of-type {\n",
       "        vertical-align: middle;\n",
       "    }\n",
       "\n",
       "    .dataframe tbody tr th {\n",
       "        vertical-align: top;\n",
       "    }\n",
       "\n",
       "    .dataframe thead th {\n",
       "        text-align: right;\n",
       "    }\n",
       "</style>\n",
       "<table border=\"1\" class=\"dataframe\">\n",
       "  <thead>\n",
       "    <tr style=\"text-align: right;\">\n",
       "      <th></th>\n",
       "      <th>asset_category</th>\n",
       "      <th>latitude</th>\n",
       "      <th>longtitude</th>\n",
       "      <th>neighborhood</th>\n",
       "      <th>district</th>\n",
       "    </tr>\n",
       "  </thead>\n",
       "  <tbody>\n",
       "    <tr>\n",
       "      <th>0</th>\n",
       "      <td>DWSD</td>\n",
       "      <td>NaN</td>\n",
       "      <td>NaN</td>\n",
       "      <td>Franklin Park</td>\n",
       "      <td>District 7</td>\n",
       "    </tr>\n",
       "    <tr>\n",
       "      <th>1</th>\n",
       "      <td>DWSD</td>\n",
       "      <td>NaN</td>\n",
       "      <td>NaN</td>\n",
       "      <td>Warrendale</td>\n",
       "      <td>District 7</td>\n",
       "    </tr>\n",
       "    <tr>\n",
       "      <th>2</th>\n",
       "      <td>DWSD</td>\n",
       "      <td>NaN</td>\n",
       "      <td>NaN</td>\n",
       "      <td>Warrendale</td>\n",
       "      <td>District 7</td>\n",
       "    </tr>\n",
       "    <tr>\n",
       "      <th>3</th>\n",
       "      <td>DWSD</td>\n",
       "      <td>NaN</td>\n",
       "      <td>NaN</td>\n",
       "      <td>Warrendale</td>\n",
       "      <td>District 7</td>\n",
       "    </tr>\n",
       "    <tr>\n",
       "      <th>4</th>\n",
       "      <td>DWSD</td>\n",
       "      <td>NaN</td>\n",
       "      <td>NaN</td>\n",
       "      <td>Warrendale</td>\n",
       "      <td>District 7</td>\n",
       "    </tr>\n",
       "  </tbody>\n",
       "</table>\n",
       "</div>"
      ],
      "text/plain": [
       "  asset_category  latitude  longtitude   neighborhood    district\n",
       "0           DWSD       NaN         NaN  Franklin Park  District 7\n",
       "1           DWSD       NaN         NaN     Warrendale  District 7\n",
       "2           DWSD       NaN         NaN     Warrendale  District 7\n",
       "3           DWSD       NaN         NaN     Warrendale  District 7\n",
       "4           DWSD       NaN         NaN     Warrendale  District 7"
      ]
     },
     "execution_count": 26,
     "metadata": {},
     "output_type": "execute_result"
    }
   ],
   "source": [
    "storm = storm[[\"ASSET_CATEGORY\", \"Latitude\", \"Longitude\", \"NEIGHBORHOOD\", \"DISTRICT\"]].rename(\n",
    "    columns={\n",
    "        \"ASSET_CATEGORY\": \"asset_category\", \n",
    "        \"NEIGHBORHOOD\": \"neighborhood\", \n",
    "        \"Latitude\": \"latitude\", \n",
    "        \"Longitude\": \"longtitude\", \n",
    "        \"DISTRICT\": \"district\"\n",
    "    })\n",
    "storm.head()"
   ]
  },
  {
   "cell_type": "markdown",
   "metadata": {},
   "source": [
    "We see that there will be quite a bit of rows with null values for the latitude and longitude, and we will not be able to provide analysis for those rows. Hence, we remove those rows."
   ]
  },
  {
   "cell_type": "code",
<<<<<<< HEAD
   "execution_count": 25,
=======
   "execution_count": 27,
   "metadata": {},
   "outputs": [
    {
     "data": {
      "text/html": [
       "<div>\n",
       "<style scoped>\n",
       "    .dataframe tbody tr th:only-of-type {\n",
       "        vertical-align: middle;\n",
       "    }\n",
       "\n",
       "    .dataframe tbody tr th {\n",
       "        vertical-align: top;\n",
       "    }\n",
       "\n",
       "    .dataframe thead th {\n",
       "        text-align: right;\n",
       "    }\n",
       "</style>\n",
       "<table border=\"1\" class=\"dataframe\">\n",
       "  <thead>\n",
       "    <tr style=\"text-align: right;\">\n",
       "      <th></th>\n",
       "      <th>asset_category</th>\n",
       "      <th>latitude</th>\n",
       "      <th>longtitude</th>\n",
       "      <th>neighborhood</th>\n",
       "      <th>district</th>\n",
       "    </tr>\n",
       "  </thead>\n",
       "  <tbody>\n",
       "    <tr>\n",
       "      <th>14</th>\n",
       "      <td>Drainage Credit</td>\n",
       "      <td>42.304727</td>\n",
       "      <td>-83.125389</td>\n",
       "      <td>Springwells</td>\n",
       "      <td>District 6</td>\n",
       "    </tr>\n",
       "    <tr>\n",
       "      <th>65</th>\n",
       "      <td>Private - No Credit</td>\n",
       "      <td>42.385402</td>\n",
       "      <td>-82.958615</td>\n",
       "      <td>Fox Creek</td>\n",
       "      <td>District 4</td>\n",
       "    </tr>\n",
       "    <tr>\n",
       "      <th>66</th>\n",
       "      <td>Private - No Credit</td>\n",
       "      <td>42.351603</td>\n",
       "      <td>-83.064737</td>\n",
       "      <td>Midtown</td>\n",
       "      <td>District 6</td>\n",
       "    </tr>\n",
       "  </tbody>\n",
       "</table>\n",
       "</div>"
      ],
      "text/plain": [
       "         asset_category   latitude  longtitude neighborhood    district\n",
       "14      Drainage Credit  42.304727  -83.125389  Springwells  District 6\n",
       "65  Private - No Credit  42.385402  -82.958615    Fox Creek  District 4\n",
       "66  Private - No Credit  42.351603  -83.064737      Midtown  District 6"
      ]
     },
     "execution_count": 27,
     "metadata": {},
     "output_type": "execute_result"
    }
   ],
   "source": [
    "storm.dropna(inplace=True)\n",
    "storm.head(3)"
   ]
  },
  {
   "cell_type": "markdown",
   "metadata": {},
   "source": [
    "It seems that none of the rows include any null values, and we're only limiting our dataset to the columns that we prefer to have. Our data is now relatively tidy. "
   ]
  },
  {
   "cell_type": "markdown",
>>>>>>> 10b2ec8fa245a9b475d5af674000b2ddb56062fa
   "metadata": {},
   "source": [
    "### Master Plan Neighborhoods"
   ]
  },
  {
   "cell_type": "code",
   "execution_count": 68,
   "metadata": {
    "scrolled": true
   },
   "outputs": [
    {
     "data": {
      "text/html": [
       "<div>\n",
       "<style scoped>\n",
       "    .dataframe tbody tr th:only-of-type {\n",
       "        vertical-align: middle;\n",
       "    }\n",
       "\n",
       "    .dataframe tbody tr th {\n",
       "        vertical-align: top;\n",
       "    }\n",
       "\n",
       "    .dataframe thead th {\n",
       "        text-align: right;\n",
       "    }\n",
       "</style>\n",
       "<table border=\"1\" class=\"dataframe\">\n",
       "  <thead>\n",
       "    <tr style=\"text-align: right;\">\n",
       "      <th></th>\n",
       "      <th>FID</th>\n",
       "      <th>NHOOD</th>\n",
       "      <th>Cluster</th>\n",
       "      <th>MapNo</th>\n",
       "      <th>NeighC</th>\n",
       "      <th>MapPage</th>\n",
       "      <th>MapPage_LU</th>\n",
       "      <th>F4Color_key</th>\n",
       "      <th>SHAPE_Length</th>\n",
       "      <th>SHAPE_Area</th>\n",
       "    </tr>\n",
       "  </thead>\n",
       "  <tbody>\n",
       "    <tr>\n",
       "      <th>0</th>\n",
       "      <td>1</td>\n",
       "      <td>Airport</td>\n",
       "      <td>1</td>\n",
       "      <td>1</td>\n",
       "      <td>Neighborhood Cluster 1</td>\n",
       "      <td>Map 1-1B</td>\n",
       "      <td>Map 1-1A</td>\n",
       "      <td>0</td>\n",
       "      <td>49178.410893</td>\n",
       "      <td>1.292113e+08</td>\n",
       "    </tr>\n",
       "    <tr>\n",
       "      <th>1</th>\n",
       "      <td>2</td>\n",
       "      <td>Bagley</td>\n",
       "      <td>10</td>\n",
       "      <td>1</td>\n",
       "      <td>Neighborhood Cluster 10</td>\n",
       "      <td>Map 10-1B</td>\n",
       "      <td>Map 10-1A</td>\n",
       "      <td>3</td>\n",
       "      <td>32646.892258</td>\n",
       "      <td>5.437710e+07</td>\n",
       "    </tr>\n",
       "    <tr>\n",
       "      <th>2</th>\n",
       "      <td>3</td>\n",
       "      <td>Boynton</td>\n",
       "      <td>5</td>\n",
       "      <td>1</td>\n",
       "      <td>Neighborhood Cluster 5</td>\n",
       "      <td>Map 5-1B</td>\n",
       "      <td>Map 5-1A</td>\n",
       "      <td>1</td>\n",
       "      <td>39759.946468</td>\n",
       "      <td>6.496687e+07</td>\n",
       "    </tr>\n",
       "    <tr>\n",
       "      <th>3</th>\n",
       "      <td>4</td>\n",
       "      <td>Brightmoor</td>\n",
       "      <td>8</td>\n",
       "      <td>1</td>\n",
       "      <td>Neighborhood Cluster 8</td>\n",
       "      <td>Map 8-1B</td>\n",
       "      <td>Map 8-1A</td>\n",
       "      <td>1</td>\n",
       "      <td>54589.268292</td>\n",
       "      <td>1.089440e+08</td>\n",
       "    </tr>\n",
       "    <tr>\n",
       "      <th>4</th>\n",
       "      <td>5</td>\n",
       "      <td>Brooks</td>\n",
       "      <td>7</td>\n",
       "      <td>1</td>\n",
       "      <td>Neighborhood Cluster 7</td>\n",
       "      <td>Map 7-1B</td>\n",
       "      <td>Map 7-1A</td>\n",
       "      <td>1</td>\n",
       "      <td>51172.011857</td>\n",
       "      <td>1.249278e+08</td>\n",
       "    </tr>\n",
       "  </tbody>\n",
       "</table>\n",
       "</div>"
      ],
      "text/plain": [
       "   FID       NHOOD  Cluster  MapNo                   NeighC    MapPage  \\\n",
       "0    1     Airport        1      1   Neighborhood Cluster 1   Map 1-1B   \n",
       "1    2      Bagley       10      1  Neighborhood Cluster 10  Map 10-1B   \n",
       "2    3     Boynton        5      1   Neighborhood Cluster 5   Map 5-1B   \n",
       "3    4  Brightmoor        8      1   Neighborhood Cluster 8   Map 8-1B   \n",
       "4    5      Brooks        7      1   Neighborhood Cluster 7   Map 7-1B   \n",
       "\n",
       "  MapPage_LU  F4Color_key  SHAPE_Length    SHAPE_Area  \n",
       "0   Map 1-1A            0  49178.410893  1.292113e+08  \n",
       "1  Map 10-1A            3  32646.892258  5.437710e+07  \n",
       "2   Map 5-1A            1  39759.946468  6.496687e+07  \n",
       "3   Map 8-1A            1  54589.268292  1.089440e+08  \n",
       "4   Map 7-1A            1  51172.011857  1.249278e+08  "
      ]
     },
<<<<<<< HEAD
     "execution_count": 25,
=======
     "execution_count": 68,
>>>>>>> 10b2ec8fa245a9b475d5af674000b2ddb56062fa
     "metadata": {},
     "output_type": "execute_result"
    }
   ],
   "source": [
    "plan = pd.read_csv('data/Master_Plan_Neighborhoods.csv')\n",
    "plan.head()"
   ]
  },
  {
   "cell_type": "code",
<<<<<<< HEAD
   "execution_count": 26,
   "metadata": {},
=======
   "execution_count": 29,
   "metadata": {
    "scrolled": true
   },
>>>>>>> 10b2ec8fa245a9b475d5af674000b2ddb56062fa
   "outputs": [
    {
     "data": {
      "text/plain": [
       "(54, 10)"
      ]
     },
<<<<<<< HEAD
     "execution_count": 26,
=======
     "execution_count": 29,
>>>>>>> 10b2ec8fa245a9b475d5af674000b2ddb56062fa
     "metadata": {},
     "output_type": "execute_result"
    }
   ],
   "source": [
    "plan.shape"
   ]
  },
  {
   "cell_type": "markdown",
   "metadata": {},
   "source": [
<<<<<<< HEAD
    "This is also a comparatively small dataset, as it's taking a subset of neighborhoods from the city of Detroit."
   ]
  },
  {
   "cell_type": "markdown",
   "metadata": {},
   "source": [
    "#### Selecting Columns"
   ]
  },
  {
   "cell_type": "code",
   "execution_count": 29,
   "metadata": {},
   "outputs": [
    {
     "data": {
      "text/html": [
       "<div>\n",
       "<style scoped>\n",
       "    .dataframe tbody tr th:only-of-type {\n",
       "        vertical-align: middle;\n",
       "    }\n",
       "\n",
       "    .dataframe tbody tr th {\n",
       "        vertical-align: top;\n",
       "    }\n",
       "\n",
       "    .dataframe thead th {\n",
       "        text-align: right;\n",
       "    }\n",
       "</style>\n",
       "<table border=\"1\" class=\"dataframe\">\n",
       "  <thead>\n",
       "    <tr style=\"text-align: right;\">\n",
       "      <th></th>\n",
       "      <th>NHOOD</th>\n",
       "    </tr>\n",
       "  </thead>\n",
       "  <tbody>\n",
       "    <tr>\n",
       "      <th>0</th>\n",
       "      <td>Airport</td>\n",
       "    </tr>\n",
       "    <tr>\n",
       "      <th>1</th>\n",
       "      <td>Bagley</td>\n",
       "    </tr>\n",
       "    <tr>\n",
       "      <th>2</th>\n",
       "      <td>Boynton</td>\n",
       "    </tr>\n",
       "    <tr>\n",
       "      <th>3</th>\n",
       "      <td>Brightmoor</td>\n",
       "    </tr>\n",
       "    <tr>\n",
       "      <th>4</th>\n",
       "      <td>Brooks</td>\n",
       "    </tr>\n",
       "    <tr>\n",
       "      <th>5</th>\n",
       "      <td>Burbank</td>\n",
       "    </tr>\n",
       "    <tr>\n",
       "      <th>6</th>\n",
       "      <td>Butzel</td>\n",
       "    </tr>\n",
       "    <tr>\n",
       "      <th>7</th>\n",
       "      <td>Central Business District</td>\n",
       "    </tr>\n",
       "    <tr>\n",
       "      <th>8</th>\n",
       "      <td>Cerveny / Grandmont</td>\n",
       "    </tr>\n",
       "    <tr>\n",
       "      <th>9</th>\n",
       "      <td>Chadsey</td>\n",
       "    </tr>\n",
       "    <tr>\n",
       "      <th>10</th>\n",
       "      <td>Chandler Park</td>\n",
       "    </tr>\n",
       "    <tr>\n",
       "      <th>11</th>\n",
       "      <td>Cody</td>\n",
       "    </tr>\n",
       "    <tr>\n",
       "      <th>12</th>\n",
       "      <td>Condon</td>\n",
       "    </tr>\n",
       "    <tr>\n",
       "      <th>13</th>\n",
       "      <td>Conner</td>\n",
       "    </tr>\n",
       "    <tr>\n",
       "      <th>14</th>\n",
       "      <td>Corktown</td>\n",
       "    </tr>\n",
       "    <tr>\n",
       "      <th>15</th>\n",
       "      <td>Davison</td>\n",
       "    </tr>\n",
       "    <tr>\n",
       "      <th>16</th>\n",
       "      <td>Denby</td>\n",
       "    </tr>\n",
       "    <tr>\n",
       "      <th>17</th>\n",
       "      <td>Durfee</td>\n",
       "    </tr>\n",
       "    <tr>\n",
       "      <th>18</th>\n",
       "      <td>East Riverside</td>\n",
       "    </tr>\n",
       "    <tr>\n",
       "      <th>19</th>\n",
       "      <td>Evergreen</td>\n",
       "    </tr>\n",
       "    <tr>\n",
       "      <th>20</th>\n",
       "      <td>Finney</td>\n",
       "    </tr>\n",
       "    <tr>\n",
       "      <th>21</th>\n",
       "      <td>Foch</td>\n",
       "    </tr>\n",
       "    <tr>\n",
       "      <th>22</th>\n",
       "      <td>Grant</td>\n",
       "    </tr>\n",
       "    <tr>\n",
       "      <th>23</th>\n",
       "      <td>Greenfield</td>\n",
       "    </tr>\n",
       "    <tr>\n",
       "      <th>24</th>\n",
       "      <td>Harmony Village</td>\n",
       "    </tr>\n",
       "    <tr>\n",
       "      <th>25</th>\n",
       "      <td>Hubbard Richard</td>\n",
       "    </tr>\n",
       "    <tr>\n",
       "      <th>26</th>\n",
       "      <td>Indian Village</td>\n",
       "    </tr>\n",
       "    <tr>\n",
       "      <th>27</th>\n",
       "      <td>Jefferson / Mack</td>\n",
       "    </tr>\n",
       "    <tr>\n",
       "      <th>28</th>\n",
       "      <td>Jeffries</td>\n",
       "    </tr>\n",
       "    <tr>\n",
       "      <th>29</th>\n",
       "      <td>Kettering</td>\n",
       "    </tr>\n",
       "    <tr>\n",
       "      <th>30</th>\n",
       "      <td>Lower East Central</td>\n",
       "    </tr>\n",
       "    <tr>\n",
       "      <th>31</th>\n",
       "      <td>Lower Woodward</td>\n",
       "    </tr>\n",
       "    <tr>\n",
       "      <th>32</th>\n",
       "      <td>Mackenzie</td>\n",
       "    </tr>\n",
       "    <tr>\n",
       "      <th>33</th>\n",
       "      <td>McNichols</td>\n",
       "    </tr>\n",
       "    <tr>\n",
       "      <th>34</th>\n",
       "      <td>Middle East Central</td>\n",
       "    </tr>\n",
       "    <tr>\n",
       "      <th>35</th>\n",
       "      <td>Middle Woodward</td>\n",
       "    </tr>\n",
       "    <tr>\n",
       "      <th>36</th>\n",
       "      <td>Mt. Olivet</td>\n",
       "    </tr>\n",
       "    <tr>\n",
       "      <th>37</th>\n",
       "      <td>Near East Riverfront</td>\n",
       "    </tr>\n",
       "    <tr>\n",
       "      <th>38</th>\n",
       "      <td>Nolan</td>\n",
       "    </tr>\n",
       "    <tr>\n",
       "      <th>39</th>\n",
       "      <td>Palmer Park</td>\n",
       "    </tr>\n",
       "    <tr>\n",
       "      <th>40</th>\n",
       "      <td>Pembroke</td>\n",
       "    </tr>\n",
       "    <tr>\n",
       "      <th>41</th>\n",
       "      <td>Pershing</td>\n",
       "    </tr>\n",
       "    <tr>\n",
       "      <th>42</th>\n",
       "      <td>Redford</td>\n",
       "    </tr>\n",
       "    <tr>\n",
       "      <th>43</th>\n",
       "      <td>Rosa Parks</td>\n",
       "    </tr>\n",
       "    <tr>\n",
       "      <th>44</th>\n",
       "      <td>Rosedale</td>\n",
       "    </tr>\n",
       "    <tr>\n",
       "      <th>45</th>\n",
       "      <td>Rouge</td>\n",
       "    </tr>\n",
       "    <tr>\n",
       "      <th>46</th>\n",
       "      <td>Springwells</td>\n",
       "    </tr>\n",
       "    <tr>\n",
       "      <th>47</th>\n",
       "      <td>St. Jean</td>\n",
       "    </tr>\n",
       "    <tr>\n",
       "      <th>48</th>\n",
       "      <td>State Fair</td>\n",
       "    </tr>\n",
       "    <tr>\n",
       "      <th>49</th>\n",
       "      <td>Tireman</td>\n",
       "    </tr>\n",
       "    <tr>\n",
       "      <th>50</th>\n",
       "      <td>Upper East Central</td>\n",
       "    </tr>\n",
       "    <tr>\n",
       "      <th>51</th>\n",
       "      <td>Vernor / Junction</td>\n",
       "    </tr>\n",
       "    <tr>\n",
       "      <th>52</th>\n",
       "      <td>West Riverfront</td>\n",
       "    </tr>\n",
       "    <tr>\n",
       "      <th>53</th>\n",
       "      <td>Winterhalter</td>\n",
       "    </tr>\n",
       "  </tbody>\n",
       "</table>\n",
       "</div>"
      ],
      "text/plain": [
       "                        NHOOD\n",
       "0                     Airport\n",
       "1                      Bagley\n",
       "2                     Boynton\n",
       "3                  Brightmoor\n",
       "4                      Brooks\n",
       "5                     Burbank\n",
       "6                      Butzel\n",
       "7   Central Business District\n",
       "8         Cerveny / Grandmont\n",
       "9                     Chadsey\n",
       "10              Chandler Park\n",
       "11                       Cody\n",
       "12                     Condon\n",
       "13                     Conner\n",
       "14                   Corktown\n",
       "15                    Davison\n",
       "16                      Denby\n",
       "17                     Durfee\n",
       "18             East Riverside\n",
       "19                  Evergreen\n",
       "20                     Finney\n",
       "21                       Foch\n",
       "22                      Grant\n",
       "23                 Greenfield\n",
       "24            Harmony Village\n",
       "25            Hubbard Richard\n",
       "26             Indian Village\n",
       "27           Jefferson / Mack\n",
       "28                   Jeffries\n",
       "29                  Kettering\n",
       "30         Lower East Central\n",
       "31             Lower Woodward\n",
       "32                  Mackenzie\n",
       "33                  McNichols\n",
       "34        Middle East Central\n",
       "35            Middle Woodward\n",
       "36                 Mt. Olivet\n",
       "37       Near East Riverfront\n",
       "38                      Nolan\n",
       "39                Palmer Park\n",
       "40                   Pembroke\n",
       "41                   Pershing\n",
       "42                    Redford\n",
       "43                 Rosa Parks\n",
       "44                   Rosedale\n",
       "45                      Rouge\n",
       "46                Springwells\n",
       "47                   St. Jean\n",
       "48                 State Fair\n",
       "49                    Tireman\n",
       "50         Upper East Central\n",
       "51          Vernor / Junction\n",
       "52            West Riverfront\n",
       "53               Winterhalter"
      ]
     },
     "execution_count": 29,
     "metadata": {},
     "output_type": "execute_result"
    }
   ],
   "source": [
    "plan = plan['NHOOD'].to_frame()\n",
    "plan"
   ]
  },
  {
   "cell_type": "markdown",
   "metadata": {},
   "source": [
    "## Combining Datasets\n",
    "### `crime` and `scout`\n",
    "We will not be using conventional DataFrame merging operations on these two datasets, since `scout` is just a column of precincts. Instead, we will append a new column to `crime`, `is_patrolled`, indicating whether a precinct in that dataset is in `scout`. This will be a new categorical feature."
=======
    "The column with the F4Color_key doesn't seem to be relevant to our project currently, so we drop that entire column. "
>>>>>>> 10b2ec8fa245a9b475d5af674000b2ddb56062fa
   ]
  },
  {
   "cell_type": "code",
   "execution_count": 27,
   "metadata": {},
   "outputs": [
    {
     "data": {
<<<<<<< HEAD
=======
      "text/html": [
       "<div>\n",
       "<style scoped>\n",
       "    .dataframe tbody tr th:only-of-type {\n",
       "        vertical-align: middle;\n",
       "    }\n",
       "\n",
       "    .dataframe tbody tr th {\n",
       "        vertical-align: top;\n",
       "    }\n",
       "\n",
       "    .dataframe thead th {\n",
       "        text-align: right;\n",
       "    }\n",
       "</style>\n",
       "<table border=\"1\" class=\"dataframe\">\n",
       "  <thead>\n",
       "    <tr style=\"text-align: right;\">\n",
       "      <th></th>\n",
       "      <th>FID</th>\n",
       "      <th>NHOOD</th>\n",
       "      <th>Cluster</th>\n",
       "      <th>MapNo</th>\n",
       "      <th>NeighC</th>\n",
       "      <th>MapPage</th>\n",
       "      <th>MapPage_LU</th>\n",
       "      <th>SHAPE_Length</th>\n",
       "      <th>SHAPE_Area</th>\n",
       "    </tr>\n",
       "  </thead>\n",
       "  <tbody>\n",
       "    <tr>\n",
       "      <th>0</th>\n",
       "      <td>1</td>\n",
       "      <td>Airport</td>\n",
       "      <td>1</td>\n",
       "      <td>1</td>\n",
       "      <td>Neighborhood Cluster 1</td>\n",
       "      <td>Map 1-1B</td>\n",
       "      <td>Map 1-1A</td>\n",
       "      <td>49178.410893</td>\n",
       "      <td>1.292113e+08</td>\n",
       "    </tr>\n",
       "    <tr>\n",
       "      <th>1</th>\n",
       "      <td>2</td>\n",
       "      <td>Bagley</td>\n",
       "      <td>10</td>\n",
       "      <td>1</td>\n",
       "      <td>Neighborhood Cluster 10</td>\n",
       "      <td>Map 10-1B</td>\n",
       "      <td>Map 10-1A</td>\n",
       "      <td>32646.892258</td>\n",
       "      <td>5.437710e+07</td>\n",
       "    </tr>\n",
       "    <tr>\n",
       "      <th>2</th>\n",
       "      <td>3</td>\n",
       "      <td>Boynton</td>\n",
       "      <td>5</td>\n",
       "      <td>1</td>\n",
       "      <td>Neighborhood Cluster 5</td>\n",
       "      <td>Map 5-1B</td>\n",
       "      <td>Map 5-1A</td>\n",
       "      <td>39759.946468</td>\n",
       "      <td>6.496687e+07</td>\n",
       "    </tr>\n",
       "  </tbody>\n",
       "</table>\n",
       "</div>"
      ],
      "text/plain": [
       "   FID    NHOOD  Cluster  MapNo                   NeighC    MapPage  \\\n",
       "0    1  Airport        1      1   Neighborhood Cluster 1   Map 1-1B   \n",
       "1    2   Bagley       10      1  Neighborhood Cluster 10  Map 10-1B   \n",
       "2    3  Boynton        5      1   Neighborhood Cluster 5   Map 5-1B   \n",
       "\n",
       "  MapPage_LU  SHAPE_Length    SHAPE_Area  \n",
       "0   Map 1-1A  49178.410893  1.292113e+08  \n",
       "1  Map 10-1A  32646.892258  5.437710e+07  \n",
       "2   Map 5-1A  39759.946468  6.496687e+07  "
      ]
     },
     "execution_count": 30,
     "metadata": {},
     "output_type": "execute_result"
    }
   ],
   "source": [
    "plan = plan.drop(columns = [\"F4Color_key\"])\n",
    "plan.head(3)"
   ]
  },
  {
   "cell_type": "code",
   "execution_count": 31,
   "metadata": {},
   "outputs": [
    {
     "data": {
      "text/plain": [
       "FID             0\n",
       "NHOOD           0\n",
       "Cluster         0\n",
       "MapNo           0\n",
       "NeighC          0\n",
       "MapPage         0\n",
       "MapPage_LU      0\n",
       "SHAPE_Length    0\n",
       "SHAPE_Area      0\n",
       "dtype: int64"
      ]
     },
     "execution_count": 31,
     "metadata": {},
     "output_type": "execute_result"
    }
   ],
   "source": [
    "plan.isnull().sum()"
   ]
  },
  {
   "cell_type": "markdown",
   "metadata": {},
   "source": [
    "We can see that there are no columns containing null values, hence we don't need to drop any rows. "
   ]
  },
  {
   "cell_type": "markdown",
   "metadata": {},
   "source": [
    "### SMART Bus Stops"
   ]
  },
  {
   "cell_type": "code",
   "execution_count": 112,
   "metadata": {
    "scrolled": true
   },
   "outputs": [
    {
     "data": {
      "text/html": [
       "<div>\n",
       "<style scoped>\n",
       "    .dataframe tbody tr th:only-of-type {\n",
       "        vertical-align: middle;\n",
       "    }\n",
       "\n",
       "    .dataframe tbody tr th {\n",
       "        vertical-align: top;\n",
       "    }\n",
       "\n",
       "    .dataframe thead th {\n",
       "        text-align: right;\n",
       "    }\n",
       "</style>\n",
       "<table border=\"1\" class=\"dataframe\">\n",
       "  <thead>\n",
       "    <tr style=\"text-align: right;\">\n",
       "      <th></th>\n",
       "      <th>stop_id</th>\n",
       "      <th>stop_name</th>\n",
       "      <th>stop_desc</th>\n",
       "      <th>stop_lat</th>\n",
       "      <th>stop_lon</th>\n",
       "      <th>zone_id</th>\n",
       "      <th>stop_url</th>\n",
       "      <th>ObjectId</th>\n",
       "    </tr>\n",
       "  </thead>\n",
       "  <tbody>\n",
       "    <tr>\n",
       "      <th>0</th>\n",
       "      <td>11206</td>\n",
       "      <td>CROOKS @ CORPORATE</td>\n",
       "      <td></td>\n",
       "      <td>42.596711</td>\n",
       "      <td>-83.169073</td>\n",
       "      <td></td>\n",
       "      <td></td>\n",
       "      <td>1</td>\n",
       "    </tr>\n",
       "    <tr>\n",
       "      <th>1</th>\n",
       "      <td>11340</td>\n",
       "      <td>HARPER @ HARVARD SHORE</td>\n",
       "      <td></td>\n",
       "      <td>42.544576</td>\n",
       "      <td>-82.878570</td>\n",
       "      <td></td>\n",
       "      <td></td>\n",
       "      <td>2</td>\n",
       "    </tr>\n",
       "    <tr>\n",
       "      <th>2</th>\n",
       "      <td>11486</td>\n",
       "      <td>13 MILE RD @ KENDALL</td>\n",
       "      <td></td>\n",
       "      <td>42.524145</td>\n",
       "      <td>-82.950508</td>\n",
       "      <td></td>\n",
       "      <td></td>\n",
       "      <td>3</td>\n",
       "    </tr>\n",
       "    <tr>\n",
       "      <th>3</th>\n",
       "      <td>11533</td>\n",
       "      <td>12 MILE RD @ SMYTH</td>\n",
       "      <td></td>\n",
       "      <td>42.502058</td>\n",
       "      <td>-83.233033</td>\n",
       "      <td></td>\n",
       "      <td></td>\n",
       "      <td>4</td>\n",
       "    </tr>\n",
       "    <tr>\n",
       "      <th>4</th>\n",
       "      <td>11635</td>\n",
       "      <td>13 MILE RD @ XKENDALL</td>\n",
       "      <td></td>\n",
       "      <td>42.523985</td>\n",
       "      <td>-82.950270</td>\n",
       "      <td></td>\n",
       "      <td></td>\n",
       "      <td>5</td>\n",
       "    </tr>\n",
       "  </tbody>\n",
       "</table>\n",
       "</div>"
      ],
      "text/plain": [
       "   stop_id               stop_name stop_desc   stop_lat   stop_lon zone_id  \\\n",
       "0    11206      CROOKS @ CORPORATE            42.596711 -83.169073           \n",
       "1    11340  HARPER @ HARVARD SHORE            42.544576 -82.878570           \n",
       "2    11486    13 MILE RD @ KENDALL            42.524145 -82.950508           \n",
       "3    11533      12 MILE RD @ SMYTH            42.502058 -83.233033           \n",
       "4    11635   13 MILE RD @ XKENDALL            42.523985 -82.950270           \n",
       "\n",
       "  stop_url  ObjectId  \n",
       "0                  1  \n",
       "1                  2  \n",
       "2                  3  \n",
       "3                  4  \n",
       "4                  5  "
      ]
     },
     "execution_count": 112,
     "metadata": {},
     "output_type": "execute_result"
    }
   ],
   "source": [
    "bus = pd.read_csv('data/SMART_Bus_Stops.csv')\n",
    "bus.head()"
   ]
  },
  {
   "cell_type": "code",
   "execution_count": 113,
   "metadata": {},
   "outputs": [
    {
     "data": {
      "text/plain": [
       "(5372, 8)"
      ]
     },
     "execution_count": 113,
     "metadata": {},
     "output_type": "execute_result"
    }
   ],
   "source": [
    "bus.shape"
   ]
  },
  {
   "cell_type": "code",
   "execution_count": 114,
   "metadata": {
    "scrolled": true
   },
   "outputs": [
    {
     "data": {
      "text/plain": [
       "stop_id        int64\n",
       "stop_name     object\n",
       "stop_desc     object\n",
       "stop_lat     float64\n",
       "stop_lon     float64\n",
       "zone_id       object\n",
       "stop_url      object\n",
       "ObjectId       int64\n",
       "dtype: object"
      ]
     },
     "execution_count": 114,
     "metadata": {},
     "output_type": "execute_result"
    }
   ],
   "source": [
    "bus.dtypes"
   ]
  },
  {
   "cell_type": "markdown",
   "metadata": {},
   "source": [
    "The columns stop_desc, zone_id and stop_url are null, so we drop those columns."
   ]
  },
  {
   "cell_type": "code",
   "execution_count": 119,
   "metadata": {
    "scrolled": true
   },
   "outputs": [
    {
     "data": {
      "text/html": [
       "<div>\n",
       "<style scoped>\n",
       "    .dataframe tbody tr th:only-of-type {\n",
       "        vertical-align: middle;\n",
       "    }\n",
       "\n",
       "    .dataframe tbody tr th {\n",
       "        vertical-align: top;\n",
       "    }\n",
       "\n",
       "    .dataframe thead th {\n",
       "        text-align: right;\n",
       "    }\n",
       "</style>\n",
       "<table border=\"1\" class=\"dataframe\">\n",
       "  <thead>\n",
       "    <tr style=\"text-align: right;\">\n",
       "      <th></th>\n",
       "      <th>stop_id</th>\n",
       "      <th>stop_name</th>\n",
       "      <th>stop_lat</th>\n",
       "    </tr>\n",
       "  </thead>\n",
       "  <tbody>\n",
       "    <tr>\n",
       "      <th>0</th>\n",
       "      <td>11206</td>\n",
       "      <td>CROOKS @ CORPORATE</td>\n",
       "      <td>42.596711</td>\n",
       "    </tr>\n",
       "    <tr>\n",
       "      <th>1</th>\n",
       "      <td>11340</td>\n",
       "      <td>HARPER @ HARVARD SHORE</td>\n",
       "      <td>42.544576</td>\n",
       "    </tr>\n",
       "    <tr>\n",
       "      <th>2</th>\n",
       "      <td>11486</td>\n",
       "      <td>13 MILE RD @ KENDALL</td>\n",
       "      <td>42.524145</td>\n",
       "    </tr>\n",
       "    <tr>\n",
       "      <th>3</th>\n",
       "      <td>11533</td>\n",
       "      <td>12 MILE RD @ SMYTH</td>\n",
       "      <td>42.502058</td>\n",
       "    </tr>\n",
       "    <tr>\n",
       "      <th>4</th>\n",
       "      <td>11635</td>\n",
       "      <td>13 MILE RD @ XKENDALL</td>\n",
       "      <td>42.523985</td>\n",
       "    </tr>\n",
       "  </tbody>\n",
       "</table>\n",
       "</div>"
      ],
      "text/plain": [
       "   stop_id               stop_name   stop_lat\n",
       "0    11206      CROOKS @ CORPORATE  42.596711\n",
       "1    11340  HARPER @ HARVARD SHORE  42.544576\n",
       "2    11486    13 MILE RD @ KENDALL  42.524145\n",
       "3    11533      12 MILE RD @ SMYTH  42.502058\n",
       "4    11635   13 MILE RD @ XKENDALL  42.523985"
      ]
     },
     "execution_count": 119,
     "metadata": {},
     "output_type": "execute_result"
    }
   ],
   "source": [
    "bus = bus[['stop_id','stop_name','stop_lat']]\n",
    "bus.head()"
   ]
  },
  {
   "cell_type": "code",
   "execution_count": 120,
   "metadata": {},
   "outputs": [
    {
     "data": {
      "text/plain": [
       "stop_id      0\n",
       "stop_name    0\n",
       "stop_lat     0\n",
       "dtype: int64"
      ]
     },
     "execution_count": 120,
     "metadata": {},
     "output_type": "execute_result"
    }
   ],
   "source": [
    "bus.isnull().sum()"
   ]
  },
  {
   "cell_type": "markdown",
   "metadata": {},
   "source": [
    "This is also a comparatively small dataset, as it's taking a subset of neighborhoods from the city of Detroit.\n",
    "## Combining Datasets\n",
    "### `crime` and `scout`\n",
    "We will not be using conventional DataFrame merging operations on these two datasets, since `scout` is just a column of precincts. Instead, we will append a new column to `crime`, `is_patrolled`, indicating whether a precinct in that dataset is in `scout`. This will be a new categorical feature."
   ]
  },
  {
   "cell_type": "code",
   "execution_count": 122,
   "metadata": {},
   "outputs": [
    {
     "data": {
>>>>>>> 10b2ec8fa245a9b475d5af674000b2ddb56062fa
      "text/plain": [
       "Text(0, 0.5, 'Frequency')"
      ]
     },
<<<<<<< HEAD
     "execution_count": 27,
=======
     "execution_count": 122,
>>>>>>> 10b2ec8fa245a9b475d5af674000b2ddb56062fa
     "metadata": {},
     "output_type": "execute_result"
    },
    {
     "data": {
      "image/png": "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\n",
      "text/plain": [
       "<Figure size 432x288 with 1 Axes>"
      ]
     },
     "metadata": {},
     "output_type": "display_data"
    }
   ],
   "source": [
    "crime['is_patrolled'] = np.where(crime['precinct'].isin(scout['precinct']), 1, 0)\n",
    "crime['is_patrolled'].hist()\n",
    "plt.title('is_patrolled Precinct Distribution')\n",
    "plt.xlabel('is_patrolled')\n",
    "plt.ylabel('Frequency')"
   ]
  },
  {
   "cell_type": "markdown",
   "metadata": {},
   "source": [
    "This column isn't very interesting because only one neighborhood isn't patrolled, and this distribution yields a huge class imbalance. However, as seem in the `scout` precinct distributions, some neighborhoods have more scouting areas than others. We can split these accounts into quartiles, and add a binary column, `patrolled_top_quartile`, to `crime`, to indicate, whether that neighborhood has a number of scouted areas that are in the upper quartile for the whole city."
   ]
  },
  {
   "cell_type": "code",
<<<<<<< HEAD
   "execution_count": 28,
=======
   "execution_count": 123,
>>>>>>> 10b2ec8fa245a9b475d5af674000b2ddb56062fa
   "metadata": {},
   "outputs": [
    {
     "data": {
      "text/plain": [
       "Text(0, 0.5, 'Frequency')"
      ]
     },
<<<<<<< HEAD
     "execution_count": 28,
=======
     "execution_count": 123,
>>>>>>> 10b2ec8fa245a9b475d5af674000b2ddb56062fa
     "metadata": {},
     "output_type": "execute_result"
    },
    {
     "data": {
      "image/png": "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\n",
      "text/plain": [
       "<Figure size 432x288 with 1 Axes>"
      ]
     },
     "metadata": {},
     "output_type": "display_data"
    }
   ],
   "source": [
    "top_quartile_count = scout.value_counts().describe().loc['75%']\n",
    "top_quartile_precincts = scout.value_counts()[\n",
    "    scout.value_counts() >= top_quartile_count\n",
    "].index.get_level_values(0)\n",
    "\n",
    "crime['partolled_top_quartile'] = np.where(crime['precinct'].isin(top_quartile_precincts), 1, 0)\n",
    "crime['partolled_top_quartile'].hist()\n",
    "plt.title('is_patrolled_top_quartile Precinct Distribution')\n",
    "plt.xlabel('is_patrolled')\n",
    "plt.ylabel('Frequency')"
   ]
  },
  {
   "cell_type": "markdown",
   "metadata": {},
   "source": [
    "The balance isn't as prominent as before, but it's still there, which, taken into real-world context, is good. Note that this column is not an purely an indicator of the DPD's decisions on where to patrol. Since we are measuring number of areas in each precinct, this column can also take into account factors like size.\n",
    "\n",
    "We have added two new columns based on information from `scouts` into our master dataset.\n",
    "\n",
    "### `crime` and `storm`"
   ]
  }
 ],
 "metadata": {
  "kernelspec": {
   "display_name": "Python 3",
   "language": "python",
   "name": "python3"
  },
  "language_info": {
   "codemirror_mode": {
    "name": "ipython",
    "version": 3
   },
   "file_extension": ".py",
   "mimetype": "text/x-python",
   "name": "python",
   "nbconvert_exporter": "python",
   "pygments_lexer": "ipython3",
   "version": "3.8.5"
  }
 },
 "nbformat": 4,
 "nbformat_minor": 4
}
